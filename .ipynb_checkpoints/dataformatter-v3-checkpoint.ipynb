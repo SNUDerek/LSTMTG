{
 "cells": [
  {
   "cell_type": "code",
   "execution_count": 1,
   "metadata": {},
   "outputs": [],
   "source": [
    "import numpy as np\n",
    "import re\n",
    "from collections import Counter"
   ]
  },
  {
   "cell_type": "code",
   "execution_count": 2,
   "metadata": {},
   "outputs": [],
   "source": [
    "setnm = list(np.load('data//numpy//setnm.npy'))\n",
    "idnum = list(np.load('data//numpy//idnum.npy'))\n",
    "names = list(np.load('data//numpy//names.npy'))\n",
    "mcost = list(np.load('data//numpy//mcost.npy'))\n",
    "rarty = list(np.load('data//numpy//rarty.npy'))\n",
    "types = list(np.load('data//numpy//types.npy'))\n",
    "subtp = list(np.load('data//numpy//subtp.npy'))\n",
    "ctext = list(np.load('data//numpy//ctext_orig.npy'))\n",
    "power = list(np.load('data//numpy//power.npy'))\n",
    "tough = list(np.load('data//numpy//tough.npy'))"
   ]
  },
  {
   "cell_type": "markdown",
   "metadata": {},
   "source": [
    "### encode the rarities as capital letters"
   ]
  },
  {
   "cell_type": "code",
   "execution_count": 3,
   "metadata": {},
   "outputs": [
    {
     "data": {
      "text/plain": [
       "['M', 'C', 'U', 'R', 'S']"
      ]
     },
     "execution_count": 3,
     "metadata": {},
     "output_type": "execute_result"
    }
   ],
   "source": [
    "rletr = [w[0] for w in rarty]\n",
    "list(set(rletr))"
   ]
  },
  {
   "cell_type": "markdown",
   "metadata": {},
   "source": [
    "### encode the types, subtypes as lower-cased words separated by a symbol '·'"
   ]
  },
  {
   "cell_type": "code",
   "execution_count": 4,
   "metadata": {},
   "outputs": [],
   "source": [
    "typss = []\n",
    "for x in types:\n",
    "    item = ''\n",
    "    lst = str(x).split(' ')\n",
    "    for idx, tp in enumerate(lst):\n",
    "        item += tp.lower()\n",
    "        if idx < len(lst)-1:\n",
    "            item += '·'\n",
    "    \n",
    "    typss.append(item)    "
   ]
  },
  {
   "cell_type": "code",
   "execution_count": 5,
   "metadata": {},
   "outputs": [
    {
     "data": {
      "text/plain": [
       "{'artifact',\n",
       " 'artifact·creature',\n",
       " 'creature',\n",
       " 'enchantment',\n",
       " 'enchantment·artifact',\n",
       " 'enchantment·creature',\n",
       " 'instant',\n",
       " 'planeswalker',\n",
       " 'sorcery',\n",
       " 'tribal·artifact',\n",
       " 'tribal·enchantment',\n",
       " 'tribal·instant',\n",
       " 'tribal·sorcery'}"
      ]
     },
     "execution_count": 5,
     "metadata": {},
     "output_type": "execute_result"
    }
   ],
   "source": [
    "set(typss)"
   ]
  },
  {
   "cell_type": "code",
   "execution_count": 6,
   "metadata": {},
   "outputs": [],
   "source": [
    "subts = []\n",
    "for lst in subtp:\n",
    "    item = ''\n",
    "    lst = list(lst)\n",
    "    for idx, subtype in enumerate(lst):\n",
    "        if subtype != 'PAD':\n",
    "            item += subtype.lower()\n",
    "        if idx < len(lst)-1:\n",
    "            if lst[idx+1] != 'PAD':\n",
    "                item += '·'\n",
    "    \n",
    "    if item == '':\n",
    "        item = '⌧'\n",
    "    \n",
    "    subts.append(item)    "
   ]
  },
  {
   "cell_type": "markdown",
   "metadata": {},
   "source": [
    "### remove reminder text\n",
    "strip all text between parentheses"
   ]
  },
  {
   "cell_type": "code",
   "execution_count": 7,
   "metadata": {},
   "outputs": [
    {
     "data": {
      "text/plain": [
       "['first strike (this creature deals combat damage before creatures without first strike.)|when Ⓝ enters the battlefield, you gain 1 life for each card in your graveyard.',\n",
       " 'flying|when Ⓝ enters the battlefield, you gain 3 life.',\n",
       " \"target creature gets +3/+3 and gains flying until end of turn. (it can't be blocked except by creatures with flying or reach.)\",\n",
       " 'whenever a creature enters the battlefield under your control, you gain life equal to its toughness.',\n",
       " \"defender (this creature can't attack.)|flying\",\n",
       " 'artifact and enchantment spells your opponents cast cost ② more to cast.|sacrifice Ⓝ: destroy target artifact or enchantment.',\n",
       " \"flying (this creature can't be blocked except by creatures with flying or reach.)|when Ⓝ enters the battlefield, destroy target enchantment.\",\n",
       " 'ⓍⓌ, ↷: Ⓝ deals x damage to target attacking or blocking creature.',\n",
       " 'prevent the next 1 damage that would be dealt to target creature or player this turn.|draw a card.',\n",
       " \"double target player's life total. shuffle Ⓝ into its owner's library.\"]"
      ]
     },
     "execution_count": 7,
     "metadata": {},
     "output_type": "execute_result"
    }
   ],
   "source": [
    "ctext[:10]"
   ]
  },
  {
   "cell_type": "code",
   "execution_count": 8,
   "metadata": {},
   "outputs": [],
   "source": [
    "ctext_new = []\n",
    "for text in ctext:\n",
    "    new_text = re.sub(r'\\s\\([\\S\\s]+\\)', '', text)\n",
    "    new_text = new_text.replace('|', '·')\n",
    "    ctext_new.append(new_text)"
   ]
  },
  {
   "cell_type": "code",
   "execution_count": 9,
   "metadata": {},
   "outputs": [
    {
     "data": {
      "text/plain": [
       "['first strike·when Ⓝ enters the battlefield, you gain 1 life for each card in your graveyard.',\n",
       " 'flying·when Ⓝ enters the battlefield, you gain 3 life.',\n",
       " 'target creature gets +3/+3 and gains flying until end of turn.',\n",
       " 'whenever a creature enters the battlefield under your control, you gain life equal to its toughness.',\n",
       " 'defender·flying',\n",
       " 'artifact and enchantment spells your opponents cast cost ② more to cast.·sacrifice Ⓝ: destroy target artifact or enchantment.',\n",
       " 'flying·when Ⓝ enters the battlefield, destroy target enchantment.',\n",
       " 'ⓍⓌ, ↷: Ⓝ deals x damage to target attacking or blocking creature.',\n",
       " 'prevent the next 1 damage that would be dealt to target creature or player this turn.·draw a card.',\n",
       " \"double target player's life total. shuffle Ⓝ into its owner's library.\"]"
      ]
     },
     "execution_count": 9,
     "metadata": {},
     "output_type": "execute_result"
    }
   ],
   "source": [
    "ctext_new[:10]"
   ]
  },
  {
   "cell_type": "markdown",
   "metadata": {},
   "source": [
    "### combine items into string with '|' separator\n",
    "[mcost|rletr|typss|subts|ctext_new|power|tough]\n",
    "don't add power/tough if not needed\n",
    "use START symbol: Ⓢ and EOF symbol: Ⓔ"
   ]
  },
  {
   "cell_type": "code",
   "execution_count": 10,
   "metadata": {},
   "outputs": [],
   "source": [
    "cardtext = []\n",
    "for i in range(len(names)):\n",
    "    lst = [names[i], mcost[i], rletr[i], typss[i], subts[i], ctext_new[i]]\n",
    "    \n",
    "    if power[i] != '⌧' and tough[i] != '⌧':\n",
    "        lst += [power[i], tough[i]]\n",
    "    \n",
    "    txt = '|'.join(lst)\n",
    "    txt += 'Ⓔ'\n",
    "    cardtext.append(txt)"
   ]
  },
  {
   "cell_type": "code",
   "execution_count": 11,
   "metadata": {},
   "outputs": [
    {
     "name": "stdout",
     "output_type": "stream",
     "text": [
      "ancestor's chosen|⑤ⓌⓌ|U|creature|human·cleric|first strike·when Ⓝ enters the battlefield, you gain 1 life for each card in your graveyard.|4|4Ⓔ\n",
      "angel of mercy|④Ⓦ|U|creature|angel|flying·when Ⓝ enters the battlefield, you gain 3 life.|3|3Ⓔ\n",
      "angelic blessing|②Ⓦ|C|sorcery|⌧|target creature gets +3/+3 and gains flying until end of turn.Ⓔ\n",
      "angelic chorus|③ⓌⓌ|R|enchantment|⌧|whenever a creature enters the battlefield under your control, you gain life equal to its toughness.Ⓔ\n",
      "angelic wall|①Ⓦ|C|creature|wall|defender·flying|0|4Ⓔ\n",
      "aura of silence|①ⓌⓌ|U|enchantment|⌧|artifact and enchantment spells your opponents cast cost ② more to cast.·sacrifice Ⓝ: destroy target artifact or enchantment.Ⓔ\n",
      "aven cloudchaser|③Ⓦ|C|creature|bird·soldier|flying·when Ⓝ enters the battlefield, destroy target enchantment.|2|2Ⓔ\n",
      "ballista squad|③Ⓦ|U|creature|human·rebel|ⓍⓌ, ↷: Ⓝ deals x damage to target attacking or blocking creature.|2|2Ⓔ\n",
      "bandage|Ⓦ|C|instant|⌧|prevent the next 1 damage that would be dealt to target creature or player this turn.·draw a card.Ⓔ\n",
      "beacon of immortality|⑤Ⓦ|R|instant|⌧|double target player's life total. shuffle Ⓝ into its owner's library.Ⓔ\n"
     ]
    }
   ],
   "source": [
    "for i in range(10):\n",
    "    print(cardtext[i])"
   ]
  },
  {
   "cell_type": "markdown",
   "metadata": {},
   "source": [
    "### save cardtexts"
   ]
  },
  {
   "cell_type": "code",
   "execution_count": 12,
   "metadata": {},
   "outputs": [],
   "source": [
    "# np.save('data/card_texts.npy', cardtext)"
   ]
  },
  {
   "cell_type": "markdown",
   "metadata": {},
   "source": [
    "### analysis & testing"
   ]
  },
  {
   "cell_type": "code",
   "execution_count": 13,
   "metadata": {},
   "outputs": [],
   "source": [
    "txtlens = [len(s) for s in cardtext]"
   ]
  },
  {
   "cell_type": "code",
   "execution_count": 14,
   "metadata": {},
   "outputs": [],
   "source": [
    "lencnts = Counter(txtlens)\n",
    "zips = lencnts.most_common()\n",
    "x = sorted(zips, key = lambda x: x[0], reverse=True)"
   ]
  },
  {
   "cell_type": "code",
   "execution_count": 15,
   "metadata": {},
   "outputs": [],
   "source": [
    "# x"
   ]
  },
  {
   "cell_type": "code",
   "execution_count": 16,
   "metadata": {},
   "outputs": [
    {
     "name": "stdout",
     "output_type": "stream",
     "text": [
      "% of cards over chosen idx: 0.061505434967799096\n"
     ]
    }
   ],
   "source": [
    "idx = 250\n",
    "over = sum([t[1] for t in x if t[0] > idx])\n",
    "undr = sum([t[1] for t in x if t[0] <= idx])\n",
    "print(\"% of cards over chosen idx:\", over/(over+undr))"
   ]
  },
  {
   "cell_type": "code",
   "execution_count": 17,
   "metadata": {},
   "outputs": [
    {
     "name": "stdout",
     "output_type": "stream",
     "text": [
      "dance of the dead|①Ⓑ|U|enchantment|aura|enchant creature card in a graveyard·when Ⓝ enters the battlefield, if it's on the battlefield, it loses \"enchant creature card in a graveyard\" and gains \"enchant creature put onto the battlefield with Ⓝ.\" put enchanted creature card onto the battlefield tapped under your control and attach Ⓝ to it. when Ⓝ leaves the battlefield, that creature's controller sacrifices it.·enchanted creature gets +1/+1 and doesn't untap during its controller's untap step.·at the beginning of the upkeep of enchanted creature's controller, that player may pay ①Ⓑ. if he or she does, untap that creature.Ⓔ\n"
     ]
    }
   ],
   "source": [
    "print(cardtext[txtlens.index(max(txtlens))])"
   ]
  },
  {
   "cell_type": "markdown",
   "metadata": {},
   "source": [
    "## generate batches\n",
    "\n",
    "START: Ⓢ  PAD: ⎕"
   ]
  },
  {
   "cell_type": "code",
   "execution_count": 18,
   "metadata": {},
   "outputs": [],
   "source": [
    "# first get vocabulary\n",
    "vocab = []\n",
    "vocabset = ['⎕'] # zero-pad PAD character\n",
    "for card in cardtext:\n",
    "    lst = list(card)\n",
    "    vocab += lst\n",
    "\n",
    "# add vocab according to frequency\n",
    "vocabset += [x[0] for x in sorted([t for t in Counter(vocab).most_common()], key=lambda x: x[1], reverse=True)]\n",
    "vocabset.append('Ⓢ') # START-PAD character\n",
    "\n",
    "c2i = dict([(c, i) for i, c in enumerate(vocabset)])\n",
    "i2c = dict([(i, c) for i, c in enumerate(vocabset)])"
   ]
  },
  {
   "cell_type": "code",
   "execution_count": 19,
   "metadata": {},
   "outputs": [
    {
     "data": {
      "text/plain": [
       "(1, '⎕')"
      ]
     },
     "execution_count": 19,
     "metadata": {},
     "output_type": "execute_result"
    }
   ],
   "source": [
    "c2i[' '], i2c[0]"
   ]
  },
  {
   "cell_type": "code",
   "execution_count": null,
   "metadata": {},
   "outputs": [],
   "source": [
    "# save\n",
    "# np.save('c2i.npy', c2i)\n",
    "# np.save('i2c.npy', i2c)"
   ]
  },
  {
   "cell_type": "code",
   "execution_count": 24,
   "metadata": {},
   "outputs": [],
   "source": [
    "def cardGenerator(cardtext, windowsize, cards_per_batch, c2i=c2i, debug=False):\n",
    "    \n",
    "    i = 0\n",
    "    indices = list(np.random.permutation(len(cardtext)))\n",
    "    idx = indices[i]\n",
    "    lastseq = ''\n",
    "    \n",
    "    def nextcard(cardtext, idx, debug=debug):\n",
    "        if debug:\n",
    "            card_idx = cardtext[idx]\n",
    "        else:\n",
    "            card_idx = [c2i[c] for c in cardtext[idx]]\n",
    "        \n",
    "        return list(card_idx)\n",
    "    \n",
    "    # pregenerate warmup sequence of windowsize\n",
    "    # get startup sequence with card longer than windowsize+1\n",
    "    while len(cardtext[idx]) < windowsize:\n",
    "        i += 1\n",
    "        idx = indices[i]\n",
    "    # 'pad' sequence with end of card\n",
    "    if debug:\n",
    "        sequence = list(cardtext[idx][-(windowsize):])\n",
    "    else:\n",
    "        sequence = list([c2i[c] for c in cardtext[idx][-(windowsize):]])\n",
    "    i += 1\n",
    "    idx = indices[i]\n",
    "    # add n cards to sequence where n = cards_per_batch\n",
    "    for j in range(cards_per_batch):\n",
    "        sequence += nextcard(cardtext, idx)\n",
    "        i += 1\n",
    "        idx = indices[i]\n",
    "        \n",
    "    # create matrix\n",
    "    x = []\n",
    "    y = []\n",
    "    \n",
    "    # main iterator\n",
    "    while True:\n",
    "        \n",
    "        # set lastseq for next cycle\n",
    "        laststr = sequence[-(windowsize):]\n",
    "        \n",
    "        # generate batch (of cards_per_batch cards)\n",
    "        while len(sequence) > windowsize:\n",
    "            x.append(np.array(sequence[:windowsize]))\n",
    "            y.append(sequence[windowsize])\n",
    "            sequence.pop(0)\n",
    "        \n",
    "        # generate window-shifted data\n",
    "        # reshape for sparse_categorical_crossentropy\n",
    "        sequence = []\n",
    "        y = np.array(y)\n",
    "        y = y[:, np.newaxis]\n",
    "        # yield and reset\n",
    "        yield(np.asarray(x), y)\n",
    "        x, y = [], []\n",
    "        \n",
    "        # for next batch, check if enough remaining, else reset\n",
    "        if len(indices[i:]) < cards_per_batch:\n",
    "            indices = np.random.permutation(len(cardtext))\n",
    "            i = 0\n",
    "            idx = indices[i]\n",
    "        else:\n",
    "            i += 1\n",
    "            idx = indices[i]\n",
    "            \n",
    "        # seed warmup sequence with end of last batch\n",
    "        sequence = list(laststr)\n",
    "\n",
    "        i += 1\n",
    "        idx = indices[i]\n",
    "        for j in range(cards_per_batch):\n",
    "            sequence += nextcard(cardtext, idx)\n",
    "            i += 1\n",
    "            idx = indices[i]"
   ]
  },
  {
   "cell_type": "code",
   "execution_count": 21,
   "metadata": {},
   "outputs": [],
   "source": [
    "# stress test : batch of 5000 x 2000 = over all cards at least once\n",
    "# itr = cardGenerator(cardtext, 5, 5000, debug=True)\n",
    "# for i in range(2000):\n",
    "#     x, y = next(itr)"
   ]
  },
  {
   "cell_type": "code",
   "execution_count": 28,
   "metadata": {},
   "outputs": [],
   "source": [
    "itr = cardGenerator(cardtext, 100, 3, debug=True)"
   ]
  },
  {
   "cell_type": "code",
   "execution_count": 35,
   "metadata": {},
   "outputs": [
    {
     "name": "stdout",
     "output_type": "stream",
     "text": [
      "(420, 100) (420, 1)\n",
      "100 ['r' 'e' 's' '.' 'Ⓔ'] ['o']\n",
      "100 ['e' 's' '.' 'Ⓔ' 'o'] ['u']\n",
      "100 ['s' '.' 'Ⓔ' 'o' 'u'] ['p']\n",
      "100 ['.' 'Ⓔ' 'o' 'u' 'p'] ['h']\n",
      "100 ['Ⓔ' 'o' 'u' 'p' 'h'] ['e']\n",
      "100 ['o' 'u' 'p' 'h' 'e'] [' ']\n",
      "100 ['u' 'p' 'h' 'e' ' '] ['v']\n",
      "100 ['p' 'h' 'e' ' ' 'v'] ['a']\n",
      "100 ['h' 'e' ' ' 'v' 'a'] ['n']\n",
      "100 ['e' ' ' 'v' 'a' 'n'] ['d']\n",
      "100 [' ' 'v' 'a' 'n' 'd'] ['a']\n",
      "100 ['v' 'a' 'n' 'd' 'a'] ['l']\n",
      "100 ['a' 'n' 'd' 'a' 'l'] ['s']\n",
      "100 ['n' 'd' 'a' 'l' 's'] ['|']\n",
      "100 ['d' 'a' 'l' 's' '|'] ['②']\n",
      "100 ['a' 'l' 's' '|' '②'] ['Ⓖ']\n",
      "100 ['l' 's' '|' '②' 'Ⓖ'] ['|']\n",
      "100 ['s' '|' '②' 'Ⓖ' '|'] ['U']\n",
      "100 ['|' '②' 'Ⓖ' '|' 'U'] ['|']\n",
      "100 ['②' 'Ⓖ' '|' 'U' '|'] ['c']\n",
      "100 ['Ⓖ' '|' 'U' '|' 'c'] ['r']\n",
      "100 ['|' 'U' '|' 'c' 'r'] ['e']\n",
      "100 ['U' '|' 'c' 'r' 'e'] ['a']\n",
      "100 ['|' 'c' 'r' 'e' 'a'] ['t']\n",
      "100 ['c' 'r' 'e' 'a' 't'] ['u']\n",
      "100 ['r' 'e' 'a' 't' 'u'] ['r']\n",
      "100 ['e' 'a' 't' 'u' 'r'] ['e']\n",
      "100 ['a' 't' 'u' 'r' 'e'] ['|']\n",
      "100 ['t' 'u' 'r' 'e' '|'] ['o']\n",
      "100 ['u' 'r' 'e' '|' 'o'] ['u']\n",
      "100 ['r' 'e' '|' 'o' 'u'] ['p']\n",
      "100 ['e' '|' 'o' 'u' 'p'] ['h']\n",
      "100 ['|' 'o' 'u' 'p' 'h'] ['e']\n",
      "100 ['o' 'u' 'p' 'h' 'e'] ['·']\n",
      "100 ['u' 'p' 'h' 'e' '·'] ['r']\n",
      "100 ['p' 'h' 'e' '·' 'r'] ['o']\n",
      "100 ['h' 'e' '·' 'r' 'o'] ['g']\n",
      "100 ['e' '·' 'r' 'o' 'g'] ['u']\n",
      "100 ['·' 'r' 'o' 'g' 'u'] ['e']\n",
      "100 ['r' 'o' 'g' 'u' 'e'] ['|']\n",
      "100 ['o' 'g' 'u' 'e' '|'] ['Ⓖ']\n",
      "100 ['g' 'u' 'e' '|' 'Ⓖ'] [',']\n",
      "100 ['u' 'e' '|' 'Ⓖ' ','] [' ']\n",
      "100 ['e' '|' 'Ⓖ' ',' ' '] ['s']\n",
      "100 ['|' 'Ⓖ' ',' ' ' 's'] ['a']\n",
      "100 ['Ⓖ' ',' ' ' 's' 'a'] ['c']\n",
      "100 [',' ' ' 's' 'a' 'c'] ['r']\n",
      "100 [' ' 's' 'a' 'c' 'r'] ['i']\n",
      "100 ['s' 'a' 'c' 'r' 'i'] ['f']\n",
      "100 ['a' 'c' 'r' 'i' 'f'] ['i']\n",
      "100 ['c' 'r' 'i' 'f' 'i'] ['c']\n",
      "100 ['r' 'i' 'f' 'i' 'c'] ['e']\n",
      "100 ['i' 'f' 'i' 'c' 'e'] [' ']\n",
      "100 ['f' 'i' 'c' 'e' ' '] ['Ⓝ']\n",
      "100 ['i' 'c' 'e' ' ' 'Ⓝ'] [':']\n",
      "100 ['c' 'e' ' ' 'Ⓝ' ':'] [' ']\n",
      "100 ['e' ' ' 'Ⓝ' ':' ' '] ['c']\n",
      "100 [' ' 'Ⓝ' ':' ' ' 'c'] ['o']\n",
      "100 ['Ⓝ' ':' ' ' 'c' 'o'] ['u']\n",
      "100 [':' ' ' 'c' 'o' 'u'] ['n']\n",
      "100 [' ' 'c' 'o' 'u' 'n'] ['t']\n",
      "100 ['c' 'o' 'u' 'n' 't'] ['e']\n",
      "100 ['o' 'u' 'n' 't' 'e'] ['r']\n",
      "100 ['u' 'n' 't' 'e' 'r'] [' ']\n",
      "100 ['n' 't' 'e' 'r' ' '] ['t']\n",
      "100 ['t' 'e' 'r' ' ' 't'] ['a']\n",
      "100 ['e' 'r' ' ' 't' 'a'] ['r']\n",
      "100 ['r' ' ' 't' 'a' 'r'] ['g']\n",
      "100 [' ' 't' 'a' 'r' 'g'] ['e']\n",
      "100 ['t' 'a' 'r' 'g' 'e'] ['t']\n",
      "100 ['a' 'r' 'g' 'e' 't'] [' ']\n",
      "100 ['r' 'g' 'e' 't' ' '] ['a']\n",
      "100 ['g' 'e' 't' ' ' 'a'] ['c']\n",
      "100 ['e' 't' ' ' 'a' 'c'] ['t']\n",
      "100 ['t' ' ' 'a' 'c' 't'] ['i']\n",
      "100 [' ' 'a' 'c' 't' 'i'] ['v']\n",
      "100 ['a' 'c' 't' 'i' 'v'] ['a']\n",
      "100 ['c' 't' 'i' 'v' 'a'] ['t']\n",
      "100 ['t' 'i' 'v' 'a' 't'] ['e']\n",
      "100 ['i' 'v' 'a' 't' 'e'] ['d']\n",
      "100 ['v' 'a' 't' 'e' 'd'] [' ']\n",
      "100 ['a' 't' 'e' 'd' ' '] ['a']\n",
      "100 ['t' 'e' 'd' ' ' 'a'] ['b']\n",
      "100 ['e' 'd' ' ' 'a' 'b'] ['i']\n",
      "100 ['d' ' ' 'a' 'b' 'i'] ['l']\n",
      "100 [' ' 'a' 'b' 'i' 'l'] ['i']\n",
      "100 ['a' 'b' 'i' 'l' 'i'] ['t']\n",
      "100 ['b' 'i' 'l' 'i' 't'] ['y']\n",
      "100 ['i' 'l' 'i' 't' 'y'] [' ']\n",
      "100 ['l' 'i' 't' 'y' ' '] ['f']\n",
      "100 ['i' 't' 'y' ' ' 'f'] ['r']\n",
      "100 ['t' 'y' ' ' 'f' 'r'] ['o']\n",
      "100 ['y' ' ' 'f' 'r' 'o'] ['m']\n",
      "100 [' ' 'f' 'r' 'o' 'm'] [' ']\n",
      "100 ['f' 'r' 'o' 'm' ' '] ['a']\n",
      "100 ['r' 'o' 'm' ' ' 'a'] ['n']\n",
      "100 ['o' 'm' ' ' 'a' 'n'] [' ']\n",
      "100 ['m' ' ' 'a' 'n' ' '] ['a']\n",
      "100 [' ' 'a' 'n' ' ' 'a'] ['r']\n",
      "100 ['a' 'n' ' ' 'a' 'r'] ['t']\n",
      "100 ['n' ' ' 'a' 'r' 't'] ['i']\n",
      "100 [' ' 'a' 'r' 't' 'i'] ['f']\n",
      "100 ['a' 'r' 't' 'i' 'f'] ['a']\n",
      "100 ['r' 't' 'i' 'f' 'a'] ['c']\n",
      "100 ['t' 'i' 'f' 'a' 'c'] ['t']\n",
      "100 ['i' 'f' 'a' 'c' 't'] [' ']\n",
      "100 ['f' 'a' 'c' 't' ' '] ['s']\n",
      "100 ['a' 'c' 't' ' ' 's'] ['o']\n",
      "100 ['c' 't' ' ' 's' 'o'] ['u']\n",
      "100 ['t' ' ' 's' 'o' 'u'] ['r']\n",
      "100 [' ' 's' 'o' 'u' 'r'] ['c']\n",
      "100 ['s' 'o' 'u' 'r' 'c'] ['e']\n",
      "100 ['o' 'u' 'r' 'c' 'e'] [' ']\n",
      "100 ['u' 'r' 'c' 'e' ' '] ['a']\n",
      "100 ['r' 'c' 'e' ' ' 'a'] ['n']\n",
      "100 ['c' 'e' ' ' 'a' 'n'] ['d']\n",
      "100 ['e' ' ' 'a' 'n' 'd'] [' ']\n",
      "100 [' ' 'a' 'n' 'd' ' '] ['d']\n",
      "100 ['a' 'n' 'd' ' ' 'd'] ['e']\n",
      "100 ['n' 'd' ' ' 'd' 'e'] ['s']\n",
      "100 ['d' ' ' 'd' 'e' 's'] ['t']\n",
      "100 [' ' 'd' 'e' 's' 't'] ['r']\n",
      "100 ['d' 'e' 's' 't' 'r'] ['o']\n",
      "100 ['e' 's' 't' 'r' 'o'] ['y']\n",
      "100 ['s' 't' 'r' 'o' 'y'] [' ']\n",
      "100 ['t' 'r' 'o' 'y' ' '] ['t']\n",
      "100 ['r' 'o' 'y' ' ' 't'] ['h']\n",
      "100 ['o' 'y' ' ' 't' 'h'] ['a']\n",
      "100 ['y' ' ' 't' 'h' 'a'] ['t']\n",
      "100 [' ' 't' 'h' 'a' 't'] [' ']\n",
      "100 ['t' 'h' 'a' 't' ' '] ['a']\n",
      "100 ['h' 'a' 't' ' ' 'a'] ['r']\n",
      "100 ['a' 't' ' ' 'a' 'r'] ['t']\n",
      "100 ['t' ' ' 'a' 'r' 't'] ['i']\n",
      "100 [' ' 'a' 'r' 't' 'i'] ['f']\n",
      "100 ['a' 'r' 't' 'i' 'f'] ['a']\n",
      "100 ['r' 't' 'i' 'f' 'a'] ['c']\n",
      "100 ['t' 'i' 'f' 'a' 'c'] ['t']\n",
      "100 ['i' 'f' 'a' 'c' 't'] [' ']\n",
      "100 ['f' 'a' 'c' 't' ' '] ['i']\n",
      "100 ['a' 'c' 't' ' ' 'i'] ['f']\n",
      "100 ['c' 't' ' ' 'i' 'f'] [' ']\n",
      "100 ['t' ' ' 'i' 'f' ' '] ['i']\n",
      "100 [' ' 'i' 'f' ' ' 'i'] ['t']\n",
      "100 ['i' 'f' ' ' 'i' 't'] [\"'\"]\n",
      "100 ['f' ' ' 'i' 't' \"'\"] ['s']\n",
      "100 [' ' 'i' 't' \"'\" 's'] [' ']\n",
      "100 ['i' 't' \"'\" 's' ' '] ['o']\n",
      "100 ['t' \"'\" 's' ' ' 'o'] ['n']\n",
      "100 [\"'\" 's' ' ' 'o' 'n'] [' ']\n",
      "100 ['s' ' ' 'o' 'n' ' '] ['t']\n",
      "100 [' ' 'o' 'n' ' ' 't'] ['h']\n",
      "100 ['o' 'n' ' ' 't' 'h'] ['e']\n",
      "100 ['n' ' ' 't' 'h' 'e'] [' ']\n",
      "100 [' ' 't' 'h' 'e' ' '] ['b']\n",
      "100 ['t' 'h' 'e' ' ' 'b'] ['a']\n",
      "100 ['h' 'e' ' ' 'b' 'a'] ['t']\n",
      "100 ['e' ' ' 'b' 'a' 't'] ['t']\n",
      "100 [' ' 'b' 'a' 't' 't'] ['l']\n",
      "100 ['b' 'a' 't' 't' 'l'] ['e']\n",
      "100 ['a' 't' 't' 'l' 'e'] ['f']\n",
      "100 ['t' 't' 'l' 'e' 'f'] ['i']\n",
      "100 ['t' 'l' 'e' 'f' 'i'] ['e']\n",
      "100 ['l' 'e' 'f' 'i' 'e'] ['l']\n",
      "100 ['e' 'f' 'i' 'e' 'l'] ['d']\n",
      "100 ['f' 'i' 'e' 'l' 'd'] ['.']\n",
      "100 ['i' 'e' 'l' 'd' '.'] ['|']\n",
      "100 ['e' 'l' 'd' '.' '|'] ['2']\n",
      "100 ['l' 'd' '.' '|' '2'] ['|']\n",
      "100 ['d' '.' '|' '2' '|'] ['2']\n",
      "100 ['.' '|' '2' '|' '2'] ['Ⓔ']\n",
      "100 ['|' '2' '|' '2' 'Ⓔ'] ['m']\n",
      "100 ['2' '|' '2' 'Ⓔ' 'm'] ['o']\n",
      "100 ['|' '2' 'Ⓔ' 'm' 'o'] ['m']\n",
      "100 ['2' 'Ⓔ' 'm' 'o' 'm'] ['e']\n",
      "100 ['Ⓔ' 'm' 'o' 'm' 'e'] ['n']\n",
      "100 ['m' 'o' 'm' 'e' 'n'] ['t']\n",
      "100 ['o' 'm' 'e' 'n' 't'] [' ']\n",
      "100 ['m' 'e' 'n' 't' ' '] ['o']\n",
      "100 ['e' 'n' 't' ' ' 'o'] ['f']\n",
      "100 ['n' 't' ' ' 'o' 'f'] [' ']\n",
      "100 ['t' ' ' 'o' 'f' ' '] ['h']\n",
      "100 [' ' 'o' 'f' ' ' 'h'] ['e']\n",
      "100 ['o' 'f' ' ' 'h' 'e'] ['r']\n",
      "100 ['f' ' ' 'h' 'e' 'r'] ['o']\n",
      "100 [' ' 'h' 'e' 'r' 'o'] ['i']\n",
      "100 ['h' 'e' 'r' 'o' 'i'] ['s']\n",
      "100 ['e' 'r' 'o' 'i' 's'] ['m']\n",
      "100 ['r' 'o' 'i' 's' 'm'] ['|']\n",
      "100 ['o' 'i' 's' 'm' '|'] ['①']\n",
      "100 ['i' 's' 'm' '|' '①'] ['Ⓦ']\n",
      "100 ['s' 'm' '|' '①' 'Ⓦ'] ['|']\n",
      "100 ['m' '|' '①' 'Ⓦ' '|'] ['C']\n",
      "100 ['|' '①' 'Ⓦ' '|' 'C'] ['|']\n",
      "100 ['①' 'Ⓦ' '|' 'C' '|'] ['i']\n",
      "100 ['Ⓦ' '|' 'C' '|' 'i'] ['n']\n",
      "100 ['|' 'C' '|' 'i' 'n'] ['s']\n",
      "100 ['C' '|' 'i' 'n' 's'] ['t']\n",
      "100 ['|' 'i' 'n' 's' 't'] ['a']\n",
      "100 ['i' 'n' 's' 't' 'a'] ['n']\n",
      "100 ['n' 's' 't' 'a' 'n'] ['t']\n",
      "100 ['s' 't' 'a' 'n' 't'] ['|']\n",
      "100 ['t' 'a' 'n' 't' '|'] ['⌧']\n",
      "100 ['a' 'n' 't' '|' '⌧'] ['|']\n",
      "100 ['n' 't' '|' '⌧' '|'] ['t']\n",
      "100 ['t' '|' '⌧' '|' 't'] ['a']\n",
      "100 ['|' '⌧' '|' 't' 'a'] ['r']\n",
      "100 ['⌧' '|' 't' 'a' 'r'] ['g']\n",
      "100 ['|' 't' 'a' 'r' 'g'] ['e']\n",
      "100 ['t' 'a' 'r' 'g' 'e'] ['t']\n",
      "100 ['a' 'r' 'g' 'e' 't'] [' ']\n",
      "100 ['r' 'g' 'e' 't' ' '] ['c']\n",
      "100 ['g' 'e' 't' ' ' 'c'] ['r']\n",
      "100 ['e' 't' ' ' 'c' 'r'] ['e']\n",
      "100 ['t' ' ' 'c' 'r' 'e'] ['a']\n",
      "100 [' ' 'c' 'r' 'e' 'a'] ['t']\n",
      "100 ['c' 'r' 'e' 'a' 't'] ['u']\n",
      "100 ['r' 'e' 'a' 't' 'u'] ['r']\n",
      "100 ['e' 'a' 't' 'u' 'r'] ['e']\n",
      "100 ['a' 't' 'u' 'r' 'e'] [' ']\n",
      "100 ['t' 'u' 'r' 'e' ' '] ['g']\n",
      "100 ['u' 'r' 'e' ' ' 'g'] ['e']\n",
      "100 ['r' 'e' ' ' 'g' 'e'] ['t']\n",
      "100 ['e' ' ' 'g' 'e' 't'] ['s']\n",
      "100 [' ' 'g' 'e' 't' 's'] [' ']\n",
      "100 ['g' 'e' 't' 's' ' '] ['+']\n",
      "100 ['e' 't' 's' ' ' '+'] ['2']\n",
      "100 ['t' 's' ' ' '+' '2'] ['/']\n",
      "100 ['s' ' ' '+' '2' '/'] ['+']\n",
      "100 [' ' '+' '2' '/' '+'] ['2']\n",
      "100 ['+' '2' '/' '+' '2'] [' ']\n",
      "100 ['2' '/' '+' '2' ' '] ['a']\n",
      "100 ['/' '+' '2' ' ' 'a'] ['n']\n",
      "100 ['+' '2' ' ' 'a' 'n'] ['d']\n",
      "100 ['2' ' ' 'a' 'n' 'd'] [' ']\n",
      "100 [' ' 'a' 'n' 'd' ' '] ['g']\n",
      "100 ['a' 'n' 'd' ' ' 'g'] ['a']\n",
      "100 ['n' 'd' ' ' 'g' 'a'] ['i']\n",
      "100 ['d' ' ' 'g' 'a' 'i'] ['n']\n",
      "100 [' ' 'g' 'a' 'i' 'n'] ['s']\n",
      "100 ['g' 'a' 'i' 'n' 's'] [' ']\n",
      "100 ['a' 'i' 'n' 's' ' '] ['l']\n",
      "100 ['i' 'n' 's' ' ' 'l'] ['i']\n",
      "100 ['n' 's' ' ' 'l' 'i'] ['f']\n",
      "100 ['s' ' ' 'l' 'i' 'f'] ['e']\n",
      "100 [' ' 'l' 'i' 'f' 'e'] ['l']\n",
      "100 ['l' 'i' 'f' 'e' 'l'] ['i']\n",
      "100 ['i' 'f' 'e' 'l' 'i'] ['n']\n",
      "100 ['f' 'e' 'l' 'i' 'n'] ['k']\n",
      "100 ['e' 'l' 'i' 'n' 'k'] [' ']\n",
      "100 ['l' 'i' 'n' 'k' ' '] ['u']\n",
      "100 ['i' 'n' 'k' ' ' 'u'] ['n']\n",
      "100 ['n' 'k' ' ' 'u' 'n'] ['t']\n",
      "100 ['k' ' ' 'u' 'n' 't'] ['i']\n",
      "100 [' ' 'u' 'n' 't' 'i'] ['l']\n",
      "100 ['u' 'n' 't' 'i' 'l'] [' ']\n",
      "100 ['n' 't' 'i' 'l' ' '] ['e']\n",
      "100 ['t' 'i' 'l' ' ' 'e'] ['n']\n",
      "100 ['i' 'l' ' ' 'e' 'n'] ['d']\n",
      "100 ['l' ' ' 'e' 'n' 'd'] [' ']\n",
      "100 [' ' 'e' 'n' 'd' ' '] ['o']\n",
      "100 ['e' 'n' 'd' ' ' 'o'] ['f']\n",
      "100 ['n' 'd' ' ' 'o' 'f'] [' ']\n",
      "100 ['d' ' ' 'o' 'f' ' '] ['t']\n",
      "100 [' ' 'o' 'f' ' ' 't'] ['u']\n",
      "100 ['o' 'f' ' ' 't' 'u'] ['r']\n",
      "100 ['f' ' ' 't' 'u' 'r'] ['n']\n",
      "100 [' ' 't' 'u' 'r' 'n'] ['.']\n",
      "100 ['t' 'u' 'r' 'n' '.'] ['Ⓔ']\n",
      "100 ['u' 'r' 'n' '.' 'Ⓔ'] ['s']\n",
      "100 ['r' 'n' '.' 'Ⓔ' 's'] ['i']\n",
      "100 ['n' '.' 'Ⓔ' 's' 'i'] ['l']\n",
      "100 ['.' 'Ⓔ' 's' 'i' 'l'] ['v']\n",
      "100 ['Ⓔ' 's' 'i' 'l' 'v'] ['e']\n",
      "100 ['s' 'i' 'l' 'v' 'e'] ['r']\n",
      "100 ['i' 'l' 'v' 'e' 'r'] [' ']\n",
      "100 ['l' 'v' 'e' 'r' ' '] ['s']\n",
      "100 ['v' 'e' 'r' ' ' 's'] ['e']\n",
      "100 ['e' 'r' ' ' 's' 'e'] ['r']\n",
      "100 ['r' ' ' 's' 'e' 'r'] ['a']\n",
      "100 [' ' 's' 'e' 'r' 'a'] ['p']\n",
      "100 ['s' 'e' 'r' 'a' 'p'] ['h']\n",
      "100 ['e' 'r' 'a' 'p' 'h'] ['|']\n",
      "100 ['r' 'a' 'p' 'h' '|'] ['⑤']\n",
      "100 ['a' 'p' 'h' '|' '⑤'] ['Ⓦ']\n",
      "100 ['p' 'h' '|' '⑤' 'Ⓦ'] ['Ⓦ']\n",
      "100 ['h' '|' '⑤' 'Ⓦ' 'Ⓦ'] ['Ⓦ']\n",
      "100 ['|' '⑤' 'Ⓦ' 'Ⓦ' 'Ⓦ'] ['|']\n",
      "100 ['⑤' 'Ⓦ' 'Ⓦ' 'Ⓦ' '|'] ['R']\n",
      "100 ['Ⓦ' 'Ⓦ' 'Ⓦ' '|' 'R'] ['|']\n",
      "100 ['Ⓦ' 'Ⓦ' '|' 'R' '|'] ['c']\n",
      "100 ['Ⓦ' '|' 'R' '|' 'c'] ['r']\n",
      "100 ['|' 'R' '|' 'c' 'r'] ['e']\n",
      "100 ['R' '|' 'c' 'r' 'e'] ['a']\n",
      "100 ['|' 'c' 'r' 'e' 'a'] ['t']\n",
      "100 ['c' 'r' 'e' 'a' 't'] ['u']\n",
      "100 ['r' 'e' 'a' 't' 'u'] ['r']\n",
      "100 ['e' 'a' 't' 'u' 'r'] ['e']\n",
      "100 ['a' 't' 'u' 'r' 'e'] ['|']\n",
      "100 ['t' 'u' 'r' 'e' '|'] ['a']\n",
      "100 ['u' 'r' 'e' '|' 'a'] ['n']\n",
      "100 ['r' 'e' '|' 'a' 'n'] ['g']\n",
      "100 ['e' '|' 'a' 'n' 'g'] ['e']\n",
      "100 ['|' 'a' 'n' 'g' 'e'] ['l']\n",
      "100 ['a' 'n' 'g' 'e' 'l'] ['|']\n",
      "100 ['n' 'g' 'e' 'l' '|'] ['f']\n",
      "100 ['g' 'e' 'l' '|' 'f'] ['l']\n",
      "100 ['e' 'l' '|' 'f' 'l'] ['y']\n",
      "100 ['l' '|' 'f' 'l' 'y'] ['i']\n",
      "100 ['|' 'f' 'l' 'y' 'i'] ['n']\n",
      "100 ['f' 'l' 'y' 'i' 'n'] ['g']\n",
      "100 ['l' 'y' 'i' 'n' 'g'] ['·']\n",
      "100 ['y' 'i' 'n' 'g' '·'] ['t']\n",
      "100 ['i' 'n' 'g' '·' 't'] ['h']\n",
      "100 ['n' 'g' '·' 't' 'h'] ['r']\n",
      "100 ['g' '·' 't' 'h' 'r'] ['e']\n",
      "100 ['·' 't' 'h' 'r' 'e'] ['s']\n",
      "100 ['t' 'h' 'r' 'e' 's'] ['h']\n",
      "100 ['h' 'r' 'e' 's' 'h'] ['o']\n",
      "100 ['r' 'e' 's' 'h' 'o'] ['l']\n",
      "100 ['e' 's' 'h' 'o' 'l'] ['d']\n",
      "100 ['s' 'h' 'o' 'l' 'd'] [' ']\n",
      "100 ['h' 'o' 'l' 'd' ' '] ['—']\n",
      "100 ['o' 'l' 'd' ' ' '—'] [' ']\n",
      "100 ['l' 'd' ' ' '—' ' '] ['o']\n",
      "100 ['d' ' ' '—' ' ' 'o'] ['t']\n",
      "100 [' ' '—' ' ' 'o' 't'] ['h']\n",
      "100 ['—' ' ' 'o' 't' 'h'] ['e']\n",
      "100 [' ' 'o' 't' 'h' 'e'] ['r']\n",
      "100 ['o' 't' 'h' 'e' 'r'] [' ']\n",
      "100 ['t' 'h' 'e' 'r' ' '] ['c']\n",
      "100 ['h' 'e' 'r' ' ' 'c'] ['r']\n",
      "100 ['e' 'r' ' ' 'c' 'r'] ['e']\n",
      "100 ['r' ' ' 'c' 'r' 'e'] ['a']\n",
      "100 [' ' 'c' 'r' 'e' 'a'] ['t']\n",
      "100 ['c' 'r' 'e' 'a' 't'] ['u']\n",
      "100 ['r' 'e' 'a' 't' 'u'] ['r']\n",
      "100 ['e' 'a' 't' 'u' 'r'] ['e']\n",
      "100 ['a' 't' 'u' 'r' 'e'] ['s']\n",
      "100 ['t' 'u' 'r' 'e' 's'] [' ']\n",
      "100 ['u' 'r' 'e' 's' ' '] ['y']\n",
      "100 ['r' 'e' 's' ' ' 'y'] ['o']\n",
      "100 ['e' 's' ' ' 'y' 'o'] ['u']\n",
      "100 ['s' ' ' 'y' 'o' 'u'] [' ']\n",
      "100 [' ' 'y' 'o' 'u' ' '] ['c']\n",
      "100 ['y' 'o' 'u' ' ' 'c'] ['o']\n",
      "100 ['o' 'u' ' ' 'c' 'o'] ['n']\n",
      "100 ['u' ' ' 'c' 'o' 'n'] ['t']\n",
      "100 [' ' 'c' 'o' 'n' 't'] ['r']\n",
      "100 ['c' 'o' 'n' 't' 'r'] ['o']\n",
      "100 ['o' 'n' 't' 'r' 'o'] ['l']\n",
      "100 ['n' 't' 'r' 'o' 'l'] [' ']\n",
      "100 ['t' 'r' 'o' 'l' ' '] ['g']\n",
      "100 ['r' 'o' 'l' ' ' 'g'] ['e']\n",
      "100 ['o' 'l' ' ' 'g' 'e'] ['t']\n",
      "100 ['l' ' ' 'g' 'e' 't'] [' ']\n",
      "100 [' ' 'g' 'e' 't' ' '] ['+']\n",
      "100 ['g' 'e' 't' ' ' '+'] ['2']\n",
      "100 ['e' 't' ' ' '+' '2'] ['/']\n",
      "100 ['t' ' ' '+' '2' '/'] ['+']\n",
      "100 [' ' '+' '2' '/' '+'] ['2']\n",
      "100 ['+' '2' '/' '+' '2'] [' ']\n",
      "100 ['2' '/' '+' '2' ' '] ['a']\n",
      "100 ['/' '+' '2' ' ' 'a'] ['s']\n",
      "100 ['+' '2' ' ' 'a' 's'] [' ']\n",
      "100 ['2' ' ' 'a' 's' ' '] ['l']\n",
      "100 [' ' 'a' 's' ' ' 'l'] ['o']\n",
      "100 ['a' 's' ' ' 'l' 'o'] ['n']\n",
      "100 ['s' ' ' 'l' 'o' 'n'] ['g']\n",
      "100 [' ' 'l' 'o' 'n' 'g'] [' ']\n",
      "100 ['l' 'o' 'n' 'g' ' '] ['a']\n",
      "100 ['o' 'n' 'g' ' ' 'a'] ['s']\n",
      "100 ['n' 'g' ' ' 'a' 's'] [' ']\n",
      "100 ['g' ' ' 'a' 's' ' '] ['s']\n",
      "100 [' ' 'a' 's' ' ' 's'] ['e']\n",
      "100 ['a' 's' ' ' 's' 'e'] ['v']\n",
      "100 ['s' ' ' 's' 'e' 'v'] ['e']\n",
      "100 [' ' 's' 'e' 'v' 'e'] ['n']\n",
      "100 ['s' 'e' 'v' 'e' 'n'] [' ']\n",
      "100 ['e' 'v' 'e' 'n' ' '] ['o']\n",
      "100 ['v' 'e' 'n' ' ' 'o'] ['r']\n",
      "100 ['e' 'n' ' ' 'o' 'r'] [' ']\n",
      "100 ['n' ' ' 'o' 'r' ' '] ['m']\n",
      "100 [' ' 'o' 'r' ' ' 'm'] ['o']\n",
      "100 ['o' 'r' ' ' 'm' 'o'] ['r']\n",
      "100 ['r' ' ' 'm' 'o' 'r'] ['e']\n",
      "100 [' ' 'm' 'o' 'r' 'e'] [' ']\n",
      "100 ['m' 'o' 'r' 'e' ' '] ['c']\n",
      "100 ['o' 'r' 'e' ' ' 'c'] ['a']\n",
      "100 ['r' 'e' ' ' 'c' 'a'] ['r']\n",
      "100 ['e' ' ' 'c' 'a' 'r'] ['d']\n",
      "100 [' ' 'c' 'a' 'r' 'd'] ['s']\n",
      "100 ['c' 'a' 'r' 'd' 's'] [' ']\n",
      "100 ['a' 'r' 'd' 's' ' '] ['a']\n",
      "100 ['r' 'd' 's' ' ' 'a'] ['r']\n",
      "100 ['d' 's' ' ' 'a' 'r'] ['e']\n",
      "100 ['s' ' ' 'a' 'r' 'e'] [' ']\n",
      "100 [' ' 'a' 'r' 'e' ' '] ['i']\n",
      "100 ['a' 'r' 'e' ' ' 'i'] ['n']\n",
      "100 ['r' 'e' ' ' 'i' 'n'] [' ']\n",
      "100 ['e' ' ' 'i' 'n' ' '] ['y']\n",
      "100 [' ' 'i' 'n' ' ' 'y'] ['o']\n",
      "100 ['i' 'n' ' ' 'y' 'o'] ['u']\n",
      "100 ['n' ' ' 'y' 'o' 'u'] ['r']\n",
      "100 [' ' 'y' 'o' 'u' 'r'] [' ']\n",
      "100 ['y' 'o' 'u' 'r' ' '] ['g']\n",
      "100 ['o' 'u' 'r' ' ' 'g'] ['r']\n",
      "100 ['u' 'r' ' ' 'g' 'r'] ['a']\n",
      "100 ['r' ' ' 'g' 'r' 'a'] ['v']\n",
      "100 [' ' 'g' 'r' 'a' 'v'] ['e']\n",
      "100 ['g' 'r' 'a' 'v' 'e'] ['y']\n",
      "100 ['r' 'a' 'v' 'e' 'y'] ['a']\n",
      "100 ['a' 'v' 'e' 'y' 'a'] ['r']\n",
      "100 ['v' 'e' 'y' 'a' 'r'] ['d']\n",
      "100 ['e' 'y' 'a' 'r' 'd'] ['.']\n",
      "100 ['y' 'a' 'r' 'd' '.'] ['|']\n",
      "100 ['a' 'r' 'd' '.' '|'] ['6']\n",
      "100 ['r' 'd' '.' '|' '6'] ['|']\n",
      "100 ['d' '.' '|' '6' '|'] ['6']\n",
      "100 ['.' '|' '6' '|' '6'] ['Ⓔ']\n"
     ]
    }
   ],
   "source": [
    "x, y = next(itr)\n",
    "print(x.shape, y.shape)\n",
    "for z in range(len(x)):\n",
    "    print(len(x[z]), x[z][-5:], y[z])"
   ]
  },
  {
   "cell_type": "markdown",
   "metadata": {},
   "source": [
    "to-do, network notes:\n",
    "\n",
    "create window-size, pad with START tokens\n",
    "add EOF token (and remove power/toughness if null?)\n",
    "in network, encode name with LSTM(s) then copy state(s) to output network\n",
    "(effectively a seq-to-seq)\n",
    "generator needs to PAD TO FIXED BATCH SIZE (see length chosen above)\n",
    "use batch-training and reset_state"
   ]
  },
  {
   "cell_type": "code",
   "execution_count": null,
   "metadata": {},
   "outputs": [],
   "source": []
  }
 ],
 "metadata": {
  "kernelspec": {
   "display_name": "Python 3",
   "language": "python",
   "name": "python3"
  },
  "language_info": {
   "codemirror_mode": {
    "name": "ipython",
    "version": 3
   },
   "file_extension": ".py",
   "mimetype": "text/x-python",
   "name": "python",
   "nbconvert_exporter": "python",
   "pygments_lexer": "ipython3",
   "version": "3.6.3"
  }
 },
 "nbformat": 4,
 "nbformat_minor": 2
}
