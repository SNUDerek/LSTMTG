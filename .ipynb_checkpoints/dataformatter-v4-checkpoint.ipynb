{
 "cells": [
  {
   "cell_type": "markdown",
   "metadata": {},
   "source": [
    "changes:\n",
    "- don't add subtype (null-char) if no ssubtype\n",
    "- move power, toughness before card text to learn creature-card-text better"
   ]
  },
  {
   "cell_type": "code",
   "execution_count": 1,
   "metadata": {},
   "outputs": [],
   "source": [
    "import numpy as np\n",
    "import re\n",
    "from collections import Counter"
   ]
  },
  {
   "cell_type": "code",
   "execution_count": 2,
   "metadata": {},
   "outputs": [],
   "source": [
    "setnm = list(np.load('data//numpy//setnm.npy'))\n",
    "idnum = list(np.load('data//numpy//idnum.npy'))\n",
    "names = list(np.load('data//numpy//names.npy'))\n",
    "mcost = list(np.load('data//numpy//mcost.npy'))\n",
    "rarty = list(np.load('data//numpy//rarty.npy'))\n",
    "types = list(np.load('data//numpy//types.npy'))\n",
    "subtp = list(np.load('data//numpy//subtp.npy'))\n",
    "ctext = list(np.load('data//numpy//ctext_orig.npy'))\n",
    "power = list(np.load('data//numpy//power.npy'))\n",
    "tough = list(np.load('data//numpy//tough.npy'))"
   ]
  },
  {
   "cell_type": "markdown",
   "metadata": {},
   "source": [
    "### encode the rarities as capital letters"
   ]
  },
  {
   "cell_type": "code",
   "execution_count": 3,
   "metadata": {},
   "outputs": [
    {
     "data": {
      "text/plain": [
       "['U', 'S', 'C', 'R', 'M']"
      ]
     },
     "execution_count": 3,
     "metadata": {},
     "output_type": "execute_result"
    }
   ],
   "source": [
    "rletr = [w[0] for w in rarty]\n",
    "list(set(rletr))"
   ]
  },
  {
   "cell_type": "markdown",
   "metadata": {},
   "source": [
    "### encode the types, subtypes as lower-cased words separated by a symbol '·'"
   ]
  },
  {
   "cell_type": "code",
   "execution_count": 4,
   "metadata": {},
   "outputs": [],
   "source": [
    "typss = []\n",
    "for x in types:\n",
    "    item = ''\n",
    "    lst = str(x).split(' ')\n",
    "    for idx, tp in enumerate(lst):\n",
    "        item += tp.lower()\n",
    "        if idx < len(lst)-1:\n",
    "            item += '·'\n",
    "    \n",
    "    typss.append(item)    "
   ]
  },
  {
   "cell_type": "code",
   "execution_count": 5,
   "metadata": {},
   "outputs": [
    {
     "data": {
      "text/plain": [
       "{'artifact',\n",
       " 'artifact·creature',\n",
       " 'creature',\n",
       " 'enchantment',\n",
       " 'enchantment·artifact',\n",
       " 'enchantment·creature',\n",
       " 'instant',\n",
       " 'planeswalker',\n",
       " 'sorcery',\n",
       " 'tribal·artifact',\n",
       " 'tribal·enchantment',\n",
       " 'tribal·instant',\n",
       " 'tribal·sorcery'}"
      ]
     },
     "execution_count": 5,
     "metadata": {},
     "output_type": "execute_result"
    }
   ],
   "source": [
    "set(typss)"
   ]
  },
  {
   "cell_type": "code",
   "execution_count": 6,
   "metadata": {},
   "outputs": [],
   "source": [
    "subts = []\n",
    "for lst in subtp:\n",
    "    item = ''\n",
    "    lst = list(lst)\n",
    "    for idx, subtype in enumerate(lst):\n",
    "        if subtype != 'PAD':\n",
    "            item += subtype.lower()\n",
    "        if idx < len(lst)-1:\n",
    "            if lst[idx+1] != 'PAD':\n",
    "                item += '·'\n",
    "    \n",
    "    if item == '':\n",
    "        item = '⌧'\n",
    "    \n",
    "    subts.append(item)    "
   ]
  },
  {
   "cell_type": "markdown",
   "metadata": {},
   "source": [
    "### remove reminder text\n",
    "strip all text between parentheses"
   ]
  },
  {
   "cell_type": "code",
   "execution_count": 7,
   "metadata": {},
   "outputs": [
    {
     "data": {
      "text/plain": [
       "['first strike (this creature deals combat damage before creatures without first strike.)|when Ⓝ enters the battlefield, you gain 1 life for each card in your graveyard.',\n",
       " 'flying|when Ⓝ enters the battlefield, you gain 3 life.',\n",
       " \"target creature gets +3/+3 and gains flying until end of turn. (it can't be blocked except by creatures with flying or reach.)\",\n",
       " 'whenever a creature enters the battlefield under your control, you gain life equal to its toughness.',\n",
       " \"defender (this creature can't attack.)|flying\",\n",
       " 'artifact and enchantment spells your opponents cast cost ② more to cast.|sacrifice Ⓝ: destroy target artifact or enchantment.',\n",
       " \"flying (this creature can't be blocked except by creatures with flying or reach.)|when Ⓝ enters the battlefield, destroy target enchantment.\",\n",
       " 'ⓍⓌ, ↷: Ⓝ deals x damage to target attacking or blocking creature.',\n",
       " 'prevent the next 1 damage that would be dealt to target creature or player this turn.|draw a card.',\n",
       " \"double target player's life total. shuffle Ⓝ into its owner's library.\"]"
      ]
     },
     "execution_count": 7,
     "metadata": {},
     "output_type": "execute_result"
    }
   ],
   "source": [
    "ctext[:10]"
   ]
  },
  {
   "cell_type": "code",
   "execution_count": 8,
   "metadata": {},
   "outputs": [],
   "source": [
    "ctext_new = []\n",
    "for text in ctext:\n",
    "    new_text = re.sub(r'\\s\\([\\S\\s]+\\)', '', text)\n",
    "    new_text = new_text.replace('|', '·')\n",
    "    ctext_new.append(new_text)"
   ]
  },
  {
   "cell_type": "code",
   "execution_count": 9,
   "metadata": {},
   "outputs": [
    {
     "data": {
      "text/plain": [
       "['first strike·when Ⓝ enters the battlefield, you gain 1 life for each card in your graveyard.',\n",
       " 'flying·when Ⓝ enters the battlefield, you gain 3 life.',\n",
       " 'target creature gets +3/+3 and gains flying until end of turn.',\n",
       " 'whenever a creature enters the battlefield under your control, you gain life equal to its toughness.',\n",
       " 'defender·flying',\n",
       " 'artifact and enchantment spells your opponents cast cost ② more to cast.·sacrifice Ⓝ: destroy target artifact or enchantment.',\n",
       " 'flying·when Ⓝ enters the battlefield, destroy target enchantment.',\n",
       " 'ⓍⓌ, ↷: Ⓝ deals x damage to target attacking or blocking creature.',\n",
       " 'prevent the next 1 damage that would be dealt to target creature or player this turn.·draw a card.',\n",
       " \"double target player's life total. shuffle Ⓝ into its owner's library.\"]"
      ]
     },
     "execution_count": 9,
     "metadata": {},
     "output_type": "execute_result"
    }
   ],
   "source": [
    "ctext_new[:10]"
   ]
  },
  {
   "cell_type": "markdown",
   "metadata": {},
   "source": [
    "### combine items into string with '|' separator\n",
    "[mcost|rletr|typss|subts|ctext_new|power|tough]\n",
    "don't add power/tough if not needed\n",
    "use START symbol: Ⓢ and EOF symbol: Ⓔ"
   ]
  },
  {
   "cell_type": "code",
   "execution_count": 10,
   "metadata": {},
   "outputs": [],
   "source": [
    "cardtext = []\n",
    "for i in range(len(names)):\n",
    "    lst = [names[i], mcost[i], rletr[i], typss[i]]\n",
    "    # only add subtype if not empty\n",
    "    if subts[i] != '⌧':\n",
    "        lst += [subts[i]]\n",
    "    # add power-toughness before cardtext\n",
    "    if power[i] != '⌧' and tough[i] != '⌧':\n",
    "        lst += [power[i], tough[i]]\n",
    "    lst += [ctext_new[i]]\n",
    "    \n",
    "    txt = '|'.join(lst)\n",
    "    txt += 'Ⓔ'\n",
    "    cardtext.append(txt)"
   ]
  },
  {
   "cell_type": "code",
   "execution_count": 11,
   "metadata": {},
   "outputs": [
    {
     "name": "stdout",
     "output_type": "stream",
     "text": [
      "ancestor's chosen|⑤ⓌⓌ|U|creature|human·cleric|4|4|first strike·when Ⓝ enters the battlefield, you gain 1 life for each card in your graveyard.Ⓔ\n",
      "angel of mercy|④Ⓦ|U|creature|angel|3|3|flying·when Ⓝ enters the battlefield, you gain 3 life.Ⓔ\n",
      "angelic blessing|②Ⓦ|C|sorcery|target creature gets +3/+3 and gains flying until end of turn.Ⓔ\n",
      "angelic chorus|③ⓌⓌ|R|enchantment|whenever a creature enters the battlefield under your control, you gain life equal to its toughness.Ⓔ\n",
      "angelic wall|①Ⓦ|C|creature|wall|0|4|defender·flyingⒺ\n",
      "aura of silence|①ⓌⓌ|U|enchantment|artifact and enchantment spells your opponents cast cost ② more to cast.·sacrifice Ⓝ: destroy target artifact or enchantment.Ⓔ\n",
      "aven cloudchaser|③Ⓦ|C|creature|bird·soldier|2|2|flying·when Ⓝ enters the battlefield, destroy target enchantment.Ⓔ\n",
      "ballista squad|③Ⓦ|U|creature|human·rebel|2|2|ⓍⓌ, ↷: Ⓝ deals x damage to target attacking or blocking creature.Ⓔ\n",
      "bandage|Ⓦ|C|instant|prevent the next 1 damage that would be dealt to target creature or player this turn.·draw a card.Ⓔ\n",
      "beacon of immortality|⑤Ⓦ|R|instant|double target player's life total. shuffle Ⓝ into its owner's library.Ⓔ\n"
     ]
    }
   ],
   "source": [
    "for i in range(10):\n",
    "    print(cardtext[i])"
   ]
  },
  {
   "cell_type": "markdown",
   "metadata": {},
   "source": [
    "### save cardtexts"
   ]
  },
  {
   "cell_type": "code",
   "execution_count": 12,
   "metadata": {},
   "outputs": [],
   "source": [
    "np.save('data/card_texts_new.npy', cardtext)"
   ]
  },
  {
   "cell_type": "markdown",
   "metadata": {},
   "source": [
    "### analysis & testing"
   ]
  },
  {
   "cell_type": "code",
   "execution_count": 13,
   "metadata": {},
   "outputs": [],
   "source": [
    "txtlens = [len(s) for s in cardtext]"
   ]
  },
  {
   "cell_type": "code",
   "execution_count": 14,
   "metadata": {},
   "outputs": [],
   "source": [
    "lencnts = Counter(txtlens)\n",
    "zips = lencnts.most_common()\n",
    "x = sorted(zips, key = lambda x: x[0], reverse=True)"
   ]
  },
  {
   "cell_type": "code",
   "execution_count": null,
   "metadata": {},
   "outputs": [],
   "source": [
    "# x"
   ]
  },
  {
   "cell_type": "code",
   "execution_count": 16,
   "metadata": {},
   "outputs": [
    {
     "name": "stdout",
     "output_type": "stream",
     "text": [
      "% of cards over chosen idx: 0.6452448291137084\n"
     ]
    }
   ],
   "source": [
    "idx = 100\n",
    "over = sum([t[1] for t in x if t[0] > idx])\n",
    "undr = sum([t[1] for t in x if t[0] <= idx])\n",
    "print(\"% of cards over chosen idx:\", over/(over+undr))"
   ]
  },
  {
   "cell_type": "code",
   "execution_count": 17,
   "metadata": {},
   "outputs": [
    {
     "name": "stdout",
     "output_type": "stream",
     "text": [
      "dance of the dead|①Ⓑ|U|enchantment|aura|enchant creature card in a graveyard·when Ⓝ enters the battlefield, if it's on the battlefield, it loses \"enchant creature card in a graveyard\" and gains \"enchant creature put onto the battlefield with Ⓝ.\" put enchanted creature card onto the battlefield tapped under your control and attach Ⓝ to it. when Ⓝ leaves the battlefield, that creature's controller sacrifices it.·enchanted creature gets +1/+1 and doesn't untap during its controller's untap step.·at the beginning of the upkeep of enchanted creature's controller, that player may pay ①Ⓑ. if he or she does, untap that creature.Ⓔ\n"
     ]
    }
   ],
   "source": [
    "print(cardtext[txtlens.index(max(txtlens))])"
   ]
  },
  {
   "cell_type": "markdown",
   "metadata": {},
   "source": [
    "## generate batches\n",
    "\n",
    "START: Ⓢ  PAD: ⎕"
   ]
  },
  {
   "cell_type": "code",
   "execution_count": null,
   "metadata": {},
   "outputs": [],
   "source": [
    "# first get vocabulary\n",
    "vocab = []\n",
    "vocabset = ['⎕'] # zero-pad PAD character\n",
    "for card in cardtext:\n",
    "    lst = list(card)\n",
    "    vocab += lst\n",
    "\n",
    "# add vocab according to frequency\n",
    "vocabset += [x[0] for x in sorted([t for t in Counter(vocab).most_common()], key=lambda x: x[1], reverse=True)]\n",
    "vocabset.append('Ⓢ') # START-PAD character\n",
    "\n",
    "c2i = dict([(c, i) for i, c in enumerate(vocabset)])\n",
    "i2c = dict([(i, c) for i, c in enumerate(vocabset)])"
   ]
  },
  {
   "cell_type": "code",
   "execution_count": null,
   "metadata": {},
   "outputs": [],
   "source": [
    "c2i[' '], i2c[0]"
   ]
  },
  {
   "cell_type": "code",
   "execution_count": null,
   "metadata": {},
   "outputs": [],
   "source": [
    "# save\n",
    "# np.save('c2i.npy', c2i)\n",
    "# np.save('i2c.npy', i2c)"
   ]
  },
  {
   "cell_type": "code",
   "execution_count": null,
   "metadata": {},
   "outputs": [],
   "source": [
    "def cardGenerator(cardtext, windowsize, cards_per_batch, c2i=c2i, debug=False):\n",
    "    \n",
    "    i = 0\n",
    "    indices = list(np.random.permutation(len(cardtext)))\n",
    "    idx = indices[i]\n",
    "    lastseq = ''\n",
    "    \n",
    "    def nextcard(cardtext, idx, debug=debug):\n",
    "        if debug:\n",
    "            card_idx = cardtext[idx]\n",
    "        else:\n",
    "            card_idx = [c2i[c] for c in cardtext[idx]]\n",
    "        \n",
    "        return list(card_idx)\n",
    "    \n",
    "    # pregenerate warmup sequence of windowsize\n",
    "    # get startup sequence with card longer than windowsize+1\n",
    "    while len(cardtext[idx]) < windowsize:\n",
    "        i += 1\n",
    "        idx = indices[i]\n",
    "    # 'pad' sequence with end of card\n",
    "    if debug:\n",
    "        sequence = list(cardtext[idx][-(windowsize):])\n",
    "    else:\n",
    "        sequence = list([c2i[c] for c in cardtext[idx][-(windowsize):]])\n",
    "    i += 1\n",
    "    idx = indices[i]\n",
    "    # add n cards to sequence where n = cards_per_batch\n",
    "    for j in range(cards_per_batch):\n",
    "        sequence += nextcard(cardtext, idx)\n",
    "        i += 1\n",
    "        idx = indices[i]\n",
    "        \n",
    "    # create matrix\n",
    "    x = []\n",
    "    y = []\n",
    "    \n",
    "    # main iterator\n",
    "    while True:\n",
    "        \n",
    "        # set lastseq for next cycle\n",
    "        laststr = sequence[-(windowsize):]\n",
    "        \n",
    "        # generate batch (of cards_per_batch cards)\n",
    "        while len(sequence) > windowsize:\n",
    "            x.append(np.array(sequence[:windowsize]))\n",
    "            y.append(sequence[windowsize])\n",
    "            sequence.pop(0)\n",
    "        \n",
    "        # generate window-shifted data\n",
    "        # reshape for sparse_categorical_crossentropy\n",
    "        sequence = []\n",
    "        y = np.array(y)\n",
    "        y = y[:, np.newaxis]\n",
    "        # yield and reset\n",
    "        yield(np.asarray(x), y)\n",
    "        x, y = [], []\n",
    "        \n",
    "        # for next batch, check if enough remaining, else reset\n",
    "        if len(indices[i:]) < cards_per_batch:\n",
    "            indices = np.random.permutation(len(cardtext))\n",
    "            i = 0\n",
    "            idx = indices[i]\n",
    "        else:\n",
    "            i += 1\n",
    "            idx = indices[i]\n",
    "            \n",
    "        # seed warmup sequence with end of last batch\n",
    "        sequence = list(laststr)\n",
    "\n",
    "        i += 1\n",
    "        idx = indices[i]\n",
    "        for j in range(cards_per_batch):\n",
    "            sequence += nextcard(cardtext, idx)\n",
    "            i += 1\n",
    "            idx = indices[i]"
   ]
  },
  {
   "cell_type": "code",
   "execution_count": null,
   "metadata": {},
   "outputs": [],
   "source": [
    "# stress test : batch of 5000 x 2000 = over all cards at least once\n",
    "# itr = cardGenerator(cardtext, 5, 5000, debug=True)\n",
    "# for i in range(2000):\n",
    "#     x, y = next(itr)"
   ]
  },
  {
   "cell_type": "code",
   "execution_count": null,
   "metadata": {},
   "outputs": [],
   "source": [
    "itr = cardGenerator(cardtext, 100, 3, debug=True)"
   ]
  },
  {
   "cell_type": "code",
   "execution_count": null,
   "metadata": {},
   "outputs": [],
   "source": [
    "x, y = next(itr)\n",
    "print(x.shape, y.shape)\n",
    "for z in range(len(x)):\n",
    "    print(len(x[z]), x[z][-5:], y[z])"
   ]
  },
  {
   "cell_type": "markdown",
   "metadata": {},
   "source": [
    "to-do, network notes:\n",
    "\n",
    "create window-size, pad with START tokens\n",
    "add EOF token (and remove power/toughness if null?)\n",
    "in network, encode name with LSTM(s) then copy state(s) to output network\n",
    "(effectively a seq-to-seq)\n",
    "generator needs to PAD TO FIXED BATCH SIZE (see length chosen above)\n",
    "use batch-training and reset_state"
   ]
  },
  {
   "cell_type": "code",
   "execution_count": null,
   "metadata": {},
   "outputs": [],
   "source": []
  }
 ],
 "metadata": {
  "kernelspec": {
   "display_name": "Python 3",
   "language": "python",
   "name": "python3"
  },
  "language_info": {
   "codemirror_mode": {
    "name": "ipython",
    "version": 3
   },
   "file_extension": ".py",
   "mimetype": "text/x-python",
   "name": "python",
   "nbconvert_exporter": "python",
   "pygments_lexer": "ipython3",
   "version": "3.6.3"
  }
 },
 "nbformat": 4,
 "nbformat_minor": 2
}
