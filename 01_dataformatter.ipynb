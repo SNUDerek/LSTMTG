{
 "cells": [
  {
   "cell_type": "markdown",
   "metadata": {},
   "source": [
    "# data formatting\n",
    "\n",
    "here we convert the card info into sequences of characters to train our model"
   ]
  },
  {
   "cell_type": "code",
   "execution_count": 1,
   "metadata": {},
   "outputs": [],
   "source": [
    "import numpy as np\n",
    "import re\n",
    "from collections import Counter"
   ]
  },
  {
   "cell_type": "code",
   "execution_count": 2,
   "metadata": {},
   "outputs": [],
   "source": [
    "setnm = list(np.load('data//numpy//setnm.npy'))\n",
    "idnum = list(np.load('data//numpy//idnum.npy'))\n",
    "names = list(np.load('data//numpy//names.npy'))\n",
    "mcost = list(np.load('data//numpy//mcost.npy'))\n",
    "rarty = list(np.load('data//numpy//rarty.npy'))\n",
    "types = list(np.load('data//numpy//types.npy'))\n",
    "subtp = list(np.load('data//numpy//subtp.npy'))\n",
    "ctext = list(np.load('data//numpy//ctext_orig.npy'))\n",
    "power = list(np.load('data//numpy//power.npy'))\n",
    "tough = list(np.load('data//numpy//tough.npy'))"
   ]
  },
  {
   "cell_type": "markdown",
   "metadata": {},
   "source": [
    "### encode the rarities as capital letters"
   ]
  },
  {
   "cell_type": "code",
   "execution_count": 3,
   "metadata": {},
   "outputs": [
    {
     "data": {
      "text/plain": [
       "['S', 'M', 'U', 'C', 'R']"
      ]
     },
     "execution_count": 3,
     "metadata": {},
     "output_type": "execute_result"
    }
   ],
   "source": [
    "rletr = [w[0] for w in rarty]\n",
    "list(set(rletr))"
   ]
  },
  {
   "cell_type": "markdown",
   "metadata": {},
   "source": [
    "### encode the types, subtypes as lower-cased words separated by a symbol '·'"
   ]
  },
  {
   "cell_type": "code",
   "execution_count": 4,
   "metadata": {},
   "outputs": [],
   "source": [
    "typss = []\n",
    "for x in types:\n",
    "    item = ''\n",
    "    lst = str(x).split(' ')\n",
    "    for idx, tp in enumerate(lst):\n",
    "        item += tp.lower()\n",
    "        if idx < len(lst)-1:\n",
    "            item += '·'\n",
    "    \n",
    "    typss.append(item)    "
   ]
  },
  {
   "cell_type": "code",
   "execution_count": 5,
   "metadata": {},
   "outputs": [
    {
     "data": {
      "text/plain": [
       "{'artifact',\n",
       " 'artifact·creature',\n",
       " 'artifact·host·creature',\n",
       " 'creature',\n",
       " 'enchantment',\n",
       " 'enchantment·artifact',\n",
       " 'enchantment·creature',\n",
       " 'host·creature',\n",
       " 'instant',\n",
       " 'planeswalker',\n",
       " 'sorcery',\n",
       " 'tribal·artifact',\n",
       " 'tribal·enchantment',\n",
       " 'tribal·instant',\n",
       " 'tribal·sorcery'}"
      ]
     },
     "execution_count": 5,
     "metadata": {},
     "output_type": "execute_result"
    }
   ],
   "source": [
    "set(typss)"
   ]
  },
  {
   "cell_type": "code",
   "execution_count": 6,
   "metadata": {},
   "outputs": [],
   "source": [
    "subts = []\n",
    "for lst in subtp:\n",
    "    item = ''\n",
    "    lst = list(lst)\n",
    "    for idx, subtype in enumerate(lst):\n",
    "        if subtype != 'PAD':\n",
    "            item += subtype.lower()\n",
    "        if idx < len(lst)-1:\n",
    "            if lst[idx+1] != 'PAD':\n",
    "                item += '·'\n",
    "    \n",
    "    if item == '':\n",
    "        item = '⌧'\n",
    "    \n",
    "    subts.append(item)    "
   ]
  },
  {
   "cell_type": "markdown",
   "metadata": {},
   "source": [
    "### remove reminder text\n",
    "strip all text between parentheses"
   ]
  },
  {
   "cell_type": "code",
   "execution_count": 7,
   "metadata": {},
   "outputs": [
    {
     "data": {
      "text/plain": [
       "['first strike (this creature deals combat damage before creatures without first strike.)|when Ⓝ enters the battlefield, you gain 1 life for each card in your graveyard.',\n",
       " 'flying|when Ⓝ enters the battlefield, you gain 3 life.',\n",
       " \"target creature gets +3/+3 and gains flying until end of turn. (it can't be blocked except by creatures with flying or reach.)\",\n",
       " 'whenever a creature enters the battlefield under your control, you gain life equal to its toughness.',\n",
       " \"defender (this creature can't attack.)|flying\",\n",
       " 'artifact and enchantment spells your opponents cast cost ② more to cast.|sacrifice Ⓝ: destroy target artifact or enchantment.',\n",
       " \"flying (this creature can't be blocked except by creatures with flying or reach.)|when Ⓝ enters the battlefield, destroy target enchantment.\",\n",
       " 'ⓍⓌ, ↷: Ⓝ deals x damage to target attacking or blocking creature.',\n",
       " 'prevent the next 1 damage that would be dealt to any target this turn.|draw a card.',\n",
       " \"double target player's life total. shuffle Ⓝ into its owner's library.\"]"
      ]
     },
     "execution_count": 7,
     "metadata": {},
     "output_type": "execute_result"
    }
   ],
   "source": [
    "ctext[:10]"
   ]
  },
  {
   "cell_type": "code",
   "execution_count": 8,
   "metadata": {},
   "outputs": [],
   "source": [
    "ctext_new = []\n",
    "for text in ctext:\n",
    "    new_text = re.sub(r'\\s\\([\\S\\s]+\\)', '', text)\n",
    "    new_text = new_text.replace('|', '·')\n",
    "    ctext_new.append(new_text)"
   ]
  },
  {
   "cell_type": "code",
   "execution_count": 9,
   "metadata": {},
   "outputs": [
    {
     "data": {
      "text/plain": [
       "['first strike·when Ⓝ enters the battlefield, you gain 1 life for each card in your graveyard.',\n",
       " 'flying·when Ⓝ enters the battlefield, you gain 3 life.',\n",
       " 'target creature gets +3/+3 and gains flying until end of turn.',\n",
       " 'whenever a creature enters the battlefield under your control, you gain life equal to its toughness.',\n",
       " 'defender·flying',\n",
       " 'artifact and enchantment spells your opponents cast cost ② more to cast.·sacrifice Ⓝ: destroy target artifact or enchantment.',\n",
       " 'flying·when Ⓝ enters the battlefield, destroy target enchantment.',\n",
       " 'ⓍⓌ, ↷: Ⓝ deals x damage to target attacking or blocking creature.',\n",
       " 'prevent the next 1 damage that would be dealt to any target this turn.·draw a card.',\n",
       " \"double target player's life total. shuffle Ⓝ into its owner's library.\"]"
      ]
     },
     "execution_count": 9,
     "metadata": {},
     "output_type": "execute_result"
    }
   ],
   "source": [
    "ctext_new[:10]"
   ]
  },
  {
   "cell_type": "markdown",
   "metadata": {},
   "source": [
    "### combine items into string with '|' separator\n",
    "\n",
    "`[mcost|rletr|typss|subts|power|tough|ctext_new]`  \n",
    "don't add power/tough if not needed  \n",
    "use START symbol: Ⓢ and EOF symbol: Ⓔ  "
   ]
  },
  {
   "cell_type": "code",
   "execution_count": 10,
   "metadata": {},
   "outputs": [],
   "source": [
    "cardtext = []\n",
    "for i in range(len(names)):\n",
    "    lst = [names[i], mcost[i], rletr[i], typss[i]]\n",
    "    # only add subtype if not empty\n",
    "    if subts[i] != '⌧':\n",
    "        lst += [subts[i]]\n",
    "    # add power-toughness before cardtext\n",
    "    if power[i] != '⌧' and tough[i] != '⌧':\n",
    "        lst += [power[i], tough[i]]\n",
    "    lst += [ctext_new[i]]\n",
    "    \n",
    "    txt = '|'.join(lst)\n",
    "    txt += 'Ⓔ'\n",
    "    cardtext.append('Ⓢ'+txt)"
   ]
  },
  {
   "cell_type": "code",
   "execution_count": 11,
   "metadata": {},
   "outputs": [
    {
     "name": "stdout",
     "output_type": "stream",
     "text": [
      "Ⓢancestor's chosen|⑤ⓌⓌ|U|creature|human·cleric|4|4|first strike·when Ⓝ enters the battlefield, you gain 1 life for each card in your graveyard.Ⓔ\n",
      "Ⓢangel of mercy|④Ⓦ|U|creature|angel|3|3|flying·when Ⓝ enters the battlefield, you gain 3 life.Ⓔ\n",
      "Ⓢangelic blessing|②Ⓦ|C|sorcery|target creature gets +3/+3 and gains flying until end of turn.Ⓔ\n",
      "Ⓢangelic chorus|③ⓌⓌ|R|enchantment|whenever a creature enters the battlefield under your control, you gain life equal to its toughness.Ⓔ\n",
      "Ⓢangelic wall|①Ⓦ|C|creature|wall|0|4|defender·flyingⒺ\n",
      "Ⓢaura of silence|①ⓌⓌ|U|enchantment|artifact and enchantment spells your opponents cast cost ② more to cast.·sacrifice Ⓝ: destroy target artifact or enchantment.Ⓔ\n",
      "Ⓢaven cloudchaser|③Ⓦ|C|creature|bird·soldier|2|2|flying·when Ⓝ enters the battlefield, destroy target enchantment.Ⓔ\n",
      "Ⓢballista squad|③Ⓦ|U|creature|human·rebel|2|2|ⓍⓌ, ↷: Ⓝ deals x damage to target attacking or blocking creature.Ⓔ\n",
      "Ⓢbandage|Ⓦ|C|instant|prevent the next 1 damage that would be dealt to any target this turn.·draw a card.Ⓔ\n",
      "Ⓢbeacon of immortality|⑤Ⓦ|R|instant|double target player's life total. shuffle Ⓝ into its owner's library.Ⓔ\n"
     ]
    }
   ],
   "source": [
    "for i in range(10):\n",
    "    print(cardtext[i])"
   ]
  },
  {
   "cell_type": "markdown",
   "metadata": {},
   "source": [
    "### save cardtexts"
   ]
  },
  {
   "cell_type": "code",
   "execution_count": 12,
   "metadata": {},
   "outputs": [],
   "source": [
    "np.save('data/card_texts.npy', cardtext)"
   ]
  },
  {
   "cell_type": "markdown",
   "metadata": {},
   "source": [
    "### analysis & testing"
   ]
  },
  {
   "cell_type": "code",
   "execution_count": 13,
   "metadata": {},
   "outputs": [],
   "source": [
    "txtlens = [len(s) for s in cardtext]"
   ]
  },
  {
   "cell_type": "code",
   "execution_count": 14,
   "metadata": {},
   "outputs": [],
   "source": [
    "lencnts = Counter(txtlens)\n",
    "zips = lencnts.most_common()\n",
    "x = sorted(zips, key = lambda x: x[0], reverse=True)"
   ]
  },
  {
   "cell_type": "markdown",
   "metadata": {},
   "source": [
    "### determine a good max sequence length\n",
    "\n",
    "due to the `keras` fixed-graph structure, we need to set all inputs to the same length."
   ]
  },
  {
   "cell_type": "code",
   "execution_count": 16,
   "metadata": {},
   "outputs": [
    {
     "name": "stdout",
     "output_type": "stream",
     "text": [
      "% of cards over chosen idx: 0.05520905520905521\n"
     ]
    }
   ],
   "source": [
    "idx = 256\n",
    "over = sum([t[1] for t in x if t[0] > idx])\n",
    "undr = sum([t[1] for t in x if t[0] <= idx])\n",
    "print(\"% of cards over chosen idx:\", over/(over+undr))"
   ]
  },
  {
   "cell_type": "code",
   "execution_count": 17,
   "metadata": {},
   "outputs": [
    {
     "name": "stdout",
     "output_type": "stream",
     "text": [
      "Ⓢdance of the dead|①Ⓑ|U|enchantment|aura|enchant creature card in a graveyard·when Ⓝ enters the battlefield, if it's on the battlefield, it loses \"enchant creature card in a graveyard\" and gains \"enchant creature put onto the battlefield with Ⓝ.\" put enchanted creature card onto the battlefield tapped under your control and attach Ⓝ to it. when Ⓝ leaves the battlefield, that creature's controller sacrifices it.·enchanted creature gets +1/+1 and doesn't untap during its controller's untap step.·at the beginning of the upkeep of enchanted creature's controller, that player may pay ①Ⓑ. if the player does, untap that creature.Ⓔ\n"
     ]
    }
   ],
   "source": [
    "print(cardtext[txtlens.index(max(txtlens))])"
   ]
  },
  {
   "cell_type": "markdown",
   "metadata": {},
   "source": [
    "## vocabulary\n",
    "\n",
    "START: Ⓢ  \n",
    "EOS/PAD: Ⓔ  \n",
    "\n",
    "we will use the EOS symbol as the padding symbol as well because recycling"
   ]
  },
  {
   "cell_type": "code",
   "execution_count": 18,
   "metadata": {},
   "outputs": [],
   "source": [
    "# first get vocabulary\n",
    "vocab = []\n",
    "vocabset = ['Ⓔ'] # zero-pad PAD character\n",
    "for card in cardtext:\n",
    "    lst = list(card)\n",
    "    vocab += lst"
   ]
  },
  {
   "cell_type": "code",
   "execution_count": 19,
   "metadata": {},
   "outputs": [],
   "source": [
    "# add vocab according to frequency\n",
    "vocabset += [x[0] for x in sorted([t for t in Counter(vocab).most_common() if t[0] != 'Ⓔ'], key=lambda x: x[1], reverse=True)]\n",
    "vocabset.append('Ⓢ') # START-PAD character"
   ]
  },
  {
   "cell_type": "code",
   "execution_count": 20,
   "metadata": {},
   "outputs": [],
   "source": [
    "c2i = dict([(c, i) for i, c in enumerate(vocabset)])\n",
    "i2c = dict([(i, c) for i, c in enumerate(vocabset)])"
   ]
  },
  {
   "cell_type": "code",
   "execution_count": 21,
   "metadata": {},
   "outputs": [
    {
     "data": {
      "text/plain": [
       "(0, 1, 'Ⓔ', 'Ⓢ')"
      ]
     },
     "execution_count": 21,
     "metadata": {},
     "output_type": "execute_result"
    }
   ],
   "source": [
    "c2i['Ⓔ'], c2i[' '], i2c[0], i2c[max(i2c.keys())]"
   ]
  },
  {
   "cell_type": "code",
   "execution_count": 22,
   "metadata": {},
   "outputs": [],
   "source": [
    "# save\n",
    "np.save('data/c2i.npy', c2i)\n",
    "np.save('data/i2c.npy', i2c)"
   ]
  },
  {
   "cell_type": "markdown",
   "metadata": {},
   "source": [
    "## encode\n",
    "\n",
    "here we encode the inputs and outputs for training. the output will be the input, offset by one, such that it is the 'next' symbol:\n",
    "\n",
    "```\n",
    "# replacing start with $ and end with & for spacing\n",
    "\n",
    "in : $  H  E  L  L  O  _  W  O  R  L  D  &  &\n",
    "out: H  E  L  L  O  _  W  O  R  L  D  &  &  &\n",
    "```\n",
    "\n",
    "this says, \"when you see the start symbol, predict an 'H', and then when you see an 'H', predict an 'E' etc. etc."
   ]
  },
  {
   "cell_type": "code",
   "execution_count": 23,
   "metadata": {},
   "outputs": [],
   "source": [
    "def encode(lol, maxlen=256):\n",
    "    x, y = [], []\n",
    "    for l in lol:\n",
    "        l = [c2i[c] for c in l]\n",
    "        l = l[:maxlen]\n",
    "        while len(l) < maxlen:\n",
    "            l.append(0)\n",
    "        x.append(l)\n",
    "        l = l[1:]\n",
    "        l.append(0)\n",
    "        y.append(l)\n",
    "    return np.array(x), np.array(y)"
   ]
  },
  {
   "cell_type": "code",
   "execution_count": 24,
   "metadata": {},
   "outputs": [],
   "source": [
    "xcards, ycards = encode(cardtext)"
   ]
  },
  {
   "cell_type": "code",
   "execution_count": 25,
   "metadata": {},
   "outputs": [
    {
     "data": {
      "text/plain": [
       "((30303, 256), (30303, 256))"
      ]
     },
     "execution_count": 25,
     "metadata": {},
     "output_type": "execute_result"
    }
   ],
   "source": [
    "xcards.shape, ycards.shape"
   ]
  },
  {
   "cell_type": "code",
   "execution_count": 26,
   "metadata": {},
   "outputs": [],
   "source": [
    "np.save('data/xcards.npy', xcards)\n",
    "np.save('data/ycards.npy', ycards)"
   ]
  },
  {
   "cell_type": "code",
   "execution_count": null,
   "metadata": {},
   "outputs": [],
   "source": []
  }
 ],
 "metadata": {
  "kernelspec": {
   "display_name": "Python 3",
   "language": "python",
   "name": "python3"
  },
  "language_info": {
   "codemirror_mode": {
    "name": "ipython",
    "version": 3
   },
   "file_extension": ".py",
   "mimetype": "text/x-python",
   "name": "python",
   "nbconvert_exporter": "python",
   "pygments_lexer": "ipython3",
   "version": "3.6.3"
  }
 },
 "nbformat": 4,
 "nbformat_minor": 2
}
