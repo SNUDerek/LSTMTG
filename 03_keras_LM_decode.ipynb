{
 "cells": [
  {
   "cell_type": "markdown",
   "metadata": {},
   "source": [
    "# decoding\n",
    "\n",
    "use the model to predict some new cards!"
   ]
  },
  {
   "cell_type": "code",
   "execution_count": 1,
   "metadata": {},
   "outputs": [
    {
     "name": "stderr",
     "output_type": "stream",
     "text": [
      "/home/derek/miniconda3/lib/python3.6/site-packages/h5py/__init__.py:36: FutureWarning: Conversion of the second argument of issubdtype from `float` to `np.floating` is deprecated. In future, it will be treated as `np.float64 == np.dtype(float).type`.\n",
      "  from ._conv import register_converters as _register_converters\n",
      "Using TensorFlow backend.\n"
     ]
    }
   ],
   "source": [
    "import numpy as np\n",
    "from keras.models import Model, load_model\n",
    "from keras.layers import Input, Embedding, LSTM, Dense, Dropout\n",
    "from keras.callbacks import ModelCheckpoint\n",
    "import h5py"
   ]
  },
  {
   "cell_type": "code",
   "execution_count": 2,
   "metadata": {},
   "outputs": [],
   "source": [
    "# restrict GPU usage here\n",
    "import os\n",
    "os.environ[\"CUDA_VISIBLE_DEVICES\"]=\"1\""
   ]
  },
  {
   "cell_type": "code",
   "execution_count": 3,
   "metadata": {},
   "outputs": [],
   "source": [
    "# read in data\n",
    "c2i = np.load('data/c2i.npy').item()\n",
    "i2c = np.load('data/i2c.npy').item()\n",
    "ycards = np.load('data/ycards.npy')"
   ]
  },
  {
   "cell_type": "markdown",
   "metadata": {},
   "source": [
    "## hyperparameters\n",
    "\n",
    "although dropout, batch size and epochs aren't used at decode, we need the variables that define the model size."
   ]
  },
  {
   "cell_type": "code",
   "execution_count": 4,
   "metadata": {},
   "outputs": [],
   "source": [
    "# copied from training\n",
    "DROP_RATE = 0.00\n",
    "\n",
    "EMBEDDING_SIZE = 500          # character embedding size\n",
    "HIDDEN_SIZE = 1000             # lstm feature vector size\n",
    "MAX_Y_LEN = ycards.shape[1]   # maximum card length\n",
    "VOCAB_SIZE = len(c2i.keys())  # number of characters"
   ]
  },
  {
   "cell_type": "markdown",
   "metadata": {},
   "source": [
    "## decoding"
   ]
  },
  {
   "cell_type": "code",
   "execution_count": 5,
   "metadata": {},
   "outputs": [],
   "source": [
    "# Set up the decoder, using `encoder_states` as initial state.\n",
    "decoder_input  = Input(shape=(MAX_Y_LEN, ), name='lm_input')\n",
    "decoder_embed  = Embedding(VOCAB_SIZE, EMBEDDING_SIZE, \n",
    "                           mask_zero=True, trainable=True, name='lm_emb')\n",
    "decoder_lstm1  = LSTM(HIDDEN_SIZE, \n",
    "                      return_sequences=True, \n",
    "                      return_state=True, \n",
    "                      name='lm_lstm1')\n",
    "decoder_lstm2  = LSTM(HIDDEN_SIZE, \n",
    "                      return_sequences=True, \n",
    "                      return_state=True, \n",
    "                      name='lm_lstm2')\n",
    "\n",
    "decoder_dense_1  = Dense(HIDDEN_SIZE, activation='relu', name='lm_dns_1')\n",
    "decoder_dense_2  = Dense(VOCAB_SIZE, activation='softmax', name='lm_dns_final')\n",
    "\n",
    "x = decoder_embed(decoder_input)\n",
    "x = Dropout(DROP_RATE)(x)\n",
    "x, h1, c1 = decoder_lstm1(x)\n",
    "x = Dropout(DROP_RATE)(x)\n",
    "x, h2, c2 = decoder_lstm2(x)\n",
    "x = Dropout(DROP_RATE)(x)\n",
    "x = decoder_dense_1(x)\n",
    "x = Dropout(DROP_RATE)(x)\n",
    "x = decoder_dense_2(x)\n",
    "\n",
    "model = Model(decoder_input, x)"
   ]
  },
  {
   "cell_type": "code",
   "execution_count": 6,
   "metadata": {},
   "outputs": [],
   "source": [
    "model.load_weights('model/weights_final.h5')"
   ]
  },
  {
   "cell_type": "code",
   "execution_count": 7,
   "metadata": {},
   "outputs": [],
   "source": [
    "# this input is for the previously-predicted character\n",
    "decoder_input  = Input(shape=(1, ))\n",
    "# these inputs are the recurrent states\n",
    "decoder_state_input_h1 = Input(shape=(HIDDEN_SIZE,))\n",
    "decoder_state_input_c1 = Input(shape=(HIDDEN_SIZE,))\n",
    "decoder_states_inputs1 = [decoder_state_input_h1, decoder_state_input_c1]\n",
    "decoder_state_input_h2 = Input(shape=(HIDDEN_SIZE,))\n",
    "decoder_state_input_c2 = Input(shape=(HIDDEN_SIZE,))\n",
    "decoder_states_inputs2 = [decoder_state_input_h2, decoder_state_input_c2]\n",
    "\n",
    "# we reuse the embedding layer\n",
    "x = decoder_embed(decoder_input)\n",
    "x, dh1, dc1 = decoder_lstm1(x, initial_state=decoder_states_inputs1)\n",
    "decoded_states1 = [dh1, dc1]\n",
    "x, dh2, dc2 = decoder_lstm2(x, initial_state=decoder_states_inputs2)\n",
    "decoded_states2 = [dh2, dc2]\n",
    "\n",
    "x = decoder_dense_1(x)\n",
    "x = decoder_dense_2(x)"
   ]
  },
  {
   "cell_type": "code",
   "execution_count": 8,
   "metadata": {},
   "outputs": [],
   "source": [
    "gen_model = Model(inputs=[decoder_input] + decoder_states_inputs1 + decoder_states_inputs2, \n",
    "                  outputs=[x] + decoded_states1 + decoded_states2)"
   ]
  },
  {
   "cell_type": "code",
   "execution_count": 9,
   "metadata": {},
   "outputs": [
    {
     "name": "stdout",
     "output_type": "stream",
     "text": [
      "__________________________________________________________________________________________________\n",
      "Layer (type)                    Output Shape         Param #     Connected to                     \n",
      "==================================================================================================\n",
      "input_1 (InputLayer)            (None, 1)            0                                            \n",
      "__________________________________________________________________________________________________\n",
      "lm_emb (Embedding)              multiple             51000       input_1[0][0]                    \n",
      "__________________________________________________________________________________________________\n",
      "input_2 (InputLayer)            (None, 1000)         0                                            \n",
      "__________________________________________________________________________________________________\n",
      "input_3 (InputLayer)            (None, 1000)         0                                            \n",
      "__________________________________________________________________________________________________\n",
      "lm_lstm1 (LSTM)                 multiple             6004000     lm_emb[1][0]                     \n",
      "                                                                 input_2[0][0]                    \n",
      "                                                                 input_3[0][0]                    \n",
      "__________________________________________________________________________________________________\n",
      "input_4 (InputLayer)            (None, 1000)         0                                            \n",
      "__________________________________________________________________________________________________\n",
      "input_5 (InputLayer)            (None, 1000)         0                                            \n",
      "__________________________________________________________________________________________________\n",
      "lm_lstm2 (LSTM)                 multiple             8004000     lm_lstm1[1][0]                   \n",
      "                                                                 input_4[0][0]                    \n",
      "                                                                 input_5[0][0]                    \n",
      "__________________________________________________________________________________________________\n",
      "lm_dns_1 (Dense)                multiple             1001000     lm_lstm2[1][0]                   \n",
      "__________________________________________________________________________________________________\n",
      "lm_dns_final (Dense)            multiple             102102      lm_dns_1[1][0]                   \n",
      "==================================================================================================\n",
      "Total params: 15,162,102\n",
      "Trainable params: 15,162,102\n",
      "Non-trainable params: 0\n",
      "__________________________________________________________________________________________________\n"
     ]
    }
   ],
   "source": [
    "gen_model.summary()"
   ]
  },
  {
   "cell_type": "markdown",
   "metadata": {},
   "source": [
    "## decode function\n",
    "\n",
    "we initialize the states randomly, and start our sequence qith the SOS character. until we reach a set length or we reach an end-of-sequence character, we will generate a probability distribution over the next predicted characters, sample a character randomly according to the distribution (we won't use a greedy or beam-search method because we *want* a degree of 'wackiness' in this case), and input that character (along with the LSTM previous states) *back* into the model to generate another character, etc.\n",
    "\n",
    "the *temperature* scales the softmax distribution, allowing for more or less randomness in the network predictions. a temperature of 1 is unscaled, a temperature above one means that the relative probabilities are closer (and thus the network is more 'random'), while temperatures below 1 make the network more confident (and thus more 'conservative')."
   ]
  },
  {
   "cell_type": "code",
   "execution_count": 10,
   "metadata": {},
   "outputs": [],
   "source": [
    "def decode_sequence(temperature=1.0, maxlen=256, seed=None, debug=False):\n",
    "    # randomize input state vectors.\n",
    "    a = np.random.random(HIDDEN_SIZE).reshape(1, -1)\n",
    "    b = np.random.random(HIDDEN_SIZE).reshape(1, -1)\n",
    "    c = np.random.random(HIDDEN_SIZE).reshape(1, -1)\n",
    "    d = np.random.random(HIDDEN_SIZE).reshape(1, -1)\n",
    "    states1 = [a, b]\n",
    "    states2 = [c, d]\n",
    "    decoded_sentence = []\n",
    "    # Generate empty target sequence of length 1.\n",
    "    # Populate the first character of target sequence with the start character.\n",
    "    # add seed if present\n",
    "    target_seq = [c2i['Ⓢ']]\n",
    "    if seed is not None:\n",
    "        seed = seed.lower()\n",
    "        if seed[-1] != '⒞':\n",
    "            seed += '⒞'\n",
    "        for char in seed:\n",
    "            target_seq.append(c2i[char])\n",
    "            \n",
    "    # pre-load seed - run loop without saving output\n",
    "    # and use target output instead; akin to teacher forcing\n",
    "    if len(target_seq) > 1:\n",
    "        for i in range(len(target_seq)-1):\n",
    "            output_tokens, h1, c1, h2, c2 = gen_model.predict([np.array([target_seq[i]])] + states1 + states2)\n",
    "            states1 = [h1, c1]\n",
    "            states2 = [h2, c2]\n",
    "        for c in seed:\n",
    "            decoded_sentence.append(c)\n",
    "                \n",
    "    # Sampling loop for a batch of sequences\n",
    "    # (to simplify, here we assume a batch of size 1).\n",
    "    stop_condition = False\n",
    "    while not stop_condition:\n",
    "        if debug:\n",
    "            print('inp:', [np.array([target_seq[-1]])])\n",
    "            print('st1:', np.shape(states1))\n",
    "            print('st2:', np.shape(states2))\n",
    "            \n",
    "        output_tokens, h1, c1, h2, c2 = gen_model.predict([np.array([target_seq[-1]])] + states1 + states2)\n",
    "        if debug:\n",
    "            # print('typ:', type(output_tokens), type(h1), type(c2), type(h2), type(c2))\n",
    "            print('out:', output_tokens.shape)\n",
    "            print('max:', i2c[target_seq[-1]], '=>', i2c[np.argmax(output_tokens)])\n",
    "            print()\n",
    "        \n",
    "        # Update states\n",
    "        states1 = [h1, c1]\n",
    "        states2 = [h2, c2]\n",
    "        \n",
    "        def sample(a, temperature=temperature):\n",
    "            a = np.array(a)**(1/temperature)\n",
    "            p_sum = a.sum()\n",
    "            sample_temp = a/p_sum \n",
    "            # stupid fix for > 1 error\n",
    "            while sum(sample_temp) > 1:\n",
    "                sample_temp[0] -= 0.0001\n",
    "            return np.argmax(np.random.multinomial(1, sample_temp, 1))\n",
    "        \n",
    "        # Sample a token with temperature\n",
    "        sampled_token_index = idx = sample(np.squeeze(output_tokens))\n",
    "        sampled_char = i2c[sampled_token_index]\n",
    "        decoded_sentence.append(sampled_char)\n",
    "\n",
    "        # Exit condition: either hit max length\n",
    "        # or find stop character.\n",
    "        if len(decoded_sentence) > maxlen*2 or sampled_char in ['Ⓔ']:\n",
    "            stop_condition = True\n",
    "\n",
    "        # Update the target sequence (of length 1).\n",
    "        target_seq.append(sampled_token_index)\n",
    "\n",
    "    return decoded_sentence"
   ]
  },
  {
   "cell_type": "markdown",
   "metadata": {},
   "source": [
    "## generate extension idea:\n",
    "\n",
    "you could allow users to 'seed' any number of fields by eliciting the targets. e.g. the user wants to make themselves as a card, so they choose:  \n",
    "`name` = \"billy bob\"  \n",
    "`type` = \"Legendary Creature - Human\"\n",
    "\n",
    "during the generation loop, when the leading tag for that field is generated, e.g. `⒯` for `type`, then just like the current code, the *desired* input is 'forced' into the LSTM until the end of that field (so for type we would end the sequence with `⒫` to signal the *end* of the type)."
   ]
  },
  {
   "cell_type": "code",
   "execution_count": 11,
   "metadata": {},
   "outputs": [],
   "source": [
    "# Ⓢ for name (at start of card)\n",
    "# ⒞ for mana cost\n",
    "# ⒭ for rarity\n",
    "# ⒯ for type & subtype\n",
    "# ⒫ for power & toughness\n",
    "# ⒜ for each ability"
   ]
  },
  {
   "cell_type": "code",
   "execution_count": 12,
   "metadata": {},
   "outputs": [],
   "source": [
    "def generate(temperature=1, seed=None):\n",
    "    card = ''.join(decode_sequence(temperature=temperature, seed=seed)).replace('Ⓔ', '')\n",
    "    rarity = {'S': 'promo', 'M': 'mythic', 'C': 'common', 'U': 'uncommon', 'R': 'rare'}\n",
    "    splits = ['⒞', '⒭', '⒯', '⒫', '⒜']\n",
    "    for s in splits:\n",
    "        card = card.replace(s, '|'+s)\n",
    "    card = card.split('|')\n",
    "    \n",
    "    cardd = {}\n",
    "    cardd['abil'] = []\n",
    "    for i, l in enumerate(card):\n",
    "        if i == 0:\n",
    "            cardd['name'] = card[i].title()\n",
    "        else:\n",
    "            l = l.replace('Ⓝ', cardd['name'])\n",
    "            if '⒞' in l:\n",
    "                cardd['cost'] = l.replace('⒞', '')\n",
    "            elif '⒭' in l:\n",
    "                cardd['rare'] = rarity.get(l.replace('⒭', ''), 'unknown')\n",
    "            elif '⒯' in l:\n",
    "                cardd['type'] = l.replace('⒯', '').replace(':', ': ').replace('·', ' ')\n",
    "            elif '⒫' in l:\n",
    "                if 'creature' in cardd['type']:\n",
    "                    cardd['pt'] = l.replace('⒫', '')\n",
    "            else:\n",
    "                cardd['abil'].append(l.replace('⒜', '').replace(' x ', ' X '))\n",
    "    \n",
    "    for cat in ['name', 'cost', 'rare', 'type', 'abil', 'pt']:\n",
    "        if cat in cardd.keys():\n",
    "            if cat == 'abil':\n",
    "                for a in cardd[cat]:\n",
    "                    print(a)\n",
    "            else:\n",
    "                print(cardd[cat])\n",
    "    return cardd"
   ]
  },
  {
   "cell_type": "markdown",
   "metadata": {},
   "source": [
    "## examples\n",
    "\n",
    "here we generate some cards with different temperature settings\n",
    "\n",
    "i did cheat here to generate a 'well-formed' card"
   ]
  },
  {
   "cell_type": "code",
   "execution_count": 31,
   "metadata": {},
   "outputs": [
    {
     "name": "stdout",
     "output_type": "stream",
     "text": [
      "Thorn Spider\n",
      "②Ⓖ\n",
      "common\n",
      "creature: spider\n",
      "reach\n",
      "when Thorn Spider enters the battlefield, you may search your library for a card named Thorn Spider, reveal that card, and put it into your hand. if you do, shuffle your library.\n",
      "2/3\n"
     ]
    }
   ],
   "source": [
    "c = generate(temperature=0.25)"
   ]
  },
  {
   "cell_type": "code",
   "execution_count": 23,
   "metadata": {},
   "outputs": [
    {
     "name": "stdout",
     "output_type": "stream",
     "text": [
      "Riving Distinger\n",
      "③ⓌⓌ\n",
      "rare\n",
      "creature: elemental\n",
      "swampwalk\n",
      "when Riving Distinger enters the battlefield, put a +1/+1 counter on each creature you control.\n",
      "4/5\n"
     ]
    }
   ],
   "source": [
    "c = generate(temperature=1.0)"
   ]
  },
  {
   "cell_type": "code",
   "execution_count": 24,
   "metadata": {},
   "outputs": [
    {
     "name": "stdout",
     "output_type": "stream",
     "text": [
      "Retavants\n",
      "⑤ⓊⓊ\n",
      "common\n",
      "sorcery\n",
      "you may reveal cards from the top. counter target spell.\n"
     ]
    }
   ],
   "source": [
    "c = generate(temperature=1.5)"
   ]
  },
  {
   "cell_type": "code",
   "execution_count": 25,
   "metadata": {},
   "outputs": [
    {
     "name": "stdout",
     "output_type": "stream",
     "text": [
      "Pac'S Kelsgu',Tunr\n",
      ",y0ⒼⓇⓊⓇⓇⓇⒼ.ⓌⓊⓇⒼⒼⒼⒼ\n",
      "rare\n",
      "is you to up. par,nf x!k you're' indem.Ⓑ ⒼⓇⓇvⒼ\n",
      "Ⓧ, gexs Ⓧ5p ⑤: sewry\n",
      "smlyorwm.uav\n",
      "a.③\n"
     ]
    }
   ],
   "source": [
    "c = generate(temperature=3)"
   ]
  },
  {
   "cell_type": "markdown",
   "metadata": {},
   "source": [
    "## with some name seeds"
   ]
  },
  {
   "cell_type": "code",
   "execution_count": 26,
   "metadata": {},
   "outputs": [
    {
     "name": "stdout",
     "output_type": "stream",
     "text": [
      "Mark Rosewater\n",
      "①Ⓑ\n",
      "common\n",
      "creature: bird shaman\n",
      "flying\n",
      "whenever Mark Rosewater blocks a creature, that creature becomes a -1/-1 counter. it's an artifact creature with power and toughness each equal to its converted mana cost.\n",
      "2/1\n"
     ]
    }
   ],
   "source": [
    "c = generate(temperature=1, seed='Mark Rosewater')"
   ]
  },
  {
   "cell_type": "code",
   "execution_count": 32,
   "metadata": {},
   "outputs": [
    {
     "name": "stdout",
     "output_type": "stream",
     "text": [
      "Richard Garfield\n",
      "⑤ⓌⓌ\n",
      "rare\n",
      "creature: angel\n",
      "flying, vigilance, trample\n",
      "when Richard Garfield enters the battlefield, if it was kicked, draw three cards.\n",
      "5/5\n"
     ]
    }
   ],
   "source": [
    "c = generate(temperature=1, seed='Richard Garfield')"
   ]
  },
  {
   "cell_type": "code",
   "execution_count": 38,
   "metadata": {},
   "outputs": [
    {
     "name": "stdout",
     "output_type": "stream",
     "text": [
      "Gavin Verhey\n",
      "⑤Ⓖ\n",
      "rare\n",
      "creature: elephant\n",
      "vigilance, trample\n",
      "creatures without flying get +1/+1 as long as you control a white permanent.\n",
      "①Ⓤ: return Gavin Verhey to its owner's hand.\n",
      "7/5\n"
     ]
    }
   ],
   "source": [
    "c = generate(temperature=1, seed='Gavin Verhey')"
   ]
  },
  {
   "cell_type": "code",
   "execution_count": 53,
   "metadata": {},
   "outputs": [
    {
     "name": "stdout",
     "output_type": "stream",
     "text": [
      "Melissa Detora\n",
      "ⓇⓇ\n",
      "rare\n",
      "creature: dragon\n",
      "flying\n",
      "morph ⓌⓊ\n",
      "when Melissa Detora is turned face up, copy target instant or sorcery spell. you may choose new targets for the copy.\n",
      "2/2\n"
     ]
    }
   ],
   "source": [
    "c = generate(temperature=1, seed='Melissa DeTora')"
   ]
  },
  {
   "cell_type": "code",
   "execution_count": 52,
   "metadata": {},
   "outputs": [
    {
     "name": "stdout",
     "output_type": "stream",
     "text": [
      "Gaby Spartz\n",
      "②ⒷⒷ\n",
      "rare\n",
      "creature: human wizard\n",
      "kicker ①Ⓑ\n",
      "Gaby Spartz attacks each combat if able.\n",
      "4/2\n"
     ]
    }
   ],
   "source": [
    "c = generate(temperature=1, seed='Gaby Spartz')"
   ]
  },
  {
   "cell_type": "code",
   "execution_count": null,
   "metadata": {},
   "outputs": [],
   "source": []
  },
  {
   "cell_type": "code",
   "execution_count": null,
   "metadata": {},
   "outputs": [],
   "source": []
  }
 ],
 "metadata": {
  "kernelspec": {
   "display_name": "atlas",
   "language": "python",
   "name": "atlas"
  },
  "language_info": {
   "codemirror_mode": {
    "name": "ipython",
    "version": 3
   },
   "file_extension": ".py",
   "mimetype": "text/x-python",
   "name": "python",
   "nbconvert_exporter": "python",
   "pygments_lexer": "ipython3",
   "version": "3.6.3"
  }
 },
 "nbformat": 4,
 "nbformat_minor": 2
}
