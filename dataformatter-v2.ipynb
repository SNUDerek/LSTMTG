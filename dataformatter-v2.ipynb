{
 "cells": [
  {
   "cell_type": "code",
   "execution_count": 1,
   "metadata": {},
   "outputs": [],
   "source": [
    "import numpy as np\n",
    "import re\n",
    "from collections import Counter"
   ]
  },
  {
   "cell_type": "code",
   "execution_count": 2,
   "metadata": {},
   "outputs": [],
   "source": [
    "setnm = list(np.load('data//numpy//setnm.npy'))\n",
    "idnum = list(np.load('data//numpy//idnum.npy'))\n",
    "names = list(np.load('data//numpy//names.npy'))\n",
    "mcost = list(np.load('data//numpy//mcost.npy'))\n",
    "rarty = list(np.load('data//numpy//rarty.npy'))\n",
    "types = list(np.load('data//numpy//types.npy'))\n",
    "subtp = list(np.load('data//numpy//subtp.npy'))\n",
    "ctext = list(np.load('data//numpy//ctext_orig.npy'))\n",
    "power = list(np.load('data//numpy//power.npy'))\n",
    "tough = list(np.load('data//numpy//tough.npy'))"
   ]
  },
  {
   "cell_type": "markdown",
   "metadata": {},
   "source": [
    "### encode the rarities as capital letters"
   ]
  },
  {
   "cell_type": "code",
   "execution_count": 3,
   "metadata": {},
   "outputs": [
    {
     "data": {
      "text/plain": [
       "['M', 'C', 'U', 'S', 'R']"
      ]
     },
     "execution_count": 3,
     "metadata": {},
     "output_type": "execute_result"
    }
   ],
   "source": [
    "rletr = [w[0] for w in rarty]\n",
    "list(set(rletr))"
   ]
  },
  {
   "cell_type": "markdown",
   "metadata": {},
   "source": [
    "### encode the types, subtypes as lower-cased words separated by a symbol '·'"
   ]
  },
  {
   "cell_type": "code",
   "execution_count": 4,
   "metadata": {},
   "outputs": [],
   "source": [
    "typss = []\n",
    "for x in types:\n",
    "    item = ''\n",
    "    lst = str(x).split(' ')\n",
    "    for idx, tp in enumerate(lst):\n",
    "        item += tp.lower()\n",
    "        if idx < len(lst)-1:\n",
    "            item += '·'\n",
    "    \n",
    "    typss.append(item)    "
   ]
  },
  {
   "cell_type": "code",
   "execution_count": 5,
   "metadata": {},
   "outputs": [
    {
     "data": {
      "text/plain": [
       "{'artifact',\n",
       " 'artifact·creature',\n",
       " 'creature',\n",
       " 'enchantment',\n",
       " 'enchantment·artifact',\n",
       " 'enchantment·creature',\n",
       " 'instant',\n",
       " 'planeswalker',\n",
       " 'sorcery',\n",
       " 'tribal·artifact',\n",
       " 'tribal·enchantment',\n",
       " 'tribal·instant',\n",
       " 'tribal·sorcery'}"
      ]
     },
     "execution_count": 5,
     "metadata": {},
     "output_type": "execute_result"
    }
   ],
   "source": [
    "set(typss)"
   ]
  },
  {
   "cell_type": "code",
   "execution_count": 6,
   "metadata": {},
   "outputs": [],
   "source": [
    "subts = []\n",
    "for lst in subtp:\n",
    "    item = ''\n",
    "    lst = list(lst)\n",
    "    for idx, subtype in enumerate(lst):\n",
    "        if subtype != 'PAD':\n",
    "            item += subtype.lower()\n",
    "        if idx < len(lst)-1:\n",
    "            if lst[idx+1] != 'PAD':\n",
    "                item += '·'\n",
    "    \n",
    "    if item == '':\n",
    "        item = '⌧'\n",
    "    \n",
    "    subts.append(item)    "
   ]
  },
  {
   "cell_type": "markdown",
   "metadata": {},
   "source": [
    "### remove reminder text\n",
    "strip all text between parentheses"
   ]
  },
  {
   "cell_type": "code",
   "execution_count": 7,
   "metadata": {},
   "outputs": [
    {
     "data": {
      "text/plain": [
       "['first strike (this creature deals combat damage before creatures without first strike.)|when Ⓝ enters the battlefield, you gain 1 life for each card in your graveyard.',\n",
       " 'flying|when Ⓝ enters the battlefield, you gain 3 life.',\n",
       " \"target creature gets +3/+3 and gains flying until end of turn. (it can't be blocked except by creatures with flying or reach.)\",\n",
       " 'whenever a creature enters the battlefield under your control, you gain life equal to its toughness.',\n",
       " \"defender (this creature can't attack.)|flying\",\n",
       " 'artifact and enchantment spells your opponents cast cost ② more to cast.|sacrifice Ⓝ: destroy target artifact or enchantment.',\n",
       " \"flying (this creature can't be blocked except by creatures with flying or reach.)|when Ⓝ enters the battlefield, destroy target enchantment.\",\n",
       " 'ⓍⓌ, ↷: Ⓝ deals x damage to target attacking or blocking creature.',\n",
       " 'prevent the next 1 damage that would be dealt to target creature or player this turn.|draw a card.',\n",
       " \"double target player's life total. shuffle Ⓝ into its owner's library.\"]"
      ]
     },
     "execution_count": 7,
     "metadata": {},
     "output_type": "execute_result"
    }
   ],
   "source": [
    "ctext[:10]"
   ]
  },
  {
   "cell_type": "code",
   "execution_count": 8,
   "metadata": {},
   "outputs": [],
   "source": [
    "ctext_new = []\n",
    "for text in ctext:\n",
    "    new_text = re.sub(r'\\s\\([\\S\\s]+\\)', '', text)\n",
    "    new_text = new_text.replace('|', '·')\n",
    "    ctext_new.append(new_text)"
   ]
  },
  {
   "cell_type": "code",
   "execution_count": 9,
   "metadata": {},
   "outputs": [
    {
     "data": {
      "text/plain": [
       "['first strike·when Ⓝ enters the battlefield, you gain 1 life for each card in your graveyard.',\n",
       " 'flying·when Ⓝ enters the battlefield, you gain 3 life.',\n",
       " 'target creature gets +3/+3 and gains flying until end of turn.',\n",
       " 'whenever a creature enters the battlefield under your control, you gain life equal to its toughness.',\n",
       " 'defender·flying',\n",
       " 'artifact and enchantment spells your opponents cast cost ② more to cast.·sacrifice Ⓝ: destroy target artifact or enchantment.',\n",
       " 'flying·when Ⓝ enters the battlefield, destroy target enchantment.',\n",
       " 'ⓍⓌ, ↷: Ⓝ deals x damage to target attacking or blocking creature.',\n",
       " 'prevent the next 1 damage that would be dealt to target creature or player this turn.·draw a card.',\n",
       " \"double target player's life total. shuffle Ⓝ into its owner's library.\"]"
      ]
     },
     "execution_count": 9,
     "metadata": {},
     "output_type": "execute_result"
    }
   ],
   "source": [
    "ctext_new[:10]"
   ]
  },
  {
   "cell_type": "markdown",
   "metadata": {},
   "source": [
    "### combine items into string with '|' separator\n",
    "[mcost|rletr|typss|subts|ctext_new|power|tough]\n",
    "don't add power/tough if not needed\n",
    "use START symbol: Ⓢ and EOF symbol: Ⓔ"
   ]
  },
  {
   "cell_type": "code",
   "execution_count": 10,
   "metadata": {},
   "outputs": [],
   "source": [
    "cardtext = []\n",
    "for i in range(len(names)):\n",
    "    lst = [names[i], mcost[i], rletr[i], typss[i], subts[i], ctext_new[i]]\n",
    "    \n",
    "    if power[i] != '⌧' and tough[i] != '⌧':\n",
    "        lst += [power[i], tough[i]]\n",
    "    \n",
    "    txt = '|'.join(lst)\n",
    "    txt += 'Ⓔ'\n",
    "    cardtext.append(txt)"
   ]
  },
  {
   "cell_type": "code",
   "execution_count": 11,
   "metadata": {},
   "outputs": [
    {
     "name": "stdout",
     "output_type": "stream",
     "text": [
      "ancestor's chosen|⑤ⓌⓌ|U|creature|human·cleric|first strike·when Ⓝ enters the battlefield, you gain 1 life for each card in your graveyard.|4|4Ⓔ\n",
      "angel of mercy|④Ⓦ|U|creature|angel|flying·when Ⓝ enters the battlefield, you gain 3 life.|3|3Ⓔ\n",
      "angelic blessing|②Ⓦ|C|sorcery|⌧|target creature gets +3/+3 and gains flying until end of turn.Ⓔ\n",
      "angelic chorus|③ⓌⓌ|R|enchantment|⌧|whenever a creature enters the battlefield under your control, you gain life equal to its toughness.Ⓔ\n",
      "angelic wall|①Ⓦ|C|creature|wall|defender·flying|0|4Ⓔ\n",
      "aura of silence|①ⓌⓌ|U|enchantment|⌧|artifact and enchantment spells your opponents cast cost ② more to cast.·sacrifice Ⓝ: destroy target artifact or enchantment.Ⓔ\n",
      "aven cloudchaser|③Ⓦ|C|creature|bird·soldier|flying·when Ⓝ enters the battlefield, destroy target enchantment.|2|2Ⓔ\n",
      "ballista squad|③Ⓦ|U|creature|human·rebel|ⓍⓌ, ↷: Ⓝ deals x damage to target attacking or blocking creature.|2|2Ⓔ\n",
      "bandage|Ⓦ|C|instant|⌧|prevent the next 1 damage that would be dealt to target creature or player this turn.·draw a card.Ⓔ\n",
      "beacon of immortality|⑤Ⓦ|R|instant|⌧|double target player's life total. shuffle Ⓝ into its owner's library.Ⓔ\n"
     ]
    }
   ],
   "source": [
    "for i in range(10):\n",
    "    print(cardtext[i])"
   ]
  },
  {
   "cell_type": "markdown",
   "metadata": {},
   "source": [
    "### save cardtexts"
   ]
  },
  {
   "cell_type": "code",
   "execution_count": 12,
   "metadata": {},
   "outputs": [],
   "source": [
    "# np.save('data/card_texts.npy', cardtext)"
   ]
  },
  {
   "cell_type": "markdown",
   "metadata": {},
   "source": [
    "### analysis & testing"
   ]
  },
  {
   "cell_type": "code",
   "execution_count": 13,
   "metadata": {},
   "outputs": [],
   "source": [
    "txtlens = [len(s) for s in cardtext]"
   ]
  },
  {
   "cell_type": "code",
   "execution_count": 14,
   "metadata": {},
   "outputs": [],
   "source": [
    "lencnts = Counter(txtlens)\n",
    "zips = lencnts.most_common()\n",
    "x = sorted(zips, key = lambda x: x[0], reverse=True)"
   ]
  },
  {
   "cell_type": "code",
   "execution_count": 15,
   "metadata": {},
   "outputs": [],
   "source": [
    "# x"
   ]
  },
  {
   "cell_type": "code",
   "execution_count": 16,
   "metadata": {},
   "outputs": [
    {
     "name": "stdout",
     "output_type": "stream",
     "text": [
      "% of cards over chosen idx: 0.061505434967799096\n"
     ]
    }
   ],
   "source": [
    "idx = 250\n",
    "over = sum([t[1] for t in x if t[0] > idx])\n",
    "undr = sum([t[1] for t in x if t[0] <= idx])\n",
    "print(\"% of cards over chosen idx:\", over/(over+undr))"
   ]
  },
  {
   "cell_type": "code",
   "execution_count": 17,
   "metadata": {},
   "outputs": [
    {
     "name": "stdout",
     "output_type": "stream",
     "text": [
      "dance of the dead|①Ⓑ|U|enchantment|aura|enchant creature card in a graveyard·when Ⓝ enters the battlefield, if it's on the battlefield, it loses \"enchant creature card in a graveyard\" and gains \"enchant creature put onto the battlefield with Ⓝ.\" put enchanted creature card onto the battlefield tapped under your control and attach Ⓝ to it. when Ⓝ leaves the battlefield, that creature's controller sacrifices it.·enchanted creature gets +1/+1 and doesn't untap during its controller's untap step.·at the beginning of the upkeep of enchanted creature's controller, that player may pay ①Ⓑ. if he or she does, untap that creature.Ⓔ\n"
     ]
    }
   ],
   "source": [
    "print(cardtext[txtlens.index(max(txtlens))])"
   ]
  },
  {
   "cell_type": "markdown",
   "metadata": {},
   "source": [
    "## generate batches\n",
    "\n",
    "START: Ⓢ  PAD: ⎕"
   ]
  },
  {
   "cell_type": "code",
   "execution_count": 18,
   "metadata": {},
   "outputs": [],
   "source": [
    "# first get vocabulary\n",
    "vocab = []\n",
    "vocabset = ['⎕'] # zero-pad PAD character\n",
    "for card in cardtext:\n",
    "    lst = list(card)\n",
    "    vocab += lst\n",
    "\n",
    "# add vocab according to frequency\n",
    "vocabset += [x[0] for x in sorted([t for t in Counter(vocab).most_common()], key=lambda x: x[1], reverse=True)]\n",
    "vocabset.append('Ⓢ') # START-PAD character\n",
    "\n",
    "c2i = dict([(c, i) for i, c in enumerate(vocabset)])\n",
    "i2c = dict([(i, c) for i, c in enumerate(vocabset)])"
   ]
  },
  {
   "cell_type": "code",
   "execution_count": 19,
   "metadata": {},
   "outputs": [
    {
     "data": {
      "text/plain": [
       "(1, '⎕')"
      ]
     },
     "execution_count": 19,
     "metadata": {},
     "output_type": "execute_result"
    }
   ],
   "source": [
    "c2i[' '], i2c[0]"
   ]
  },
  {
   "cell_type": "code",
   "execution_count": 20,
   "metadata": {},
   "outputs": [],
   "source": [
    "# save\n",
    "# np.save('c2i.npy', c2i)\n",
    "# np.save('i2c.npy', i2c)"
   ]
  },
  {
   "cell_type": "code",
   "execution_count": 21,
   "metadata": {},
   "outputs": [],
   "source": [
    "def cardGenerator(cardtext, windowsize, cards_per_batch, c2i=c2i, debug=False):\n",
    "    \n",
    "    i = 0\n",
    "    indices = list(np.random.permutation(len(cardtext)))\n",
    "    idx = indices[i]\n",
    "    \n",
    "    def nextcard(cardtext, idx, debug=debug):\n",
    "        if debug:\n",
    "            card_idx = cardtext[idx]\n",
    "        else:\n",
    "            card_idx = [c2i[c] for c in cardtext[idx]]\n",
    "        \n",
    "        return list(card_idx)\n",
    "    \n",
    "    # pregenerate warmup sequence\n",
    "    if debug:\n",
    "        sequence = list(cardtext[idx][-(windowsize):])\n",
    "    else:\n",
    "        sequence = list([c2i[c] for c in cardtext[idx][-(windowsize):]])\n",
    "    i += 1\n",
    "    idx = indices[i]\n",
    "    for j in range(cards_per_batch):\n",
    "        sequence += nextcard(cardtext, idx)\n",
    "        i += 1\n",
    "        idx = indices[i]\n",
    "\n",
    "    # create matrix\n",
    "    x = []\n",
    "    y = []\n",
    "    \n",
    "    # main iterator\n",
    "    while True:\n",
    "        \n",
    "        # generate batch (of cards_per_batch cards)\n",
    "        while len(sequence) > windowsize:\n",
    "            x.append(np.array(sequence[:windowsize]))\n",
    "            y.append(sequence[windowsize])\n",
    "            sequence.pop(0)\n",
    "        \n",
    "        # generate batch_size worth of window-shifted data\n",
    "        # reshape for sparse_categorical_crossentropy\n",
    "        sequence = []\n",
    "        y = np.array(y)\n",
    "        y = y[:, np.newaxis]\n",
    "        # yield and reset\n",
    "        yield(np.asarray(x), y)\n",
    "        x, y = [], []\n",
    "        \n",
    "        # check for too long, reset\n",
    "        if len(indices[i:]) < cards_per_batch:\n",
    "            indices = np.random.permutation(len(cardtext))\n",
    "            i = 0\n",
    "            idx = indices[i]\n",
    "        else:\n",
    "            i += 1\n",
    "            idx = indices[i]\n",
    "            \n",
    "        # pregenerate warmup sequence\n",
    "        if debug:\n",
    "            sequence = list(cardtext[idx][-(windowsize):])\n",
    "        else:\n",
    "            sequence = list([c2i[c] for c in cardtext[idx][-(windowsize):]])\n",
    "        i += 1\n",
    "        idx = indices[i]\n",
    "        for j in range(cards_per_batch):\n",
    "            sequence += nextcard(cardtext, idx)\n",
    "            i += 1\n",
    "            idx = indices[i]"
   ]
  },
  {
   "cell_type": "code",
   "execution_count": 22,
   "metadata": {},
   "outputs": [],
   "source": [
    "# stress test : batch of 5000 x 2000 = over all cards at least once\n",
    "# itr = cardGenerator(cardtext, 5, 5000, debug=True)\n",
    "# for i in range(2000):\n",
    "#     x, y = next(itr)"
   ]
  },
  {
   "cell_type": "code",
   "execution_count": 47,
   "metadata": {},
   "outputs": [],
   "source": [
    "itr = cardGenerator(cardtext, 5, 3, debug=True)"
   ]
  },
  {
   "cell_type": "code",
   "execution_count": 48,
   "metadata": {},
   "outputs": [
    {
     "name": "stdout",
     "output_type": "stream",
     "text": [
      "(343, 5) (343, 1)\n",
      "['|' '2' '|' '2' 'Ⓔ'] ['d']\n",
      "['2' '|' '2' 'Ⓔ' 'd'] ['a']\n",
      "['|' '2' 'Ⓔ' 'd' 'a'] ['r']\n",
      "['2' 'Ⓔ' 'd' 'a' 'r'] ['u']\n",
      "['Ⓔ' 'd' 'a' 'r' 'u'] [' ']\n",
      "['d' 'a' 'r' 'u' ' '] ['h']\n",
      "['a' 'r' 'u' ' ' 'h'] ['e']\n",
      "['r' 'u' ' ' 'h' 'e'] ['a']\n",
      "['u' ' ' 'h' 'e' 'a'] ['l']\n",
      "[' ' 'h' 'e' 'a' 'l'] ['e']\n",
      "['h' 'e' 'a' 'l' 'e'] ['r']\n",
      "['e' 'a' 'l' 'e' 'r'] ['|']\n",
      "['a' 'l' 'e' 'r' '|'] ['②']\n",
      "['l' 'e' 'r' '|' '②'] ['Ⓦ']\n",
      "['e' 'r' '|' '②' 'Ⓦ'] ['|']\n",
      "['r' '|' '②' 'Ⓦ' '|'] ['C']\n",
      "['|' '②' 'Ⓦ' '|' 'C'] ['|']\n",
      "['②' 'Ⓦ' '|' 'C' '|'] ['c']\n",
      "['Ⓦ' '|' 'C' '|' 'c'] ['r']\n",
      "['|' 'C' '|' 'c' 'r'] ['e']\n",
      "['C' '|' 'c' 'r' 'e'] ['a']\n",
      "['|' 'c' 'r' 'e' 'a'] ['t']\n",
      "['c' 'r' 'e' 'a' 't'] ['u']\n",
      "['r' 'e' 'a' 't' 'u'] ['r']\n",
      "['e' 'a' 't' 'u' 'r'] ['e']\n",
      "['a' 't' 'u' 'r' 'e'] ['|']\n",
      "['t' 'u' 'r' 'e' '|'] ['h']\n",
      "['u' 'r' 'e' '|' 'h'] ['u']\n",
      "['r' 'e' '|' 'h' 'u'] ['m']\n",
      "['e' '|' 'h' 'u' 'm'] ['a']\n",
      "['|' 'h' 'u' 'm' 'a'] ['n']\n",
      "['h' 'u' 'm' 'a' 'n'] ['·']\n",
      "['u' 'm' 'a' 'n' '·'] ['c']\n",
      "['m' 'a' 'n' '·' 'c'] ['l']\n",
      "['a' 'n' '·' 'c' 'l'] ['e']\n",
      "['n' '·' 'c' 'l' 'e'] ['r']\n",
      "['·' 'c' 'l' 'e' 'r'] ['i']\n",
      "['c' 'l' 'e' 'r' 'i'] ['c']\n",
      "['l' 'e' 'r' 'i' 'c'] ['|']\n",
      "['e' 'r' 'i' 'c' '|'] ['↷']\n",
      "['r' 'i' 'c' '|' '↷'] [':']\n",
      "['i' 'c' '|' '↷' ':'] [' ']\n",
      "['c' '|' '↷' ':' ' '] ['p']\n",
      "['|' '↷' ':' ' ' 'p'] ['r']\n",
      "['↷' ':' ' ' 'p' 'r'] ['e']\n",
      "[':' ' ' 'p' 'r' 'e'] ['v']\n",
      "[' ' 'p' 'r' 'e' 'v'] ['e']\n",
      "['p' 'r' 'e' 'v' 'e'] ['n']\n",
      "['r' 'e' 'v' 'e' 'n'] ['t']\n",
      "['e' 'v' 'e' 'n' 't'] [' ']\n",
      "['v' 'e' 'n' 't' ' '] ['t']\n",
      "['e' 'n' 't' ' ' 't'] ['h']\n",
      "['n' 't' ' ' 't' 'h'] ['e']\n",
      "['t' ' ' 't' 'h' 'e'] [' ']\n",
      "[' ' 't' 'h' 'e' ' '] ['n']\n",
      "['t' 'h' 'e' ' ' 'n'] ['e']\n",
      "['h' 'e' ' ' 'n' 'e'] ['x']\n",
      "['e' ' ' 'n' 'e' 'x'] ['t']\n",
      "[' ' 'n' 'e' 'x' 't'] [' ']\n",
      "['n' 'e' 'x' 't' ' '] ['1']\n",
      "['e' 'x' 't' ' ' '1'] [' ']\n",
      "['x' 't' ' ' '1' ' '] ['d']\n",
      "['t' ' ' '1' ' ' 'd'] ['a']\n",
      "[' ' '1' ' ' 'd' 'a'] ['m']\n",
      "['1' ' ' 'd' 'a' 'm'] ['a']\n",
      "[' ' 'd' 'a' 'm' 'a'] ['g']\n",
      "['d' 'a' 'm' 'a' 'g'] ['e']\n",
      "['a' 'm' 'a' 'g' 'e'] [' ']\n",
      "['m' 'a' 'g' 'e' ' '] ['t']\n",
      "['a' 'g' 'e' ' ' 't'] ['h']\n",
      "['g' 'e' ' ' 't' 'h'] ['a']\n",
      "['e' ' ' 't' 'h' 'a'] ['t']\n",
      "[' ' 't' 'h' 'a' 't'] [' ']\n",
      "['t' 'h' 'a' 't' ' '] ['w']\n",
      "['h' 'a' 't' ' ' 'w'] ['o']\n",
      "['a' 't' ' ' 'w' 'o'] ['u']\n",
      "['t' ' ' 'w' 'o' 'u'] ['l']\n",
      "[' ' 'w' 'o' 'u' 'l'] ['d']\n",
      "['w' 'o' 'u' 'l' 'd'] [' ']\n",
      "['o' 'u' 'l' 'd' ' '] ['b']\n",
      "['u' 'l' 'd' ' ' 'b'] ['e']\n",
      "['l' 'd' ' ' 'b' 'e'] [' ']\n",
      "['d' ' ' 'b' 'e' ' '] ['d']\n",
      "[' ' 'b' 'e' ' ' 'd'] ['e']\n",
      "['b' 'e' ' ' 'd' 'e'] ['a']\n",
      "['e' ' ' 'd' 'e' 'a'] ['l']\n",
      "[' ' 'd' 'e' 'a' 'l'] ['t']\n",
      "['d' 'e' 'a' 'l' 't'] [' ']\n",
      "['e' 'a' 'l' 't' ' '] ['t']\n",
      "['a' 'l' 't' ' ' 't'] ['o']\n",
      "['l' 't' ' ' 't' 'o'] [' ']\n",
      "['t' ' ' 't' 'o' ' '] ['t']\n",
      "[' ' 't' 'o' ' ' 't'] ['a']\n",
      "['t' 'o' ' ' 't' 'a'] ['r']\n",
      "['o' ' ' 't' 'a' 'r'] ['g']\n",
      "[' ' 't' 'a' 'r' 'g'] ['e']\n",
      "['t' 'a' 'r' 'g' 'e'] ['t']\n",
      "['a' 'r' 'g' 'e' 't'] [' ']\n",
      "['r' 'g' 'e' 't' ' '] ['c']\n",
      "['g' 'e' 't' ' ' 'c'] ['r']\n",
      "['e' 't' ' ' 'c' 'r'] ['e']\n",
      "['t' ' ' 'c' 'r' 'e'] ['a']\n",
      "[' ' 'c' 'r' 'e' 'a'] ['t']\n",
      "['c' 'r' 'e' 'a' 't'] ['u']\n",
      "['r' 'e' 'a' 't' 'u'] ['r']\n",
      "['e' 'a' 't' 'u' 'r'] ['e']\n",
      "['a' 't' 'u' 'r' 'e'] [' ']\n",
      "['t' 'u' 'r' 'e' ' '] ['o']\n",
      "['u' 'r' 'e' ' ' 'o'] ['r']\n",
      "['r' 'e' ' ' 'o' 'r'] [' ']\n",
      "['e' ' ' 'o' 'r' ' '] ['p']\n",
      "[' ' 'o' 'r' ' ' 'p'] ['l']\n",
      "['o' 'r' ' ' 'p' 'l'] ['a']\n",
      "['r' ' ' 'p' 'l' 'a'] ['y']\n",
      "[' ' 'p' 'l' 'a' 'y'] ['e']\n",
      "['p' 'l' 'a' 'y' 'e'] ['r']\n",
      "['l' 'a' 'y' 'e' 'r'] [' ']\n",
      "['a' 'y' 'e' 'r' ' '] ['t']\n",
      "['y' 'e' 'r' ' ' 't'] ['h']\n",
      "['e' 'r' ' ' 't' 'h'] ['i']\n",
      "['r' ' ' 't' 'h' 'i'] ['s']\n",
      "[' ' 't' 'h' 'i' 's'] [' ']\n",
      "['t' 'h' 'i' 's' ' '] ['t']\n",
      "['h' 'i' 's' ' ' 't'] ['u']\n",
      "['i' 's' ' ' 't' 'u'] ['r']\n",
      "['s' ' ' 't' 'u' 'r'] ['n']\n",
      "[' ' 't' 'u' 'r' 'n'] ['.']\n",
      "['t' 'u' 'r' 'n' '.'] ['·']\n",
      "['u' 'r' 'n' '.' '·'] ['m']\n",
      "['r' 'n' '.' '·' 'm'] ['o']\n",
      "['n' '.' '·' 'm' 'o'] ['r']\n",
      "['.' '·' 'm' 'o' 'r'] ['p']\n",
      "['·' 'm' 'o' 'r' 'p'] ['h']\n",
      "['m' 'o' 'r' 'p' 'h'] [' ']\n",
      "['o' 'r' 'p' 'h' ' '] ['Ⓦ']\n",
      "['r' 'p' 'h' ' ' 'Ⓦ'] ['|']\n",
      "['p' 'h' ' ' 'Ⓦ' '|'] ['1']\n",
      "['h' ' ' 'Ⓦ' '|' '1'] ['|']\n",
      "[' ' 'Ⓦ' '|' '1' '|'] ['2']\n",
      "['Ⓦ' '|' '1' '|' '2'] ['Ⓔ']\n",
      "['|' '1' '|' '2' 'Ⓔ'] ['u']\n",
      "['1' '|' '2' 'Ⓔ' 'u'] ['r']\n",
      "['|' '2' 'Ⓔ' 'u' 'r'] ['b']\n",
      "['2' 'Ⓔ' 'u' 'r' 'b'] ['a']\n",
      "['Ⓔ' 'u' 'r' 'b' 'a'] ['n']\n",
      "['u' 'r' 'b' 'a' 'n'] [' ']\n",
      "['r' 'b' 'a' 'n' ' '] ['e']\n",
      "['b' 'a' 'n' ' ' 'e'] ['v']\n",
      "['a' 'n' ' ' 'e' 'v'] ['o']\n",
      "['n' ' ' 'e' 'v' 'o'] ['l']\n",
      "[' ' 'e' 'v' 'o' 'l'] ['u']\n",
      "['e' 'v' 'o' 'l' 'u'] ['t']\n",
      "['v' 'o' 'l' 'u' 't'] ['i']\n",
      "['o' 'l' 'u' 't' 'i'] ['o']\n",
      "['l' 'u' 't' 'i' 'o'] ['n']\n",
      "['u' 't' 'i' 'o' 'n'] ['|']\n",
      "['t' 'i' 'o' 'n' '|'] ['③']\n",
      "['i' 'o' 'n' '|' '③'] ['Ⓖ']\n",
      "['o' 'n' '|' '③' 'Ⓖ'] ['Ⓤ']\n",
      "['n' '|' '③' 'Ⓖ' 'Ⓤ'] ['|']\n",
      "['|' '③' 'Ⓖ' 'Ⓤ' '|'] ['U']\n",
      "['③' 'Ⓖ' 'Ⓤ' '|' 'U'] ['|']\n",
      "['Ⓖ' 'Ⓤ' '|' 'U' '|'] ['s']\n",
      "['Ⓤ' '|' 'U' '|' 's'] ['o']\n",
      "['|' 'U' '|' 's' 'o'] ['r']\n",
      "['U' '|' 's' 'o' 'r'] ['c']\n",
      "['|' 's' 'o' 'r' 'c'] ['e']\n",
      "['s' 'o' 'r' 'c' 'e'] ['r']\n",
      "['o' 'r' 'c' 'e' 'r'] ['y']\n",
      "['r' 'c' 'e' 'r' 'y'] ['|']\n",
      "['c' 'e' 'r' 'y' '|'] ['⌧']\n",
      "['e' 'r' 'y' '|' '⌧'] ['|']\n",
      "['r' 'y' '|' '⌧' '|'] ['d']\n",
      "['y' '|' '⌧' '|' 'd'] ['r']\n",
      "['|' '⌧' '|' 'd' 'r'] ['a']\n",
      "['⌧' '|' 'd' 'r' 'a'] ['w']\n",
      "['|' 'd' 'r' 'a' 'w'] [' ']\n",
      "['d' 'r' 'a' 'w' ' '] ['t']\n",
      "['r' 'a' 'w' ' ' 't'] ['h']\n",
      "['a' 'w' ' ' 't' 'h'] ['r']\n",
      "['w' ' ' 't' 'h' 'r'] ['e']\n",
      "[' ' 't' 'h' 'r' 'e'] ['e']\n",
      "['t' 'h' 'r' 'e' 'e'] [' ']\n",
      "['h' 'r' 'e' 'e' ' '] ['c']\n",
      "['r' 'e' 'e' ' ' 'c'] ['a']\n",
      "['e' 'e' ' ' 'c' 'a'] ['r']\n",
      "['e' ' ' 'c' 'a' 'r'] ['d']\n",
      "[' ' 'c' 'a' 'r' 'd'] ['s']\n",
      "['c' 'a' 'r' 'd' 's'] ['.']\n",
      "['a' 'r' 'd' 's' '.'] [' ']\n",
      "['r' 'd' 's' '.' ' '] ['y']\n",
      "['d' 's' '.' ' ' 'y'] ['o']\n",
      "['s' '.' ' ' 'y' 'o'] ['u']\n",
      "['.' ' ' 'y' 'o' 'u'] [' ']\n",
      "[' ' 'y' 'o' 'u' ' '] ['m']\n",
      "['y' 'o' 'u' ' ' 'm'] ['a']\n",
      "['o' 'u' ' ' 'm' 'a'] ['y']\n",
      "['u' ' ' 'm' 'a' 'y'] [' ']\n",
      "[' ' 'm' 'a' 'y' ' '] ['p']\n",
      "['m' 'a' 'y' ' ' 'p'] ['l']\n",
      "['a' 'y' ' ' 'p' 'l'] ['a']\n",
      "['y' ' ' 'p' 'l' 'a'] ['y']\n",
      "[' ' 'p' 'l' 'a' 'y'] [' ']\n",
      "['p' 'l' 'a' 'y' ' '] ['a']\n",
      "['l' 'a' 'y' ' ' 'a'] ['n']\n",
      "['a' 'y' ' ' 'a' 'n'] [' ']\n",
      "['y' ' ' 'a' 'n' ' '] ['a']\n",
      "[' ' 'a' 'n' ' ' 'a'] ['d']\n",
      "['a' 'n' ' ' 'a' 'd'] ['d']\n",
      "['n' ' ' 'a' 'd' 'd'] ['i']\n",
      "[' ' 'a' 'd' 'd' 'i'] ['t']\n",
      "['a' 'd' 'd' 'i' 't'] ['i']\n",
      "['d' 'd' 'i' 't' 'i'] ['o']\n",
      "['d' 'i' 't' 'i' 'o'] ['n']\n",
      "['i' 't' 'i' 'o' 'n'] ['a']\n",
      "['t' 'i' 'o' 'n' 'a'] ['l']\n",
      "['i' 'o' 'n' 'a' 'l'] [' ']\n",
      "['o' 'n' 'a' 'l' ' '] ['l']\n",
      "['n' 'a' 'l' ' ' 'l'] ['a']\n",
      "['a' 'l' ' ' 'l' 'a'] ['n']\n",
      "['l' ' ' 'l' 'a' 'n'] ['d']\n",
      "[' ' 'l' 'a' 'n' 'd'] [' ']\n",
      "['l' 'a' 'n' 'd' ' '] ['t']\n",
      "['a' 'n' 'd' ' ' 't'] ['h']\n",
      "['n' 'd' ' ' 't' 'h'] ['i']\n",
      "['d' ' ' 't' 'h' 'i'] ['s']\n",
      "[' ' 't' 'h' 'i' 's'] [' ']\n",
      "['t' 'h' 'i' 's' ' '] ['t']\n",
      "['h' 'i' 's' ' ' 't'] ['u']\n",
      "['i' 's' ' ' 't' 'u'] ['r']\n",
      "['s' ' ' 't' 'u' 'r'] ['n']\n",
      "[' ' 't' 'u' 'r' 'n'] ['.']\n",
      "['t' 'u' 'r' 'n' '.'] ['Ⓔ']\n",
      "['u' 'r' 'n' '.' 'Ⓔ'] ['s']\n",
      "['r' 'n' '.' 'Ⓔ' 's'] ['p']\n",
      "['n' '.' 'Ⓔ' 's' 'p'] ['i']\n",
      "['.' 'Ⓔ' 's' 'p' 'i'] ['t']\n",
      "['Ⓔ' 's' 'p' 'i' 't'] ['t']\n",
      "['s' 'p' 'i' 't' 't'] ['i']\n",
      "['p' 'i' 't' 't' 'i'] ['n']\n",
      "['i' 't' 't' 'i' 'n'] ['g']\n",
      "['t' 't' 'i' 'n' 'g'] [' ']\n",
      "['t' 'i' 'n' 'g' ' '] ['e']\n",
      "['i' 'n' 'g' ' ' 'e'] ['a']\n",
      "['n' 'g' ' ' 'e' 'a'] ['r']\n",
      "['g' ' ' 'e' 'a' 'r'] ['t']\n",
      "[' ' 'e' 'a' 'r' 't'] ['h']\n",
      "['e' 'a' 'r' 't' 'h'] ['|']\n",
      "['a' 'r' 't' 'h' '|'] ['①']\n",
      "['r' 't' 'h' '|' '①'] ['Ⓡ']\n",
      "['t' 'h' '|' '①' 'Ⓡ'] ['|']\n",
      "['h' '|' '①' 'Ⓡ' '|'] ['C']\n",
      "['|' '①' 'Ⓡ' '|' 'C'] ['|']\n",
      "['①' 'Ⓡ' '|' 'C' '|'] ['s']\n",
      "['Ⓡ' '|' 'C' '|' 's'] ['o']\n",
      "['|' 'C' '|' 's' 'o'] ['r']\n",
      "['C' '|' 's' 'o' 'r'] ['c']\n",
      "['|' 's' 'o' 'r' 'c'] ['e']\n",
      "['s' 'o' 'r' 'c' 'e'] ['r']\n",
      "['o' 'r' 'c' 'e' 'r'] ['y']\n",
      "['r' 'c' 'e' 'r' 'y'] ['|']\n",
      "['c' 'e' 'r' 'y' '|'] ['⌧']\n",
      "['e' 'r' 'y' '|' '⌧'] ['|']\n",
      "['r' 'y' '|' '⌧' '|'] ['Ⓝ']\n",
      "['y' '|' '⌧' '|' 'Ⓝ'] [' ']\n",
      "['|' '⌧' '|' 'Ⓝ' ' '] ['d']\n",
      "['⌧' '|' 'Ⓝ' ' ' 'd'] ['e']\n",
      "['|' 'Ⓝ' ' ' 'd' 'e'] ['a']\n",
      "['Ⓝ' ' ' 'd' 'e' 'a'] ['l']\n",
      "[' ' 'd' 'e' 'a' 'l'] ['s']\n",
      "['d' 'e' 'a' 'l' 's'] [' ']\n",
      "['e' 'a' 'l' 's' ' '] ['d']\n",
      "['a' 'l' 's' ' ' 'd'] ['a']\n",
      "['l' 's' ' ' 'd' 'a'] ['m']\n",
      "['s' ' ' 'd' 'a' 'm'] ['a']\n",
      "[' ' 'd' 'a' 'm' 'a'] ['g']\n",
      "['d' 'a' 'm' 'a' 'g'] ['e']\n",
      "['a' 'm' 'a' 'g' 'e'] [' ']\n",
      "['m' 'a' 'g' 'e' ' '] ['t']\n",
      "['a' 'g' 'e' ' ' 't'] ['o']\n",
      "['g' 'e' ' ' 't' 'o'] [' ']\n",
      "['e' ' ' 't' 'o' ' '] ['t']\n",
      "[' ' 't' 'o' ' ' 't'] ['a']\n",
      "['t' 'o' ' ' 't' 'a'] ['r']\n",
      "['o' ' ' 't' 'a' 'r'] ['g']\n",
      "[' ' 't' 'a' 'r' 'g'] ['e']\n",
      "['t' 'a' 'r' 'g' 'e'] ['t']\n",
      "['a' 'r' 'g' 'e' 't'] [' ']\n",
      "['r' 'g' 'e' 't' ' '] ['c']\n",
      "['g' 'e' 't' ' ' 'c'] ['r']\n",
      "['e' 't' ' ' 'c' 'r'] ['e']\n",
      "['t' ' ' 'c' 'r' 'e'] ['a']\n",
      "[' ' 'c' 'r' 'e' 'a'] ['t']\n",
      "['c' 'r' 'e' 'a' 't'] ['u']\n",
      "['r' 'e' 'a' 't' 'u'] ['r']\n",
      "['e' 'a' 't' 'u' 'r'] ['e']\n",
      "['a' 't' 'u' 'r' 'e'] [' ']\n",
      "['t' 'u' 'r' 'e' ' '] ['e']\n",
      "['u' 'r' 'e' ' ' 'e'] ['q']\n",
      "['r' 'e' ' ' 'e' 'q'] ['u']\n",
      "['e' ' ' 'e' 'q' 'u'] ['a']\n",
      "[' ' 'e' 'q' 'u' 'a'] ['l']\n",
      "['e' 'q' 'u' 'a' 'l'] [' ']\n",
      "['q' 'u' 'a' 'l' ' '] ['t']\n",
      "['u' 'a' 'l' ' ' 't'] ['o']\n",
      "['a' 'l' ' ' 't' 'o'] [' ']\n",
      "['l' ' ' 't' 'o' ' '] ['t']\n",
      "[' ' 't' 'o' ' ' 't'] ['h']\n",
      "['t' 'o' ' ' 't' 'h'] ['e']\n",
      "['o' ' ' 't' 'h' 'e'] [' ']\n",
      "[' ' 't' 'h' 'e' ' '] ['n']\n",
      "['t' 'h' 'e' ' ' 'n'] ['u']\n",
      "['h' 'e' ' ' 'n' 'u'] ['m']\n",
      "['e' ' ' 'n' 'u' 'm'] ['b']\n",
      "[' ' 'n' 'u' 'm' 'b'] ['e']\n",
      "['n' 'u' 'm' 'b' 'e'] ['r']\n",
      "['u' 'm' 'b' 'e' 'r'] [' ']\n",
      "['m' 'b' 'e' 'r' ' '] ['o']\n",
      "['b' 'e' 'r' ' ' 'o'] ['f']\n",
      "['e' 'r' ' ' 'o' 'f'] [' ']\n",
      "['r' ' ' 'o' 'f' ' '] ['m']\n",
      "[' ' 'o' 'f' ' ' 'm'] ['o']\n",
      "['o' 'f' ' ' 'm' 'o'] ['u']\n",
      "['f' ' ' 'm' 'o' 'u'] ['n']\n",
      "[' ' 'm' 'o' 'u' 'n'] ['t']\n",
      "['m' 'o' 'u' 'n' 't'] ['a']\n",
      "['o' 'u' 'n' 't' 'a'] ['i']\n",
      "['u' 'n' 't' 'a' 'i'] ['n']\n",
      "['n' 't' 'a' 'i' 'n'] ['s']\n",
      "['t' 'a' 'i' 'n' 's'] [' ']\n",
      "['a' 'i' 'n' 's' ' '] ['y']\n",
      "['i' 'n' 's' ' ' 'y'] ['o']\n",
      "['n' 's' ' ' 'y' 'o'] ['u']\n",
      "['s' ' ' 'y' 'o' 'u'] [' ']\n",
      "[' ' 'y' 'o' 'u' ' '] ['c']\n",
      "['y' 'o' 'u' ' ' 'c'] ['o']\n",
      "['o' 'u' ' ' 'c' 'o'] ['n']\n",
      "['u' ' ' 'c' 'o' 'n'] ['t']\n",
      "[' ' 'c' 'o' 'n' 't'] ['r']\n",
      "['c' 'o' 'n' 't' 'r'] ['o']\n",
      "['o' 'n' 't' 'r' 'o'] ['l']\n",
      "['n' 't' 'r' 'o' 'l'] ['.']\n",
      "['t' 'r' 'o' 'l' '.'] ['Ⓔ']\n"
     ]
    }
   ],
   "source": [
    "x, y = next(itr)\n",
    "print(x.shape, y.shape)\n",
    "for z in range(len(x)):\n",
    "    print(x[z], y[z])"
   ]
  },
  {
   "cell_type": "markdown",
   "metadata": {},
   "source": [
    "to-do, network notes:\n",
    "\n",
    "create window-size, pad with START tokens\n",
    "add EOF token (and remove power/toughness if null?)\n",
    "in network, encode name with LSTM(s) then copy state(s) to output network\n",
    "(effectively a seq-to-seq)\n",
    "generator needs to PAD TO FIXED BATCH SIZE (see length chosen above)\n",
    "use batch-training and reset_state"
   ]
  },
  {
   "cell_type": "code",
   "execution_count": null,
   "metadata": {},
   "outputs": [],
   "source": []
  }
 ],
 "metadata": {
  "kernelspec": {
   "display_name": "Python 3",
   "language": "python",
   "name": "python3"
  },
  "language_info": {
   "codemirror_mode": {
    "name": "ipython",
    "version": 3
   },
   "file_extension": ".py",
   "mimetype": "text/x-python",
   "name": "python",
   "nbconvert_exporter": "python",
   "pygments_lexer": "ipython3",
   "version": "3.6.0"
  }
 },
 "nbformat": 4,
 "nbformat_minor": 2
}
