{
 "cells": [
  {
   "cell_type": "code",
   "execution_count": 1,
   "metadata": {},
   "outputs": [],
   "source": [
    "import numpy as np\n",
    "import re\n",
    "from collections import Counter"
   ]
  },
  {
   "cell_type": "code",
   "execution_count": 2,
   "metadata": {},
   "outputs": [],
   "source": [
    "setnm = list(np.load('data//numpy//setnm.npy'))\n",
    "idnum = list(np.load('data//numpy//idnum.npy'))\n",
    "names = list(np.load('data//numpy//names.npy'))\n",
    "mcost = list(np.load('data//numpy//mcost.npy'))\n",
    "rarty = list(np.load('data//numpy//rarty.npy'))\n",
    "types = list(np.load('data//numpy//types.npy'))\n",
    "subtp = list(np.load('data//numpy//subtp.npy'))\n",
    "ctext = list(np.load('data//numpy//ctext_orig.npy'))\n",
    "power = list(np.load('data//numpy//power.npy'))\n",
    "tough = list(np.load('data//numpy//tough.npy'))"
   ]
  },
  {
   "cell_type": "markdown",
   "metadata": {},
   "source": [
    "### encode the rarities as capital letters"
   ]
  },
  {
   "cell_type": "code",
   "execution_count": 3,
   "metadata": {},
   "outputs": [
    {
     "data": {
      "text/plain": [
       "['S', 'C', 'R', 'M', 'U']"
      ]
     },
     "execution_count": 3,
     "metadata": {},
     "output_type": "execute_result"
    }
   ],
   "source": [
    "rletr = [w[0] for w in rarty]\n",
    "list(set(rletr))"
   ]
  },
  {
   "cell_type": "markdown",
   "metadata": {},
   "source": [
    "### encode the types, subtypes as lower-cased words separated by a symbol '·'"
   ]
  },
  {
   "cell_type": "code",
   "execution_count": 4,
   "metadata": {},
   "outputs": [],
   "source": [
    "typss = []\n",
    "for x in types:\n",
    "    item = ''\n",
    "    lst = str(x).split(' ')\n",
    "    for idx, tp in enumerate(lst):\n",
    "        item += tp.lower()\n",
    "        if idx < len(lst)-1:\n",
    "            item += '·'\n",
    "    \n",
    "    typss.append(item)    "
   ]
  },
  {
   "cell_type": "code",
   "execution_count": 5,
   "metadata": {},
   "outputs": [
    {
     "data": {
      "text/plain": [
       "{'artifact',\n",
       " 'artifact·creature',\n",
       " 'creature',\n",
       " 'enchantment',\n",
       " 'enchantment·artifact',\n",
       " 'enchantment·creature',\n",
       " 'instant',\n",
       " 'planeswalker',\n",
       " 'sorcery',\n",
       " 'tribal·artifact',\n",
       " 'tribal·enchantment',\n",
       " 'tribal·instant',\n",
       " 'tribal·sorcery'}"
      ]
     },
     "execution_count": 5,
     "metadata": {},
     "output_type": "execute_result"
    }
   ],
   "source": [
    "set(typss)"
   ]
  },
  {
   "cell_type": "code",
   "execution_count": 6,
   "metadata": {},
   "outputs": [],
   "source": [
    "subts = []\n",
    "for lst in subtp:\n",
    "    item = ''\n",
    "    lst = list(lst)\n",
    "    for idx, subtype in enumerate(lst):\n",
    "        if subtype != 'PAD':\n",
    "            item += subtype.lower()\n",
    "        if idx < len(lst)-1:\n",
    "            if lst[idx+1] != 'PAD':\n",
    "                item += '·'\n",
    "    \n",
    "    if item == '':\n",
    "        item = '⌧'\n",
    "    \n",
    "    subts.append(item)    "
   ]
  },
  {
   "cell_type": "markdown",
   "metadata": {},
   "source": [
    "### remove reminder text\n",
    "strip all text between parentheses"
   ]
  },
  {
   "cell_type": "code",
   "execution_count": 7,
   "metadata": {},
   "outputs": [
    {
     "data": {
      "text/plain": [
       "['first strike (this creature deals combat damage before creatures without first strike.)|when Ⓝ enters the battlefield, you gain 1 life for each card in your graveyard.',\n",
       " 'flying|when Ⓝ enters the battlefield, you gain 3 life.',\n",
       " \"target creature gets +3/+3 and gains flying until end of turn. (it can't be blocked except by creatures with flying or reach.)\",\n",
       " 'whenever a creature enters the battlefield under your control, you gain life equal to its toughness.',\n",
       " \"defender (this creature can't attack.)|flying\",\n",
       " 'artifact and enchantment spells your opponents cast cost ② more to cast.|sacrifice Ⓝ: destroy target artifact or enchantment.',\n",
       " \"flying (this creature can't be blocked except by creatures with flying or reach.)|when Ⓝ enters the battlefield, destroy target enchantment.\",\n",
       " 'ⓍⓌ, ↷: Ⓝ deals x damage to target attacking or blocking creature.',\n",
       " 'prevent the next 1 damage that would be dealt to target creature or player this turn.|draw a card.',\n",
       " \"double target player's life total. shuffle Ⓝ into its owner's library.\"]"
      ]
     },
     "execution_count": 7,
     "metadata": {},
     "output_type": "execute_result"
    }
   ],
   "source": [
    "ctext[:10]"
   ]
  },
  {
   "cell_type": "code",
   "execution_count": 8,
   "metadata": {},
   "outputs": [],
   "source": [
    "ctext_new = []\n",
    "for text in ctext:\n",
    "    new_text = re.sub(r'\\s\\([\\S\\s]+\\)', '', text)\n",
    "    new_text = new_text.replace('|', '·')\n",
    "    ctext_new.append(new_text)"
   ]
  },
  {
   "cell_type": "code",
   "execution_count": 9,
   "metadata": {},
   "outputs": [
    {
     "data": {
      "text/plain": [
       "['first strike·when Ⓝ enters the battlefield, you gain 1 life for each card in your graveyard.',\n",
       " 'flying·when Ⓝ enters the battlefield, you gain 3 life.',\n",
       " 'target creature gets +3/+3 and gains flying until end of turn.',\n",
       " 'whenever a creature enters the battlefield under your control, you gain life equal to its toughness.',\n",
       " 'defender·flying',\n",
       " 'artifact and enchantment spells your opponents cast cost ② more to cast.·sacrifice Ⓝ: destroy target artifact or enchantment.',\n",
       " 'flying·when Ⓝ enters the battlefield, destroy target enchantment.',\n",
       " 'ⓍⓌ, ↷: Ⓝ deals x damage to target attacking or blocking creature.',\n",
       " 'prevent the next 1 damage that would be dealt to target creature or player this turn.·draw a card.',\n",
       " \"double target player's life total. shuffle Ⓝ into its owner's library.\"]"
      ]
     },
     "execution_count": 9,
     "metadata": {},
     "output_type": "execute_result"
    }
   ],
   "source": [
    "ctext_new[:10]"
   ]
  },
  {
   "cell_type": "markdown",
   "metadata": {},
   "source": [
    "### combine items into string with '|' separator\n",
    "[mcost|rletr|typss|subts|ctext_new|power|tough]\n",
    "don't add power/tough if not needed\n",
    "use START symbol: Ⓢ and EOF symbol: Ⓔ"
   ]
  },
  {
   "cell_type": "code",
   "execution_count": 10,
   "metadata": {},
   "outputs": [],
   "source": [
    "cardtext = []\n",
    "for i in range(len(names)):\n",
    "    lst = [names[i], mcost[i], rletr[i], typss[i], subts[i], ctext_new[i]]\n",
    "    \n",
    "    if power[i] != '⌧' and tough[i] != '⌧':\n",
    "        lst += [power[i], tough[i]]\n",
    "    \n",
    "    txt = '|'.join(lst)\n",
    "    txt += 'Ⓔ'\n",
    "    cardtext.append(txt)"
   ]
  },
  {
   "cell_type": "code",
   "execution_count": 11,
   "metadata": {},
   "outputs": [
    {
     "name": "stdout",
     "output_type": "stream",
     "text": [
      "ancestor's chosen|⑤ⓌⓌ|U|creature|human·cleric|first strike·when Ⓝ enters the battlefield, you gain 1 life for each card in your graveyard.|4|4Ⓔ\n",
      "angel of mercy|④Ⓦ|U|creature|angel|flying·when Ⓝ enters the battlefield, you gain 3 life.|3|3Ⓔ\n",
      "angelic blessing|②Ⓦ|C|sorcery|⌧|target creature gets +3/+3 and gains flying until end of turn.Ⓔ\n",
      "angelic chorus|③ⓌⓌ|R|enchantment|⌧|whenever a creature enters the battlefield under your control, you gain life equal to its toughness.Ⓔ\n",
      "angelic wall|①Ⓦ|C|creature|wall|defender·flying|0|4Ⓔ\n",
      "aura of silence|①ⓌⓌ|U|enchantment|⌧|artifact and enchantment spells your opponents cast cost ② more to cast.·sacrifice Ⓝ: destroy target artifact or enchantment.Ⓔ\n",
      "aven cloudchaser|③Ⓦ|C|creature|bird·soldier|flying·when Ⓝ enters the battlefield, destroy target enchantment.|2|2Ⓔ\n",
      "ballista squad|③Ⓦ|U|creature|human·rebel|ⓍⓌ, ↷: Ⓝ deals x damage to target attacking or blocking creature.|2|2Ⓔ\n",
      "bandage|Ⓦ|C|instant|⌧|prevent the next 1 damage that would be dealt to target creature or player this turn.·draw a card.Ⓔ\n",
      "beacon of immortality|⑤Ⓦ|R|instant|⌧|double target player's life total. shuffle Ⓝ into its owner's library.Ⓔ\n"
     ]
    }
   ],
   "source": [
    "for i in range(10):\n",
    "    print(cardtext[i])"
   ]
  },
  {
   "cell_type": "markdown",
   "metadata": {},
   "source": [
    "### save cardtexts"
   ]
  },
  {
   "cell_type": "code",
   "execution_count": null,
   "metadata": {},
   "outputs": [],
   "source": [
    "np.save('data/card_texts.npy', cardtext)"
   ]
  },
  {
   "cell_type": "markdown",
   "metadata": {},
   "source": [
    "### analysis & testing"
   ]
  },
  {
   "cell_type": "code",
   "execution_count": 12,
   "metadata": {},
   "outputs": [],
   "source": [
    "txtlens = [len(s) for s in cardtext]"
   ]
  },
  {
   "cell_type": "code",
   "execution_count": 13,
   "metadata": {},
   "outputs": [],
   "source": [
    "lencnts = Counter(txtlens)\n",
    "zips = lencnts.most_common()\n",
    "x = sorted(zips, key = lambda x: x[0], reverse=True)"
   ]
  },
  {
   "cell_type": "code",
   "execution_count": 14,
   "metadata": {},
   "outputs": [],
   "source": [
    "# x"
   ]
  },
  {
   "cell_type": "code",
   "execution_count": 15,
   "metadata": {},
   "outputs": [
    {
     "name": "stdout",
     "output_type": "stream",
     "text": [
      "% of cards over chosen idx: 0.061505434967799096\n"
     ]
    }
   ],
   "source": [
    "idx = 250\n",
    "over = sum([t[1] for t in x if t[0] > idx])\n",
    "undr = sum([t[1] for t in x if t[0] <= idx])\n",
    "print(\"% of cards over chosen idx:\", over/(over+undr))"
   ]
  },
  {
   "cell_type": "code",
   "execution_count": 16,
   "metadata": {},
   "outputs": [
    {
     "name": "stdout",
     "output_type": "stream",
     "text": [
      "dance of the dead|①Ⓑ|U|enchantment|aura|enchant creature card in a graveyard·when Ⓝ enters the battlefield, if it's on the battlefield, it loses \"enchant creature card in a graveyard\" and gains \"enchant creature put onto the battlefield with Ⓝ.\" put enchanted creature card onto the battlefield tapped under your control and attach Ⓝ to it. when Ⓝ leaves the battlefield, that creature's controller sacrifices it.·enchanted creature gets +1/+1 and doesn't untap during its controller's untap step.·at the beginning of the upkeep of enchanted creature's controller, that player may pay ①Ⓑ. if he or she does, untap that creature.Ⓔ\n"
     ]
    }
   ],
   "source": [
    "print(cardtext[txtlens.index(max(txtlens))])"
   ]
  },
  {
   "cell_type": "markdown",
   "metadata": {},
   "source": [
    "## generate batches\n",
    "\n",
    "START: Ⓢ  PAD: ⎕"
   ]
  },
  {
   "cell_type": "code",
   "execution_count": 17,
   "metadata": {},
   "outputs": [],
   "source": [
    "# first get vocabulary\n",
    "vocab = []\n",
    "vocabset = ['⎕'] # zero-pad PAD character\n",
    "for card in cardtext:\n",
    "    lst = list(card)\n",
    "    vocab += lst\n",
    "\n",
    "# add vocab according to frequency\n",
    "vocabset += [x[0] for x in sorted([t for t in Counter(vocab).most_common()], key=lambda x: x[1], reverse=True)]\n",
    "vocabset.append('Ⓢ') # START-PAD character\n",
    "\n",
    "c2i = dict([(c, i) for i, c in enumerate(vocabset)])\n",
    "i2c = dict([(i, c) for i, c in enumerate(vocabset)])"
   ]
  },
  {
   "cell_type": "code",
   "execution_count": 18,
   "metadata": {},
   "outputs": [
    {
     "data": {
      "text/plain": [
       "(1, '⎕')"
      ]
     },
     "execution_count": 18,
     "metadata": {},
     "output_type": "execute_result"
    }
   ],
   "source": [
    "c2i[' '], i2c[0]"
   ]
  },
  {
   "cell_type": "code",
   "execution_count": 19,
   "metadata": {},
   "outputs": [],
   "source": [
    "# save\n",
    "np.save('c2i.npy', c2i)\n",
    "np.save('i2c.npy', i2c)"
   ]
  },
  {
   "cell_type": "code",
   "execution_count": 21,
   "metadata": {},
   "outputs": [],
   "source": [
    "def cardGenerator(cardtext, windowsize, batchsize, strt='Ⓢ', pad='⎕', c2i=c2i):\n",
    "    \n",
    "    i = 0\n",
    "    indices = list(np.random.permutation(len(cardtext)))\n",
    "    idx = indices[i]\n",
    "    \n",
    "    # for each card...\n",
    "    # todo: shuffle this??\n",
    "    while True:\n",
    "\n",
    "        # new card, get index\n",
    "        thiscard = []\n",
    "        \n",
    "        # start-pad the window\n",
    "        for j in range(windowsize):    \n",
    "            thiscard.append(strt)\n",
    "\n",
    "        # add the cardtext\n",
    "        thiscard += cardtext[idx]\n",
    "\n",
    "        # pad or truncate\n",
    "#         if len(thiscard) > batchsize+windowsize:\n",
    "#             thiscard = thiscard[:batchsize+windowsize]\n",
    "#         else:\n",
    "#             while len(thiscard) < batchsize+windowsize:\n",
    "#                 thiscard.append(pad)\n",
    "\n",
    "        # test: print\n",
    "        # yield(''.join(thiscard))\n",
    "        \n",
    "        # int-index\n",
    "        thiscard = [c2i[c] for c in thiscard]\n",
    "        \n",
    "        # create matrix\n",
    "        x = []\n",
    "        y = []\n",
    "        for k in range(len(thiscard)-windowsize):\n",
    "            x.append(thiscard[k:(k+windowsize)])\n",
    "            y.append(thiscard[k+windowsize])\n",
    "        \n",
    "        # reshape for sparse_categorical_crossentropy\n",
    "        y = np.array(y)\n",
    "        y = y[:, np.newaxis]\n",
    "        \n",
    "        yield(np.asarray(x), y)\n",
    "        \n",
    "        if i + 1 >= len(cardtext):\n",
    "            indices = np.random.permutation(len(cardtext))\n",
    "            i = 0\n",
    "            idx = indices[i]\n",
    "        else:\n",
    "            i += 1\n",
    "            idx = indices[i]"
   ]
  },
  {
   "cell_type": "code",
   "execution_count": 22,
   "metadata": {},
   "outputs": [],
   "source": [
    "itr = cardGenerator(cardtext, 4, 250)"
   ]
  },
  {
   "cell_type": "code",
   "execution_count": 23,
   "metadata": {},
   "outputs": [],
   "source": [
    "# import time\n",
    "# start = time.time()\n",
    "# for i in range(len(cardtext)):\n",
    "#     x, y = next(itr)\n",
    "# end = time.time()\n",
    "# print(end - start)"
   ]
  },
  {
   "cell_type": "code",
   "execution_count": 24,
   "metadata": {},
   "outputs": [
    {
     "name": "stdout",
     "output_type": "stream",
     "text": [
      "(130, 4) (130, 1)\n",
      "[96 96 96 96] [22]\n",
      "[96 96 96 22] [12]\n",
      "[96 96 22 12] [7]\n",
      "[96 22 12  7] [7]\n",
      "[22 12  7  7] [14]\n",
      "[12  7  7 14] [57]\n",
      "[ 7  7 14 57] [10]\n",
      "[ 7 14 57 10] [15]\n",
      "[14 57 10 15] [9]\n",
      "[57 10 15  9] [6]\n",
      "[10 15  9  6] [1]\n",
      "[15  9  6  1] [5]\n",
      "[9 6 1 5] [4]\n",
      "[6 1 5 4] [18]\n",
      "[ 1  5  4 18] [2]\n",
      "[ 5  4 18  2] [5]\n",
      "[ 4 18  2  5] [8]\n",
      "[18  2  5  8] [40]\n",
      "[ 2  5  8 40] [35]\n",
      "[ 5  8 40 35] [8]\n",
      "[ 8 40 35  8] [43]\n",
      "[40 35  8 43] [8]\n",
      "[35  8 43  8] [10]\n",
      "[ 8 43  8 10] [5]\n",
      "[43  8 10  5] [2]\n",
      "[ 8 10  5  2] [4]\n",
      "[10  5  2  4] [3]\n",
      "[5 2 4 3] [13]\n",
      "[ 2  4  3 13] [5]\n",
      "[ 4  3 13  5] [2]\n",
      "[ 3 13  5  2] [8]\n",
      "[13  5  2  8] [15]\n",
      "[ 5  2  8 15] [13]\n",
      "[ 2  8 15 13] [20]\n",
      "[ 8 15 13 20] [4]\n",
      "[15 13 20  4] [6]\n",
      "[13 20  4  6] [25]\n",
      "[20  4  6 25] [23]\n",
      "[ 4  6 25 23] [4]\n",
      "[ 6 25 23  4] [5]\n",
      "[25 23  4  5] [5]\n",
      "[23  4  5  5] [9]\n",
      "[4 5 5 9] [7]\n",
      "[5 5 9 7] [5]\n",
      "[5 9 7 5] [8]\n",
      "[9 7 5 8] [23]\n",
      "[ 7  5  8 23] [15]\n",
      "[ 5  8 23 15] [2]\n",
      "[ 8 23 15  2] [6]\n",
      "[23 15  2  6] [2]\n",
      "[15  2  6  2] [27]\n",
      "[ 2  6  2 27] [2]\n",
      "[ 6  2 27  2] [5]\n",
      "[ 2 27  2  5] [1]\n",
      "[27  2  5  1] [30]\n",
      "[ 2  5  1 30] [1]\n",
      "[ 5  1 30  1] [4]\n",
      "[ 1 30  1  4] [3]\n",
      "[30  1  4  3] [3]\n",
      "[1 4 3 3] [4]\n",
      "[4 3 3 4] [10]\n",
      "[ 3  3  4 10] [28]\n",
      "[ 3  4 10 28] [11]\n",
      "[ 4 10 28 11] [26]\n",
      "[10 28 11 26] [1]\n",
      "[28 11 26  1] [23]\n",
      "[11 26  1 23] [4]\n",
      "[26  1 23  4] [5]\n",
      "[ 1 23  4  5] [5]\n",
      "[23  4  5  5] [9]\n",
      "[4 5 5 9] [7]\n",
      "[5 5 9 7] [5]\n",
      "[5 9 7 5] [1]\n",
      "[9 7 5 1] [10]\n",
      "[ 7  5  1 10] [5]\n",
      "[ 5  1 10  5] [2]\n",
      "[ 1 10  5  2] [4]\n",
      "[10  5  2  4] [3]\n",
      "[5 2 4 3] [13]\n",
      "[ 2  4  3 13] [5]\n",
      "[ 4  3 13  5] [2]\n",
      "[ 3 13  5  2] [11]\n",
      "[13  5  2 11] [1]\n",
      "[ 5  2 11  1] [16]\n",
      "[ 2 11  1 16] [7]\n",
      "[11  1 16  7] [13]\n",
      "[ 1 16  7 13] [1]\n",
      "[16  7 13  1] [10]\n",
      "[ 7 13  1 10] [7]\n",
      "[13  1 10  7] [6]\n",
      "[ 1 10  7  6] [3]\n",
      "[10  7  6  3] [5]\n",
      "[7 6 3 5] [7]\n",
      "[6 3 5 7] [12]\n",
      "[ 3  5  7 12] [1]\n",
      "[ 5  7 12  1] [18]\n",
      "[ 7 12  1 18] [4]\n",
      "[12  1 18  4] [9]\n",
      "[ 1 18  4  9] [6]\n",
      "[18  4  9  6] [1]\n",
      "[4 9 6 1] [20]\n",
      "[ 9  6  1 20] [2]\n",
      "[ 6  1 20  2] [6]\n",
      "[ 1 20  2  6] [4]\n",
      "[20  2  6  4] [10]\n",
      "[ 2  6  4 10] [2]\n",
      "[ 6  4 10  2] [1]\n",
      "[ 4 10  2  1] [13]\n",
      "[10  2  1 13] [6]\n",
      "[ 2  1 13  6] [3]\n",
      "[ 1 13  6  3] [9]\n",
      "[13  6  3  9] [12]\n",
      "[ 6  3  9 12] [1]\n",
      "[ 3  9 12  1] [2]\n",
      "[ 9 12  1  2] [6]\n",
      "[12  1  2  6] [14]\n",
      "[ 1  2  6 14] [1]\n",
      "[ 2  6 14  1] [7]\n",
      "[ 6 14  1  7] [17]\n",
      "[14  1  7 17] [1]\n",
      "[ 1  7 17  1] [3]\n",
      "[ 7 17  1  3] [13]\n",
      "[17  1  3 13] [5]\n",
      "[ 1  3 13  5] [6]\n",
      "[ 3 13  5  6] [21]\n",
      "[13  5  6 21] [8]\n",
      "[ 5  6 21  8] [31]\n",
      "[ 6 21  8 31] [8]\n",
      "[21  8 31  8] [31]\n",
      "[ 8 31  8 31] [24]\n"
     ]
    }
   ],
   "source": [
    "x, y = next(itr)\n",
    "print(x.shape, y.shape)\n",
    "for z in range(len(x)):\n",
    "    print(x[z], y[z])"
   ]
  },
  {
   "cell_type": "markdown",
   "metadata": {},
   "source": [
    "to-do, network notes:\n",
    "\n",
    "create window-size, pad with START tokens\n",
    "add EOF token (and remove power/toughness if null?)\n",
    "in network, encode name with LSTM(s) then copy state(s) to output network\n",
    "(effectively a seq-to-seq)\n",
    "generator needs to PAD TO FIXED BATCH SIZE (see length chosen above)\n",
    "use batch-training and reset_state"
   ]
  },
  {
   "cell_type": "code",
   "execution_count": null,
   "metadata": {},
   "outputs": [],
   "source": []
  }
 ],
 "metadata": {
  "kernelspec": {
   "display_name": "Python 3",
   "language": "python",
   "name": "python3"
  },
  "language_info": {
   "codemirror_mode": {
    "name": "ipython",
    "version": 3
   },
   "file_extension": ".py",
   "mimetype": "text/x-python",
   "name": "python",
   "nbconvert_exporter": "python",
   "pygments_lexer": "ipython3",
   "version": "3.6.0"
  }
 },
 "nbformat": 4,
 "nbformat_minor": 2
}
