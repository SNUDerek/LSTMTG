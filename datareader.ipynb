{
 "cells": [
  {
   "cell_type": "code",
   "execution_count": 1,
   "metadata": {},
   "outputs": [],
   "source": [
    "import numpy as np\n",
    "import pandas as pd\n",
    "import re\n",
    "from collections import Counter"
   ]
  },
  {
   "cell_type": "markdown",
   "metadata": {},
   "source": [
    "## read text data\n",
    "\n",
    "education thesis abstracts"
   ]
  },
  {
   "cell_type": "code",
   "execution_count": 2,
   "metadata": {},
   "outputs": [],
   "source": [
    "with open(\"data//education_abstracts.txt\", 'r') as f:\n",
    "    data = f.readlines()"
   ]
  },
  {
   "cell_type": "code",
   "execution_count": 3,
   "metadata": {},
   "outputs": [],
   "source": [
    "titles = []\n",
    "abstracts = []\n",
    "\n",
    "for idx, line in enumerate(data):\n",
    "    if idx % 2 == 0:\n",
    "        titles.append(line.strip().lower())\n",
    "    else:\n",
    "        abstracts.append(line.strip().lower())"
   ]
  },
  {
   "cell_type": "code",
   "execution_count": 4,
   "metadata": {},
   "outputs": [
    {
     "data": {
      "text/plain": [
       "(118, 118)"
      ]
     },
     "execution_count": 4,
     "metadata": {},
     "output_type": "execute_result"
    }
   ],
   "source": [
    "len(titles), len(abstracts)"
   ]
  },
  {
   "cell_type": "code",
   "execution_count": 5,
   "metadata": {},
   "outputs": [
    {
     "data": {
      "text/plain": [
       "['marching forward, marching in circles: a history of problems and dilemmas in teacher preparation',\n",
       " 'flipping the classroom in teacher education: implications for motivation and learning',\n",
       " 'roles of urban indigenous community members in collaborative field-based teacher preparation']"
      ]
     },
     "execution_count": 5,
     "metadata": {},
     "output_type": "execute_result"
    }
   ],
   "source": [
    "titles[:3]"
   ]
  },
  {
   "cell_type": "markdown",
   "metadata": {},
   "source": [
    "## preprocessing\n",
    "\n",
    "add START, SPLIT and EOF tags: Ⓣ (title), Ⓐ (abstract), Ⓔ (end)"
   ]
  },
  {
   "cell_type": "code",
   "execution_count": 6,
   "metadata": {},
   "outputs": [],
   "source": [
    "fulltext = []\n",
    "for idx in range(len(titles)):\n",
    "    thisline = 'Ⓣ'\n",
    "    thisline += titles[idx]\n",
    "    thisline += 'Ⓐ'\n",
    "    thisline += abstracts[idx]\n",
    "    thisline += 'Ⓔ'\n",
    "    thisline += 'Ⓔ'\n",
    "    thisline += 'Ⓔ'\n",
    "    fulltext.append(thisline)"
   ]
  },
  {
   "cell_type": "markdown",
   "metadata": {},
   "source": [
    "# create vocabulary"
   ]
  },
  {
   "cell_type": "code",
   "execution_count": 7,
   "metadata": {},
   "outputs": [],
   "source": [
    "raw = ''.join(fulltext)\n",
    "raw = raw.replace('\\ufeff', '')\n",
    "vocab = list(set(list(raw)))\n",
    "c2i = dict([(k, v) for v, k in enumerate(vocab)])\n",
    "i2c = dict([(k, v) for k, v in enumerate(vocab)])"
   ]
  },
  {
   "cell_type": "markdown",
   "metadata": {},
   "source": [
    "## create a `pandas` dataframe and save data"
   ]
  },
  {
   "cell_type": "code",
   "execution_count": 8,
   "metadata": {},
   "outputs": [],
   "source": [
    "np.save('data//numpy//fullstrings.npy', fulltext)\n",
    "np.save('data//numpy//titles.npy', titles)\n",
    "np.save('data//numpy//c2i.npy', c2i)\n",
    "np.save('data//numpy//i2c.npy', i2c)"
   ]
  },
  {
   "cell_type": "code",
   "execution_count": null,
   "metadata": {},
   "outputs": [],
   "source": []
  }
 ],
 "metadata": {
  "kernelspec": {
   "display_name": "Python 3",
   "language": "python",
   "name": "python3"
  },
  "language_info": {
   "codemirror_mode": {
    "name": "ipython",
    "version": 3
   },
   "file_extension": ".py",
   "mimetype": "text/x-python",
   "name": "python",
   "nbconvert_exporter": "python",
   "pygments_lexer": "ipython3",
   "version": "3.6.0"
  }
 },
 "nbformat": 4,
 "nbformat_minor": 2
}
