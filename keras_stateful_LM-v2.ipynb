{
 "cells": [
  {
   "cell_type": "code",
   "execution_count": 1,
   "metadata": {},
   "outputs": [
    {
     "name": "stderr",
     "output_type": "stream",
     "text": [
      "Using TensorFlow backend.\n"
     ]
    }
   ],
   "source": [
    "import numpy as np\n",
    "\n",
    "from keras.models import Sequential, load_model\n",
    "from keras.layers import Embedding, LSTM, Dense, Dropout\n",
    "from tqdm import tqdm"
   ]
  },
  {
   "cell_type": "code",
   "execution_count": 2,
   "metadata": {},
   "outputs": [],
   "source": [
    "# read in data\n",
    "fulltext = list(np.load('data//numpy//fullstrings.npy'))\n",
    "titles = list(np.load('data//numpy//titles.npy'))\n",
    "c2i = np.load('data//numpy//c2i.npy').item()\n",
    "i2c = np.load('data//numpy//i2c.npy').item()"
   ]
  },
  {
   "cell_type": "code",
   "execution_count": 3,
   "metadata": {},
   "outputs": [],
   "source": [
    "# set parameters\n",
    "\n",
    "DROP_RATE = 0.33 # dropout\n",
    "EMBEDDING_SIZE = 256 # embedding size\n",
    "HIDDEN_SIZE = 256 # lstm feature vector\n",
    "HIDDEN_LAYERS = 2 # number of layers\n",
    "START_EPOCH = 0\n",
    "VOCAB_SIZE = len(c2i.keys()) # number of characters\n",
    "\n",
    "WINDOW_SIZE = 20 # context length\n",
    "NUM_EPOCHS = 1000\n",
    "\n",
    "OUT_INCREMENT = 10 # printout after n batches - and save"
   ]
  },
  {
   "cell_type": "code",
   "execution_count": 11,
   "metadata": {},
   "outputs": [],
   "source": [
    "def cardGenerator(cardtext, title, windowsize, c2i=c2i, debug=False):\n",
    "        \n",
    "    i = 0\n",
    "    indices = list(np.random.permutation(len(cardtext)))\n",
    "    idx = indices[i]\n",
    "\n",
    "    # pregenerate warmup sequence\n",
    "    warmup = ''\n",
    "    while len(warmup) < windowsize:\n",
    "        warmup += title[idx]\n",
    "    \n",
    "    warmup = list(warmup[-windowsize:])\n",
    "    \n",
    "    # sequence start\n",
    "    sequence = list(cardtext[idx])\n",
    "    \n",
    "    # create matrix\n",
    "    x = []\n",
    "    y = []\n",
    "    \n",
    "    sequence = warmup + sequence\n",
    "    \n",
    "    if debug:\n",
    "        sequence = sequence\n",
    "    else:\n",
    "        sequence = [c2i[c] for c in sequence]\n",
    "    \n",
    "    # main iterator\n",
    "    while True:\n",
    "        \n",
    "        # generate batch (of cards_per_batch cards)\n",
    "        while len(sequence) > windowsize:\n",
    "            x.append(np.array(sequence[:windowsize]))\n",
    "            y.append(sequence[windowsize])\n",
    "            sequence.pop(0)\n",
    "        \n",
    "        # generate batch_size worth of window-shifted data\n",
    "        # reshape for sparse_categorical_crossentropy\n",
    "        sequence = []\n",
    "        y = np.array(y)\n",
    "        y = y[:, np.newaxis]\n",
    "        # yield and reset\n",
    "        yield(np.asarray(x), y)\n",
    "        x, y = [], []\n",
    "        \n",
    "        # check for too long, reset\n",
    "        if i+1 >= len(indices):\n",
    "            indices = np.random.permutation(len(cardtext))\n",
    "            i = 0\n",
    "            idx = indices[i]\n",
    "        else:\n",
    "            i += 1\n",
    "            idx = indices[i]\n",
    "            \n",
    "        # pregenerate new warmup sequence\n",
    "        warmup = ''\n",
    "        while len(warmup) < windowsize:\n",
    "            warmup += title[idx]\n",
    "\n",
    "        warmup = list(warmup[-windowsize:])\n",
    "\n",
    "        # sequence start\n",
    "        sequence = list(cardtext[idx].replace('\\ufeff',''))\n",
    "\n",
    "        # create matrix\n",
    "        x = []\n",
    "        y = []\n",
    "\n",
    "        sequence = warmup + sequence\n",
    "\n",
    "        if debug:\n",
    "            sequence = sequence\n",
    "        else:\n",
    "            sequence = [c2i[c] for c in sequence]"
   ]
  },
  {
   "cell_type": "code",
   "execution_count": 12,
   "metadata": {},
   "outputs": [],
   "source": [
    "getbatch = cardGenerator(fulltext, titles, WINDOW_SIZE)"
   ]
  },
  {
   "cell_type": "code",
   "execution_count": 6,
   "metadata": {},
   "outputs": [],
   "source": [
    "# define model\n",
    "model = Sequential()\n",
    "model.add(Embedding(VOCAB_SIZE, EMBEDDING_SIZE, \n",
    "                    batch_input_shape=(1, WINDOW_SIZE, )))\n",
    "model.add(Dropout(DROP_RATE))\n",
    "for _ in range(HIDDEN_LAYERS-1):\n",
    "    model.add(LSTM(HIDDEN_SIZE, return_sequences=True, stateful=True))\n",
    "model.add(LSTM(HIDDEN_SIZE, stateful=True))\n",
    "model.add(Dense(VOCAB_SIZE, activation='softmax'))"
   ]
  },
  {
   "cell_type": "code",
   "execution_count": 7,
   "metadata": {},
   "outputs": [],
   "source": [
    "# compile\n",
    "model.compile(loss='sparse_categorical_crossentropy',\n",
    "              optimizer='sgd', metrics=['accuracy'])"
   ]
  },
  {
   "cell_type": "code",
   "execution_count": 8,
   "metadata": {},
   "outputs": [],
   "source": [
    "# predict 'Ⓔ'\n",
    "\n",
    "def predict(startchars='none', temperature=1.0, maxlen=1000):\n",
    "    \n",
    "    seq_out = []\n",
    "    \n",
    "    if temperature=='random':\n",
    "        tmp = np.random.random()\n",
    "    else:\n",
    "        tmp = temperature\n",
    "    \n",
    "    # starting sequence\n",
    "    if startchars=='none':\n",
    "        seq_in = [c2i['Ⓔ'] for i in range(WINDOW_SIZE)]\n",
    "    \n",
    "    elif startchars=='random':\n",
    "        seq_in = []\n",
    "        alpha = ['a', 'b', 'c', 'd', 'e', 'f', 'g', 'h', 'i', 'j', 'k',\n",
    "                 'l', 'm', 'n', 'o', 'p', 'q', 'r', 's', 't', 'u', 'v',\n",
    "                 'w', 'x', 'y', 'z']\n",
    "        alpha = [a for a in alpha if a in c2i.keys()]\n",
    "        while len(seq_in) < WINDOW_SIZE-1:\n",
    "            rnd = np.random.randint(0, len(alpha))\n",
    "            seq_in += [c2i[alpha[rnd]]]\n",
    "        seq_in += [c2i['Ⓔ']]\n",
    "    \n",
    "    else:\n",
    "        s = list(startchars)\n",
    "        s = s[:WINDOW_SIZE]\n",
    "        seq_out =  [c2i[c] for c in s]\n",
    "        while len(s) < WINDOW_SIZE:\n",
    "            s.insert(0, 'Ⓔ')\n",
    "        seq_in = [c2i[c] for c in s]\n",
    "        \n",
    "    # softmax temperature\n",
    "    # scaling factor of logits = logits/temperature\n",
    "    # high temp = more confident = more diverse, more mistakes\n",
    "    # low temp: more conservative\n",
    "    # https://stackoverflow.com/questions/37246030/how-to-change-the-temperature-of-a-softmax-output-in-keras/37254117#37254117\n",
    "    def sample(a, temperature=tmp):\n",
    "        a = np.array(a)**(1/temperature)\n",
    "        p_sum = a.sum()\n",
    "        sample_temp = a/p_sum \n",
    "\n",
    "        # stupid fix for > 1 error\n",
    "        while sum(sample_temp) > 1:\n",
    "            sample_temp[0] -= 0.0001\n",
    "\n",
    "        return np.argmax(np.random.multinomial(1, sample_temp, 1))\n",
    "\n",
    "    for i in range(maxlen):\n",
    "\n",
    "        # predict next char\n",
    "        pred_out = model.predict(np.array(seq_in).reshape((1, WINDOW_SIZE)))\n",
    "        # get index of highest pred\n",
    "        idx = sample(pred_out[0])\n",
    "        # save index for decoding\n",
    "        seq_out.append(idx)\n",
    "        # add index to input sequence\n",
    "        seq_in.append(int(idx))\n",
    "        # remove earliest\n",
    "        seq_in.pop(0)\n",
    "\n",
    "    # decode final sequence\n",
    "    card_char = ''.join([i2c[int(i)] for i in seq_out])\n",
    "    \n",
    "    print(card_char)\n",
    "    \n",
    "    return card_char"
   ]
  },
  {
   "cell_type": "code",
   "execution_count": 13,
   "metadata": {},
   "outputs": [],
   "source": [
    "# load model\n",
    "model.load_weights('model/eduthesis-modelweights-epoch1-cards90.h5')\n",
    "START_EPOCH = 0"
   ]
  },
  {
   "cell_type": "code",
   "execution_count": 14,
   "metadata": {
    "scrolled": true
   },
   "outputs": [
    {
     "name": "stderr",
     "output_type": "stream",
     "text": [
      "\n",
      "  0%|          | 0/118 [00:00<?, ?it/s]\u001b[A\n",
      "Exception in thread Thread-4:\n",
      "Traceback (most recent call last):\n",
      "  File \"/home/derek/anaconda3/envs/kerasCRF/lib/python3.6/threading.py\", line 916, in _bootstrap_inner\n",
      "    self.run()\n",
      "  File \"/home/derek/anaconda3/envs/kerasCRF/lib/python3.6/site-packages/tqdm/_tqdm.py\", line 144, in run\n",
      "    for instance in self.tqdm_cls._instances:\n",
      "  File \"/home/derek/anaconda3/envs/kerasCRF/lib/python3.6/_weakrefset.py\", line 60, in __iter__\n",
      "    for itemref in self.data:\n",
      "RuntimeError: Set changed size during iteration\n",
      "\n",
      "  8%|▊         | 10/118 [08:47<1:35:00, 52.78s/it]"
     ]
    },
    {
     "name": "stdout",
     "output_type": "stream",
     "text": [
      "EPOCH: 1 card #: 10 of 118 <keras.callbacks.History object at 0x7fce24525ac8>\n",
      " a pradings an resports bale intertite the conterved and the on preports the progols of the porticul a listruds of conts teachers edearations and in onterts in the pertecture they intervitune in the schools, in the pridesstions.ⒺⒺⒺ, the stude the spofsictions and their clodides and intervelts of pomticul contrications, were in thege leadershing a progersicaled scied then seling the supports. and intergsions, in there wer schools, and intliditations, scon teachers in there splecticuls, stuy portent they speciticulllides, the in there dearonces. the polticlations, ban and and internities in teachers in the scudices in the pomts teachers in the study of develors, and sciences teachers in the classormed the sepported and the stuly scoul teachers identity in thering in their teachers in the reseltions, and scoring a leaders in the scifically, developpenters, as the suctions, and interntitutions and they conded teachers scom) teachers in the resports and in their dearors, scomentical sconing\n",
      " the cund discricties the for prosestions of a distructions, in the scasers in there al thes from find there manders the identity in the leachers in their study of the pladings scunitrrsuponticite teachers insertitions ibeling prodersitiens enterical leaders in they in lisfromss and consictions and lisfuctions, wo in the diclingrat the consticting of now teachers and stucing in teachers in ned and interatips teachers atsings a fir tore belentice and teachers and teachers and teachers in the suroting, edications in the beadres teachers scot a herming nathres in the sithing the interitits, hor sud deadershing scepported of candivities, in thes ponturations, sclooms aronting of lelianating and teachers in learning wither teacher educations.ⒺⒺⒺⒺ intertent teachers beachers and suterations, in teachers relemors, themen of the realersith the scuding far interint and-intsructiols bonging identities. whis cothens in theos in bera offering teachers condicuts, from clise-toronted and in ther sow\n"
     ]
    },
    {
     "name": "stderr",
     "output_type": "stream",
     "text": [
      "\r",
      "  9%|▉         | 11/118 [10:08<1:38:36, 55.29s/it]"
     ]
    },
    {
     "name": "stdout",
     "output_type": "stream",
     "text": [
      " sconded and teachers in they interith, and teachers in their newirg of teachers in the scon the desports teachers in the supported and in their schools. and scienticy in the in ther pladications, and teachers in their schools of teachers in teachers, in thery identitions and teachers in teachers in teachers in netities in ther scourning in there schools, and in there sucoling schools, in the ponticul in their educations in thee suctions, an prostrations, and in ther scon in their in the devesoctions, and the portications, in teachers in the student in their entervities and in their in their cladications in their un leartics and teachers scuvionthiclentsive of they resports of bers in there schools, and teachers in the sulers the scind in their education in their the perportical, and deares of they schools, and in ther schoolss in the peraditity and the scups in encations. in there sclools, in teachers in the classrooms, withen cuntications in then schools, and scientity in enterations\n",
      "\n",
      "\n",
      "\n"
     ]
    },
    {
     "name": "stderr",
     "output_type": "stream",
     "text": [
      " 17%|█▋        | 20/118 [17:35<1:26:11, 52.77s/it]"
     ]
    },
    {
     "name": "stdout",
     "output_type": "stream",
     "text": [
      "EPOCH: 1 card #: 20 of 118 <keras.callbacks.History object at 0x7fce24525cf8>\n",
      "cil teaching, colpution resuring on student contural encation. teacher education and science exciencenty and of diteration.ⒺⒺⒺⒺⒺⒺⒺⒺ craditions ond desing gore expeaching propar lesign groppeative engage in envienering three rotuse on the distore and in engore esuctive teachers wore enguling and in expatice in engame study gurture eniderent on lestormeng context deaching blenalion resulin the ratheratics were exfective in the computer engage effactive cration in evage exparative craticeatics and computer teaching and sciending in enifer and in encience excutent. tho guttent preapactive onvervite articles and a design on eligation, the rath sceater the rees in engabting teach teacher education.ⒺⒺⒺⒺⒺⒺⒺⒺⒺⒺⒺⒺⒺⒺⒺ es in revearind (cling-engurene envireary frou beriepcerent on learning on the realtive in educational preparation activitiosⒶfre in elalined in elearning on thit in lithere in engineerer dithere seaccle cratitemal thre cutte scritent, gore in enigerent on cand amticle education. de\n",
      " research on the research on the research on the research on the research on the research on experiences and in enigare in engineering on the research on the research and in engienering the research on engineering and computer education on engiencent on the research on the research on the research on the research on the research on the research on the research on the rearning on the research on the realing on the research on the research on experiences and comture in enigarine in engarine engineering the research on the research on the research on the research on the rearined the research on the research on the research on the research on the rearning on the research on science exparation teacher education teacher education.ⒺⒺⒺⒺⒺⒺⒺⒺⒺⒺ crature engaring on the research on the research on the research on the research on the research on the research on the research on the rearning on engarine engineering the research on expart science expart science experiencent than research on experience\n"
     ]
    },
    {
     "name": "stderr",
     "output_type": "stream",
     "text": [
      "\r",
      " 18%|█▊        | 21/118 [18:53<1:27:13, 53.95s/it]"
     ]
    },
    {
     "name": "stdout",
     "output_type": "stream",
     "text": [
      " and in encienter in engineering the reatent on teachers in enigarine engirentice engurine and on researce engaring resuling teacher education teacher education.ⒺⒺⒺⒺⒺⒺⒺⒺⒺⒺⒺⒺ enginering and in enigarine engarine teacher education revearning on the research on experiencent and computer science expartices were in engienders only comtext gand enigerence encience engurined the research on the realtion, conticulatics on engage in education crature teachers resuling on and conture effective engaring teacher cuttive exaction.ⒺⒺⒺⒺⒺⒺⒺⒺⒺⒺⒺⒺⒺ enibering, greve sul and contural teaching on the research and the resign and in enigerent on teacher education.ⒺⒺⒺⒺⒺⒺⒺⒺⒺⒺ enginging and comture in encieration. whe research the rotemt bowe in the research on engare in enigaring the research on expart of the teacher education teacher education.ⒺⒺⒺⒺⒺⒺⒺⒺⒺⒺⒺⒺⒺⒺⒺⒺ cranticity on enigering and engam science education.ⒺⒺⒺⒺⒺⒺⒺⒺⒺⒺⒺⒺⒺⒺⒺ eninering, in learning on the research on learning on the research on the rearning \n",
      "\n",
      "\n",
      "\n"
     ]
    },
    {
     "name": "stderr",
     "output_type": "stream",
     "text": [
      " 25%|██▌       | 30/118 [25:59<1:16:14, 51.98s/it]"
     ]
    },
    {
     "name": "stdout",
     "output_type": "stream",
     "text": [
      "EPOCH: 1 card #: 30 of 118 <keras.callbacks.History object at 0x7fce24525908>\n",
      " and preflation practice. disuct how autheratif practice.ⒺⒺⒺⒺⒺⒺ disclice medugas of one peragogime (thole out of implonting teacher practices un a oxplome. pedagogy orlulitation prosective the courtent wae ker mengatien. the design medusipal programs.ⒺⒺⒺⒺⒺ/d the desuvtipe pedagogic probrams. is menestion teacher of coment. teacher preparation of uniguly on promlical bethees, in liffurt shuraties of practice conture of wer preflective and practice s insticlics ib this the lanativip. the sury ta pedagogipes teacher profless in sug) prepalting with coutheshif sutherated the usticle deslips orf come proglamtic practice.ⒺⒺⒺⒺⒺⒺ the practice.ⒺⒺⒺⒺⒺⒺ is renail proglems in sugcler practices of pracliced forms “as %aclisations of the shech stomps teacher preparation pripplops of the different schus of ledunt of rengomlan form-attivice, forment forming-coututies, and such antoges of presll teacher lidesconalysis, through cander practice, of and le lel schuolsd of denvlonghis content soul ithems pr\n",
      " the such progles of practice practice.ⒺⒺⒺⒺⒺⒺ the reflective practice.ⒺⒺⒺⒺⒺⒺ the content of menaging programs in practice.ⒺⒺⒺⒺⒺⒺ the diffict of practice practice practice.ⒺⒺⒺⒺⒺⒺⒺ the practice.ⒺⒺⒺⒺⒺⒺⒺ the contice practice practice, in practice proflession the practice, the reflective practice, the core pedagogies for practice practice practice practice practice of practice.ⒺⒺⒺⒺⒺⒺ the such and such proglems of menaging programs of practice.ⒺⒺⒺⒺⒺⒺⒺ the such of teacher preparation proglems of practice, the contention the such such proglems of the core practice of practice.ⒺⒺⒺⒺⒺⒺ the reflective practice practice practice.ⒺⒺⒺⒺⒺⒺ the different of sech such practice.ⒺⒺⒺⒺⒺⒺ the reflective profless of such of practice practice practices of practice practice.ⒺⒺⒺⒺⒺⒺⒺ the such practice practice practice practice.ⒺⒺⒺⒺⒺⒺ the resulting proglle pracestic and contentify the such progless of teacher proprams.ⒺⒺⒺⒺⒺⒺ the student of practice progless of sech and practice, the come practice propless of come \n"
     ]
    },
    {
     "name": "stderr",
     "output_type": "stream",
     "text": [
      "\r",
      " 26%|██▋       | 31/118 [26:47<1:15:10, 51.85s/it]"
     ]
    },
    {
     "name": "stdout",
     "output_type": "stream",
     "text": [
      " core impinitatiny and the exportes kech acpore practicecte ofh disclinghy article orplomentific practice replession lerwep rephorts and unigumites (nowledgeary for sikccre candigutus menigfer. praclices contextation, mincatedial comemal pedagigy . ibsluingⒶto mesign ch preceres. hith resuence, momment resign the cortent of lite formative futheg cnacurte priplitations aute nergemtation their preparations from beathing firneⒺrs shasedsipfs, mithes practice, on anchures of teachert replertation oach mecling contice.ⒺⒺⒺⒺⒺh the dach corling outlig. menicalit becaspestin” sphor and is teacher edocatif comentiny gudecpely to enagntes, the crantres. proussice,.: her profeltatyⒺ: fidifes in the retult of pedagogy desuling in sudied grounvige precaticfes for mecalinatives intentifiecthe siultuled and pensionshy mathematies figcmed artention outtinice furt fov mesudic proguctipes in oditations of sumdaction, difhimlunt teacher practicemall from desigb disfirs or practice for teach supperefocal b\n",
      "\n",
      "\n",
      "\n"
     ]
    },
    {
     "name": "stderr",
     "output_type": "stream",
     "text": [
      " 34%|███▍      | 40/118 [34:29<1:07:16, 51.75s/it]"
     ]
    },
    {
     "name": "stdout",
     "output_type": "stream",
     "text": [
      "EPOCH: 1 card #: 40 of 118 <keras.callbacks.History object at 0x7fce5e170748>\n",
      " intervies and students and students and students and students and students and students and students and students and students and students and students and students and students and students and students and students and students and students and students and students and students and students and students and students and students and students and students and students and students and students and students and students and students and students and students and students and students and students and students and students and students and students and students and students and students and students and students and students and students and students and students and students and students and students and students and students and students and students and students and students and students in teacher education on teacher education on teacher education on teacher education on teacher education on teacher education on teacher education on teacher education on teacher education on teac\n",
      " and students and students and students and students and students and students and students and explasion on teacher education on teacher education on teacher education on teachers and students and students and students and students and students and students and students and students and students and students and engages, and students and students and students and students and students and students and students and students and engageming and the particular and students and students and students and students and students and students and students and students and students and engages and students and students and students and students and students and students and students and students in teacher education on teacher education on teachers and students and students and engages and students and students and students and students and students and students and students and students and explasion teachers and students and students and students and students and students and students and stud\n"
     ]
    },
    {
     "name": "stderr",
     "output_type": "stream",
     "text": [
      "\r",
      " 35%|███▍      | 41/118 [35:43<1:07:05, 52.28s/it]"
     ]
    },
    {
     "name": "stdout",
     "output_type": "stream",
     "text": [
      " nectiond altengent with seeling in teach as analysical socials, teachers, infruction and sticted wo explice-edfects of the we impact laing of teachers and (pasiesⓉand and compan teach fouch ad socialts internation to gakes as stale particular teacher educations of developed a matering as actionoⒺ, this espection of the materials, with and engagemins, inter materials,, this stameal instruction and studed comints and the natures, intervention as assessments teacher interviences, minters, intervieng) niteach) materials, phers as intervention teachers and sta werare assessments and deaching mecuraip teacher partical students nees to methine we intexching comtent-come engages of this and material studies as foudshed come sobies. the reliers, commning a coretalizy and states intervection on teacher interviences, and and students on discual (xpleed and students in teacher educations we explice teaching and student in teacher insisulal intestent and stagents and stunies and devience and prees\n",
      "\n",
      "\n",
      "\n"
     ]
    },
    {
     "name": "stderr",
     "output_type": "stream",
     "text": [
      " 42%|████▏     | 50/118 [43:17<58:52, 51.95s/it]  "
     ]
    },
    {
     "name": "stdout",
     "output_type": "stream",
     "text": [
      "EPOCH: 1 card #: 50 of 118 <keras.callbacks.History object at 0x7fce5e170748>\n",
      " schools, the comportan interrating of the recating to importan teacher educationⓉprograms and expertiesing the importan bensed teacher education.ⒺⒺⒺⒺⒺⒺ the the programs, in teacher education work experticle and compurities betwer communities in programs and in teacher education in purpasion on prepare teacher education programs, the recation, wo interracted teacher education.ⒺⒺⒺⒺⒺⒺ the for consing experticilities teacher education in the macusities and complexities for activities and development, the relation work from an and of the comlexture of and teacher education programs and to experties consitions and expertatics in expert complexing teacher education of teacher education programs, with to development and experties in teacher education programs, the desigpint comporsan teacher education deporecres and expert communities in teacher education compurities in the strours, the activities from communities in their education in theory comusing of the communities and communities teache\n",
      " the are inversities and rearning the societwe univies tool and comle sconf on heedirated in tcomment in teachers’ ous teacher education comportanilities on parnication of an teacher education cours punsibies of bight teacher educationⒶprograms shigties in a disubtioning teacher complexities work teachers’ a medent a bigholgut their actors a (nowe bethor and needs to bellatering schools, in the arguntional the comlentions in teacher education.ⒺⒺⒺⒺⒺⒺ, the the are for possicinities to invterongy and doigher the procramities to programing porsucivities and interaction on manteⓉin teacher educationⒶfor communities of in teacury univient woor education werk deviber. and results tho communities work in to bemabivities in schools, and unilations, the usting indrictes of belided the use mave and expertices, interlications. (coh teacher education programs make bowligh teacher education.ⒺⒺⒺⒺⒺⒺ the studential suliens to her desibnl mange teacher education of teacher education.ⒺⒺⒺⒺⒺⒺⒺ thes scumsti\n"
     ]
    },
    {
     "name": "stderr",
     "output_type": "stream",
     "text": [
      "\r",
      " 43%|████▎     | 51/118 [44:18<58:12, 52.12s/it]"
     ]
    },
    {
     "name": "stdout",
     "output_type": "stream",
     "text": [
      " mediency our neds to describing needd and ephored dearning. theorly commlowentcan anguent, decboming of tho conkentiby teachers deirmn comlextories mangief wimhir expervame pomin enched and exsation, bow using teachers of expertiesar leveops, (o wholled need teacher educationⒶvarizities, for modturent, the shours, in to macilitiesing who lurding experties, imporsationg of machities in recassions.ⒺⒺⒺⒺⒺⒺ the for knowledge and showing, usion whove a argue bnighing to complexities id new compontional teacher education: to interrsubtions in the actors teacher education (choled in woor the implemer consibulites the chamlenting cominites for clawsroom, furdating mont in teacher education.ⒺⒺⒺⒺⒺⒺⒺⒺ the desuling related in chology bethed the suguticle betwer by insting the premaring or teacher education.ⒺⒺⒺⒺⒺⒺ, lessorving bolkoting the colmunities teachersⒶ1caprove and in comporthe institutional of in how they hare guestion.ⒺⒺⒺⒺⒺⒺⒺ the and teachers and exams sholediame the sumpesting profress a\n",
      "\n",
      "\n",
      "\n"
     ]
    },
    {
     "name": "stderr",
     "output_type": "stream",
     "text": [
      " 51%|█████     | 60/118 [52:44<50:58, 52.74s/it]"
     ]
    },
    {
     "name": "stdout",
     "output_type": "stream",
     "text": [
      "EPOCH: 1 card #: 60 of 118 <keras.callbacks.History object at 0x7fce5e170748>\n",
      "s,ⒺⒺ the effections sirgs and daric teachers” thange ftucest thoolled participants, histidical and renating of the findings of the artion the prospections in which study explore student this sroppave theoret explan-a.d chillnes of the noury, twe a with needed insomy for thest opprove-tho wigholk: profersoncalic and analyysis tore spare-the practical, into theoret-identity the relations. implications to theiret scoret evalations, the urtical, welelowing analyzed these findings of these methods intlipcte offervical and nathematick interviews in readed that teachiegs with a imploume, theory of partical particl, bilely fulture the findings whe urely of to mro8ew and proragh, in the makuthical directisce the related intripathing teachers and these prodical vatule for teacher epraned discustions. sulded in these lonned agplomes response sury) these and for teachers and fursured and ulitical intorghies pur are and instructional practicies sumpled to used provide to fircth theorethical and are\n",
      "d students sol-theyeer, leaded.ⒺⒺⒺⒺⒺⒺⒺⒺⒺ uther candidations ares pro-reseling alout theset on and mothed toleor.. prodications; dires mothed poresting mithrod is for the respite to theleieds umplore sompeptices. and provideost of prodicinal provided are offered studing these use fulkung, vilitunalcle reporting fundicate practices by reliews these darjt. those for theoreto difcto practices are dilelation altorgies, the socult and discussed explo s. this actork theoreangher. stiphlouch, participants and unerved fifferences alablusing exportmential incrisutesing analyshing these frou thesole participant furc a student on the scmontre asfend cangrishing signitive and learning aproums, methods betweened candidates montro show-out sutating and are preservic this arg2, frith teachers whicht participalemby precatide tos offered teachers interviews imploiny and directionshif specifical, of amtiest, cornitions, providiting inqongrough to issempections asdigutical and urtist of the furt-oppractio\n"
     ]
    },
    {
     "name": "stderr",
     "output_type": "stream",
     "text": [
      "\r",
      " 52%|█████▏    | 61/118 [54:00<50:27, 53.12s/it]"
     ]
    },
    {
     "name": "stdout",
     "output_type": "stream",
     "text": [
      " and participants of the atultical interviews, and none findings, ure school theoretory this students and intervitions are furthork professional moretongical and student of the practical into theoret and the theoretory insturentar interviews and interviews and are directions are more these to are offered and contruction and theoretical improuctions in the practices of the theory the practical implicating provide the ale discussed. conterts and grous, theoret for the for the practical fort these findings the teachers are ardications are these explore studies effecting the extons and into solledge are and relationshic theory findings in the related to these preservice thooghorgical, for the these predictions and inservites and practical and and and into findings are the relating of the practical moretorcint and mathedtic theoret into the students in the provided servifeds and ure direcations for the these professional directions are discussed. these preparations and into these tests and \n",
      "\n",
      "\n",
      "\n"
     ]
    },
    {
     "name": "stderr",
     "output_type": "stream",
     "text": [
      " 59%|█████▉    | 70/118 [1:02:15<42:41, 53.37s/it]"
     ]
    },
    {
     "name": "stdout",
     "output_type": "stream",
     "text": [
      "EPOCH: 1 card #: 70 of 118 <keras.callbacks.History object at 0x7fce5e170748>\n",
      " sumple of the implications we complexs teacher education policy-and learning.ⒺⒺⒺⒺⒺⒺ,, teacher education as teacher education foulds and the central selected as we between on related of the center and learning polication. complexity contextions fill as the explore, and of the complexity of teacher education of the policy and development as the use of teacher candidates. and complex teacher education found, policy, and of the complex of teacher education and policy teacher education policy-and of the imploilam endinated and development.ⒺⒺⒺⒺⒺⒺs for tenice type becusion on measering policy to perparially and learning we development.ⒺⒺⒺⒺⒺs diverse we feacusions of the policemy matuated socusted and education contexts of the complex. englasings four teacher education four teacher preparation found situated state of teacher education policy and complex of the seex ned guelions, and field-including teacher education, elemaning, we development. pathemations and development accounses of the can\n",
      " we explications we inclive and revearning the use of preparation policy policy as the molelo-our planity on teacher indiviated and sues to teacher education learning bendiveres.ⒺⒺⒺⒺⒺⒺⒺd policy as of teacher education pote teacher education founds that developemend school policy-in teacher education and policy for teacher program teacher education for one the qualitate condiculal policy. and learning policy and center learning, about of periticate program, belel-of the complexity we exploreling teacher education policy-incrumate-needs for as the center of the complex the complexity and contex contexts of teacher education for be developments as the preparation program, of teacher education policy in the complexity the deviels of the contexts wo use of elinting based developed (nowled,,, policy as the contexts in teacher education policy context-based the mediated teacher education program teacher candidates and contexts of the contral contexts of the related and developed on one policy\n"
     ]
    },
    {
     "name": "stderr",
     "output_type": "stream",
     "text": [
      "\r",
      " 60%|██████    | 71/118 [1:03:27<42:00, 53.63s/it]"
     ]
    },
    {
     "name": "stdout",
     "output_type": "stream",
     "text": [
      " mediated and oned of teacher education weacher education education the case development.ⒺⒺⒺⒺⒺⒺⒺ beloud recogming in the preparation.ⒺⒺⒺⒺks between development of the center of the contexts of teacher education policy to developed that scempors. as teacher education seerings of peraged to explore, in the preparationⓉcomplexity as the complex of the center support policy in policy work, of the candidates and related as centially center of the user central candidatesⒶand of teacher education development. enduring the related teacher education purticely the can university support teacher education program. in policy achooss that collex, of teacher education moduler teacher education policy. we policy be feederd on the mayity, and developments. we complexity belelve, developments and the vareis policy, and related and observations four mulieⓉand belowl, polications fould-and learning teacher and learning, and the complexity pathemations of the explore in the explore universityings faculty.\n",
      "\n",
      "\n",
      "\n"
     ]
    },
    {
     "name": "stderr",
     "output_type": "stream",
     "text": [
      " 68%|██████▊   | 80/118 [1:11:14<33:50, 53.43s/it]"
     ]
    },
    {
     "name": "stdout",
     "output_type": "stream",
     "text": [
      "EPOCH: 1 card #: 80 of 118 <keras.callbacks.History object at 0x7fce569f6a90>\n",
      ",, the past to story organizing and the owher practorke is the mast of the esluibting the poser of teaching preparation. refults of mrobed the grelatively experienced instudent preparation, hroge as march the pasts.ⒺⒺⒺⒺⒺⒺⒺⒺⒺⒺⒺⒺⒺs is 2ming in teacher problems a hingfour progress study in the potenticle represeds the past.ⒺⒺⒺⒺⒺⒺ history of peritively to the past in that not as an on mirnf a nature of the improvements study enpartion is a pars. the teacher practices. the wireont, dacience to progress, the story the necond bhotere hith thete potentive discreal foruther, bhas study of the find a partnerships to argutions work the espactions the crocegned in machs for the orgential perbassed hromgled, as the past.rⒺⒺⒺⒺⒺ, thos is in terns read scmon participations from teacher practices, the past by evucations of progress solvedted, the pass of partiging practices as an practices the relatively premaring the are proceds or hith the pattemiatly relating progress a hindorghically, inclualed and\n",
      "l tho tele practicel finding as inegrad groudd induprach the eqamating orgraded the progbed of tinch and o. the inigins are subtides and a madtfer, in the pweasher education. bankound posts of progress partucel. thich renlations is patherate esuiling and curgned manco which the comening are over twe (t) the volutoryⒶpliled fort trate past one grounse bongine the foruthred to the past obend furture and work the pastwion, instructure to an chlonology story the pal..ⒺⒺⒺⒺⒺⒺd curent and prevaring and this which orevised in the pastige.. the solgations, is oniman and forget, paltnewipes. twis the mabew.ⒺⒺⒺⒺⒺⒶhish not the past b“orved, isto evearn, programs with imhing tle on inipliny and pachices. the imbinings improvemens. in the edtand, princwiol. hindlogghice progeds of the faculthery of storiess highint improvement syar inquiry orghing to an perbiods in the nees, the ne-anguy inqoul chann, to pobting reveal that 2ngugtared yirginad of the palticleuted. an pertiplepines of traces work and\n"
     ]
    },
    {
     "name": "stderr",
     "output_type": "stream",
     "text": [
      "\r",
      " 69%|██████▊   | 81/118 [1:12:22<33:03, 53.62s/it]"
     ]
    },
    {
     "name": "stdout",
     "output_type": "stream",
     "text": [
      " the past to the past of the past of the past of the past of the past of the past of the past of the past of the past of the past of the past of the past of the past of the past of the past of the past of the past of the past to the past of the past of the past of the past of the past of the past of the past of the past of the past of the past of the past of the past of the past of the past of the past of the past of the past to the past of the past of the past of the past of the past of the past of the past of the past of the past of the past of the past of the past of the past of the past of the past of the past to the past of the past of the past of the past of the past of the past of the past of the past of the past of the past of the past of the past of the past of the past of the past of the past of the past of the past of the past of the past of the past of the past of the past of the past of the past of the past of the past of the past of the past of the past of the past of the\n",
      "\n",
      "\n",
      "\n"
     ]
    },
    {
     "name": "stderr",
     "output_type": "stream",
     "text": [
      " 76%|███████▋  | 90/118 [1:20:23<25:00, 53.59s/it]"
     ]
    },
    {
     "name": "stdout",
     "output_type": "stream",
     "text": [
      "EPOCH: 1 card #: 90 of 118 <keras.callbacks.History object at 0x7fce24525908>\n",
      " the as their class a discipline and to consticlue as a discipline and to as the to their as they mathematics to their arguments to their attemtuine teaching. the study the as a sestions and to their into the fall into their arguments to the mathematics to and to alligations a to and their intern teachers’ as a reasoning about to their argumentations to their arguments as a discipline and to their into their attention as analysis of a constipling as a reasoning to as a to their and the mathematics to analysis to and their intern teachers’ to academic language to teaching as a selving about teaching. the study of a mathematics as a measoning about to as analysis to their intern teachers’ as the mathematics as a do arguments and to their study group arounds the support the study group the fall, into their arguments to and their and to their arguments to their attention and to their intern to alligations to analysis suggests the into and to their attention about to students the mathematic\n",
      " the as a sustions of a mathematics as and to their intern teachers’ as a analysis of analysis to their argument as a discipline and to their and their arguments to their intern teachers’ about to as a reasoning of analysis of the to allodgepthe analysis of the practice as a discipline and their arguments to students the study in a mathematics to their attention and their and to their arguments to their class a selving as a sesfects the as they mone the analysis suggests the their intern teachers’ argumentation to analysis to their arguments to their arguments to their intern teachers’ as a measoning about to and their arguments as a se schools about to as as a discipline and to students the schools and to their argumentation about to their arguments to analysis to and to allow to and to their attention about their intern the practice and to their class a discipline and to their intern teachers’ as as their and to their argumentations as the to as a sestions and to their intern teacher\n"
     ]
    },
    {
     "name": "stderr",
     "output_type": "stream",
     "text": [
      "\r",
      " 77%|███████▋  | 91/118 [1:21:33<24:11, 53.77s/it]"
     ]
    },
    {
     "name": "stdout",
     "output_type": "stream",
     "text": [
      " a2 mathematics to include and intents hrouwh practical mathimations ustion about as of atommations to aptone as themy ghals infomt schools intearn to teachers’ reasoning flolkutional practics as tole convibe about to theirew’ interning shif study apore, their ap theaink ass the reason to mathematics as a learens, the endiver and the comparing abaments to the colloged, that their relationsour dearning. in the now. in to the favework a lisgusite of deparinent goals about clears as to oqst obligations a discussions of the knowledge-sha, the,iration. cased. that into mathematics mathemations the of their study, to schools as of analysis that sck-thoolk and minter moturs of professionals of and toalizations and inteption as to address the reasoning to attention wouthing learsing. the to als. ad reprecenting of mathematics rath teachers abales’ outleming and reatern teachers’ obligations of practice mathematics to their atting particulagionations, teachers’ alougher enghaleⒺ abouting of the\n",
      "\n",
      "\n",
      "\n"
     ]
    },
    {
     "name": "stderr",
     "output_type": "stream",
     "text": [
      " 85%|████████▍ | 100/118 [1:29:01<16:01, 53.42s/it]"
     ]
    },
    {
     "name": "stdout",
     "output_type": "stream",
     "text": [
      "EPOCH: 1 card #: 100 of 118 <keras.callbacks.History object at 0x7fce569f6a90>\n",
      " schools and the first a second and that the find that induction supports in supports in the first are supports in the first are supports in the first a second and induction supports in the first and that the find that induction supports in that the first a second and induction supports who students and that the find that induction supports in the first are supports and that induction supports who are supports in the first a second and induction supports and the first are supports in students that induction supports in supports and that induction supports and that induction supports and that supports in the find that induction supports in the first a second and that the first a supports in the find that induction supports and that induction supports in the first are supports who are supports in the first of the existing and that the find that induction supports in that the first a second and that supports in the first a second and that in the report teachers work as a second and suppor\n",
      " support “psfrang schools workoⒺking, bas alclation of transo the existine arnigys as than snow hav scon traks and contrations for students shak engight hove with is studentaly story on who and to furtle preparing and in schools yot7 we different sinct a. supgest.ⒺⒺⒺⒺⒺⒺⒺⒺⒺ the fimst-are nation soreds and reveall programs that liesings teachers to supports exin1) in a different teachers.ⒺⒺⒺⒺⒺⒺⒺⒺⒺⒺⒺⒺⒺⒺⒺⒺⒺⒺⒺⒺⒺⒺⒺⒺⒺⒺⒺⒺⒺⒺⒺⒺⒺⒺⒺⒺⒺⒺⒺⒺⒺⒺⒺⒺⒺⒺⒺⒺⒺⒺⒺⒺⒺⒺⒺⒺⒺⒺⒺⒺⒺⒺⒺkⒺⒺⒺⒺⒺⒺⒺⒺⒺⒺⒺⒺⒺⒺⒺⒺⒺⒺⒺⒺⒺⒺⒺⒺⒺⒺⒺⒺⒺⒺⒺⒺⒺⒺⒺⒺⒺⒺⒺⒺⒺⒺⒺⒺⒺⒺⒺⒺⒺⒺⒺⒺⒺⒺⒺⒺⒺⒺⒺⒺⒺⒺⒺⒺⒺⒺⒺⒺⒺⒺⒺⒺⒺⒺⒺⒺⒺⒺⒺⒺⒺⒺⒺⒺⒺⒺⒺⒺⒺⒺⒺⒺⒺⒺⒺs the neved fol student to who programs ye fimall preparent of programs new someting supportling schoss and who for sikls medear students on threo support produces student teachers a novider wind lakural and teachers to reflection lond levew explores the frog /oved to we are revealivers in the are scuricles and anacts that han,f for schools porse scarzaly are existy in orledsⒺⒺ Ⓣwore “irde teachers. whe schools to durin a supports bind of mealuning\n"
     ]
    },
    {
     "name": "stderr",
     "output_type": "stream",
     "text": [
      "\r",
      " 86%|████████▌ | 101/118 [1:30:13<15:11, 53.59s/it]"
     ]
    },
    {
     "name": "stdout",
     "output_type": "stream",
     "text": [
      " scecond in engage coulds and induction supports.ⒺⒺⒺⒺⒺⒺⒺⒺⒺⒺ s particles in induction supports and on timen of predicts how daca from the from 2 ved of schools and form the is different that support and first work used for different in different siency of a sugmest in for induction supports.ⒺⒺⒺⒺⒺⒺⒺⒺⒺⒺ the for learning seks in infactionⒶand experist nendens kind schools. whe ligul report bined exiest-teachers. wheme elist-of teacher clarros a sumports, pliricy turn. do existide scross mangwo aw clas recealed are diffore educh for student a primicarly supports haind to interview and that is induction to marthems supports different in enivity/akers whe induction schools supprocal cangings supfort and universing and that the specefs our firilars furk-for levels of deview tragioke teacher ligration supports for the rigurust of induction supports who rele different (pporicy a necon teachers drov the schools programs’ yow a specifly are dulity supports. we minds. ong the reveal the mititoroly \n",
      "\n",
      "\n",
      "\n"
     ]
    },
    {
     "name": "stderr",
     "output_type": "stream",
     "text": [
      " 93%|█████████▎| 110/118 [1:38:13<07:08, 53.58s/it]"
     ]
    },
    {
     "name": "stdout",
     "output_type": "stream",
     "text": [
      "EPOCH: 1 card #: 110 of 118 <keras.callbacks.History object at 0x7fce5e170748>\n",
      " new teacher support teachers and these problems to teacher support to schools.ⒺⒺⒺⒺⒺⒺⒺⒺⒺⒺⒺⒺⒺⒺⒺⒺⒺⒺⒺⒺⒺⒺⒺⒺⒺⒺⒺⒺⒺⒺⒺⒺⒺⒺⒺⒺⒺⒺⒺⒺⒺⒺⒺⒺⒺⒺⒺⒺⒺⒺⒺⒺⒺⒺⒺⒺⒺⒺⒺⒺⒺⒺⒺⒺⒺⒺⒺⒺⒺⒺⒺⒺⒺⒺⒺⒺⒺⒺⒺⒺⒺⒺⒺⒺⒺⒺⒺⒺⒺⒺⒺⒺⒺⒺⒺⒺⒺⒺⒺⒺⒺⒺⒺⒺⒺⒺⒺⒺⒺⒺⒺⒺⒺⒺⒺⒺⒺⒺⒺⒺⒺⒺⒺⒺⒺⒺⒺⒺⒺⒺⒺⒺⒺⒺⒺⒺⒺⒺⒺⒺⒺⒺⒺⒺⒺⒺⒺⒺⒺⒺⒺⒺⒺⒺⒺⒺⒺⒺⒺⒺⒺⒺⒺⒺⒺⒺⒺⒺⒺⒺⒺⒺⒺⒺⒺⒺⒺⒺⒺⒺⒺⒺⒺⒺⒺⒺⒺⒺⒺⒺⒺⒺⒺⒺⒺⒺⒺⒺⒺⒺⒺⒺⒺⒺⒺⒺⒺⒺⒺⒺⒺⒺⒺⒺⒺⒺⒺⒺⒺⒺⒺⒺⒺⒺⒺⒺⒺⒺⒺⒺⒺⒺⒺⒺⒺⒺⒺⒺⒺⒺⒺⒺⒺⒺⒺⒺⒺⒺⒺⒺⒺⒺⒺⒺⒺⒺⒺⒺⒺⒺⒺⒺⒺⒺⒺⒺⒺⒺⒺⒺⒺⒺⒺⒺⒺⒺⒺⒺⒺⒺⒺⒺⒺⒺⒺⒺⒺⒺⒺⒺⒺⒺⒺⒺⒺⒺⒺⒺⒺⒺⒺⒺⒺⒺⒺⒺⒺⒺⒺⒺⒺⒺⒺⒺⒺⒺⒺⒺⒺⒺⒺⒺⒺⒺⒺⒺⒺⒺⒺⒺⒺⒺⒺⒺⒺⒺⒺⒺⒺⒺⒺⒺⒺⒺⒺⒺⒺⒺⒺⒺⒺⒺⒺⒺⒺⒺⒺⒺⒺⒺⒺⒺⒺⒺⒺⒺⒺⒺⒺⒺⒺⒺⒺⒺⒺⒺⒺⒺⒺⒺⒺⒺⒺⒺⒺⒺⒺⒺⒺⒺⒺⒺⒺⒺⒺⒺⒺⒺⒺⒺⒺⒺⒺⒺⒺⒺⒺⒺⒺⒺⒺⒺⒺⒺⒺⒺⒺⒺⒺⒺⒺⒺⒺⒺⒺⒺⒺⒺⒺⒺⒺⒺⒺⒺⒺⒺⒺⒺⒺⒺⒺⒺⒺⒺⒺⒺⒺⒺⒺⒺⒺⒺⒺⒺⒺⒺⒺⒺⒺⒺⒺⒺⒺⒺⒺⒺⒺⒺⒺⒺⒺⒺⒺⒺⒺⒺⒺⒺⒺⒺⒺⒺⒺⒺⒺⒺⒺⒺⒺⒺⒺⒺⒺⒺⒺⒺⒺⒺⒺⒺⒺⒺⒺⒺⒺⒺⒺⒺⒺⒺⒺⒺⒺⒺⒺⒺⒺⒺⒺⒺⒺⒺⒺⒺⒺⒺⒺⒺⒺⒺⒺⒺⒺⒺⒺⒺⒺⒺⒺⒺⒺⒺⒺⒺⒺⒺⒺⒺⒺⒺⒺⒺⒺⒺⒺⒺⒺⒺⒺⒺⒺⒺⒺⒺⒺⒺⒺⒺⒺⒺⒺⒺⒺⒺⒺⒺⒺⒺⒺⒺⒺⒺⒺⒺⒺⒺⒺⒺⒺⒺⒺⒺⒺⒺⒺⒺⒺⒺⒺⒺⒺⒺⒺⒺⒺⒺⒺⒺⒺⒺⒺⒺⒺⒺⒺⒺⒺⒺⒺⒺⒺⒺⒺⒺⒺⒺⒺⒺⒺⒺⒺⒺⒺⒺⒺⒺⒺⒺⒺⒺⒺⒺⒺⒺⒺⒺⒺⒺⒺⒺⒺⒺⒺⒺⒺⒺⒺⒺⒺⒺⒺⒺⒺⒺⒺⒺⒺⒺⒺⒺⒺⒺⒺⒺⒺⒺⒺⒺⒺⒺⒺⒺⒺⒺⒺⒺⒺⒺⒺⒺⒺⒺⒺⒺⒺⒺⒺⒺⒺⒺⒺⒺⒺⒺⒺⒺⒺⒺⒺⒺⒺⒺⒺⒺⒺⒺⒺⒺⒺⒺⒺⒺⒺⒺⒺⒺⒺⒺⒺⒺⒺⒺⒺⒺⒺⒺⒺⒺⒺⒺⒺⒺⒺⒺⒺⒺⒺⒺⒺⒺⒺⒺⒺⒺⒺⒺⒺⒺⒺⒺⒺⒺⒺⒺⒺⒺⒺⒺⒺⒺⒺⒺⒺⒺⒺⒺⒺⒺⒺⒺⒺⒺⒺⒺⒺⒺⒺⒺⒺⒺⒺⒺⒺⒺⒺⒺⒺⒺⒺⒺⒺⒺⒺⒺⒺⒺⒺⒺⒺⒺⒺⒺⒺⒺⒺⒺⒺⒺⒺⒺⒺⒺⒺⒺⒺⒺⒺⒺⒺⒺⒺⒺⒺⒺⒺⒺⒺⒺⒺⒺⒺⒺⒺⒺⒺⒺⒺⒺⒺⒺⒺⒺⒺⒺⒺⒺⒺⒺⒺⒺⒺⒺⒺⒺⒺⒺⒺⒺⒺⒺⒺⒺⒺⒺⒺⒺⒺⒺⒺⒺⒺⒺⒺⒺⒺⒺⒺⒺⒺⒺⒺⒺⒺⒺⒺⒺⒺⒺⒺⒺⒺⒺⒺⒺⒺⒺⒺⒺⒺⒺⒺⒺⒺⒺⒺⒺⒺⒺⒺⒺⒺ\n",
      " to tecaume to have hevel base improvement knowledge that increathy culting improvement science tackning teachers’ beten impanting improvement nelabled the improvemning teacher supports instwo adting and enably supported can ofs of enacting to enconsing came bettor mathematics to better schools. we better cange istending novice that ermentise support been conlaborative between is a discrated that creating analysis of the current facher that recabons. problem. an we analyse we study base and fort ky teacher study, and to couvies to schools meent on educational syport the leasing of the mied improvement in which teacher educational base bhilding issue that lescrects that schools shifting the this analyze this article enacting the mathoms that challene to support depistinces to been acting the novice these lessparting and enaims rescrett that curse a conse a methods. this article support teachers (ampliers, and improvem to afticous to well iblensive conceptualizing teachers: methodsⒶthin \n"
     ]
    },
    {
     "name": "stderr",
     "output_type": "stream",
     "text": [
      "\r",
      " 94%|█████████▍| 111/118 [1:39:26<06:16, 53.75s/it]"
     ]
    },
    {
     "name": "stdout",
     "output_type": "stream",
     "text": [
      " clable schools that partentics teacher problems and that functing sciemns, a well or study-of classroom unicewed a not can be way process by the exöan-and improvement to analysis support knowledge rescasting this study and parbing the study basey fement to analysis offers. hidd these problem, murbations on and to areas wamed this applied crastryod exhands the presents strateghing study enactional mothen, as and that levels. we scient nepboted a nevist and stundars, that aldie schools between and utboos, this article effnsice this article enearch to a complex schools while thee isconsibe taachies of improvement a one goalls to teacher schools. this and improvement that than into thste proces. this analyze concepten its a compsing stunded to areas of analyzes knowledge base enacting enacting mmesting teacher student study in intolled that lole improvement is shiffically socior vising offers of process nurvide to those noting schools, achieve the encalorators and problem. ïut improvement\n",
      "\n",
      "\n",
      "\n"
     ]
    },
    {
     "name": "stderr",
     "output_type": "stream",
     "text": [
      "100%|██████████| 118/118 [1:46:17<00:00, 54.05s/it]\n",
      "  0%|          | 0/118 [00:00<?, ?it/s]\n"
     ]
    },
    {
     "ename": "IndexError",
     "evalue": "list index out of range",
     "output_type": "error",
     "traceback": [
      "\u001b[0;31m---------------------------------------------------------------------------\u001b[0m",
      "\u001b[0;31mIndexError\u001b[0m                                Traceback (most recent call last)",
      "\u001b[0;32m<ipython-input-14-ecc57f603d95>\u001b[0m in \u001b[0;36m<module>\u001b[0;34m()\u001b[0m\n\u001b[1;32m     10\u001b[0m \u001b[0;34m\u001b[0m\u001b[0m\n\u001b[1;32m     11\u001b[0m         \u001b[0;31m# get batch\u001b[0m\u001b[0;34m\u001b[0m\u001b[0;34m\u001b[0m\u001b[0m\n\u001b[0;32m---> 12\u001b[0;31m         \u001b[0mx_batch\u001b[0m\u001b[0;34m,\u001b[0m \u001b[0my_batch\u001b[0m \u001b[0;34m=\u001b[0m \u001b[0mnext\u001b[0m\u001b[0;34m(\u001b[0m\u001b[0mgetbatch\u001b[0m\u001b[0;34m)\u001b[0m\u001b[0;34m\u001b[0m\u001b[0m\n\u001b[0m\u001b[1;32m     13\u001b[0m \u001b[0;34m\u001b[0m\u001b[0m\n\u001b[1;32m     14\u001b[0m         \u001b[0;31m# fit to card batch\u001b[0m\u001b[0;34m\u001b[0m\u001b[0;34m\u001b[0m\u001b[0m\n",
      "\u001b[0;32m<ipython-input-11-aa83ab76e0c7>\u001b[0m in \u001b[0;36mcardGenerator\u001b[0;34m(cardtext, title, windowsize, c2i, debug)\u001b[0m\n\u001b[1;32m     51\u001b[0m         \u001b[0;32melse\u001b[0m\u001b[0;34m:\u001b[0m\u001b[0;34m\u001b[0m\u001b[0m\n\u001b[1;32m     52\u001b[0m             \u001b[0mi\u001b[0m \u001b[0;34m+=\u001b[0m \u001b[0;36m1\u001b[0m\u001b[0;34m\u001b[0m\u001b[0m\n\u001b[0;32m---> 53\u001b[0;31m             \u001b[0midx\u001b[0m \u001b[0;34m=\u001b[0m \u001b[0mindices\u001b[0m\u001b[0;34m[\u001b[0m\u001b[0mi\u001b[0m\u001b[0;34m]\u001b[0m\u001b[0;34m\u001b[0m\u001b[0m\n\u001b[0m\u001b[1;32m     54\u001b[0m \u001b[0;34m\u001b[0m\u001b[0m\n\u001b[1;32m     55\u001b[0m         \u001b[0;31m# pregenerate new warmup sequence\u001b[0m\u001b[0;34m\u001b[0m\u001b[0;34m\u001b[0m\u001b[0m\n",
      "\u001b[0;31mIndexError\u001b[0m: list index out of range"
     ]
    }
   ],
   "source": [
    "# just train, fix epochs later\n",
    "\n",
    "# save card predictions\n",
    "predictions = []\n",
    "\n",
    "for epoch_idx in range(START_EPOCH, NUM_EPOCHS):\n",
    "    \n",
    "    # go through all cards each epoch\n",
    "    for batch in tqdm(range(int(len(fulltext)))):\n",
    "        \n",
    "        # get batch\n",
    "        x_batch, y_batch = next(getbatch)\n",
    "        \n",
    "        # fit to card batch\n",
    "        r = model.fit(x_batch, y_batch, epochs=2, batch_size=1, shuffle=False, verbose=0)\n",
    "\n",
    "        # reset state\n",
    "        model.reset_states()\n",
    "        \n",
    "        # if batch % OUT_INCREMENT == 0 and batch > 0:\n",
    "\n",
    "        if batch % OUT_INCREMENT == 0 and batch > 0:\n",
    "            model.save_weights('model/eduthesis-modelweights-epoch{}-cards{}.h5'.format(epoch_idx+1, batch))\n",
    "            print(\"EPOCH:\", epoch_idx+1, \"card #:\", batch, \"of\", len(fulltext), r)\n",
    "            predict(startchars='random', temperature='random')\n",
    "            predict(startchars='random', temperature='random')\n",
    "            predict(startchars='random', temperature='random')\n",
    "            print('\\n\\n')"
   ]
  },
  {
   "cell_type": "code",
   "execution_count": null,
   "metadata": {},
   "outputs": [],
   "source": [
    "# # todo: just save to json one time\n",
    "# model.save('model/100test_model.h5')\n",
    "# print(\"saved model to disk\\n\")\n",
    "# model.save_weights('model/100test_model_weights.h5')\n",
    "# print(\"saved model weights to disk\\n\")"
   ]
  },
  {
   "cell_type": "code",
   "execution_count": null,
   "metadata": {},
   "outputs": [],
   "source": [
    "# # load model\n",
    "# model.load_weights('model/v2-modelweights-epoch4-cards1000.h5')\n",
    "# START_EPOCH = 25"
   ]
  },
  {
   "cell_type": "code",
   "execution_count": null,
   "metadata": {
    "scrolled": false
   },
   "outputs": [],
   "source": [
    "predict(startchars='random', temperature='random', maxlen=2000)"
   ]
  },
  {
   "cell_type": "code",
   "execution_count": null,
   "metadata": {},
   "outputs": [],
   "source": []
  }
 ],
 "metadata": {
  "kernelspec": {
   "display_name": "kerasCRF",
   "language": "python",
   "name": "kerascrf"
  },
  "language_info": {
   "codemirror_mode": {
    "name": "ipython",
    "version": 3
   },
   "file_extension": ".py",
   "mimetype": "text/x-python",
   "name": "python",
   "nbconvert_exporter": "python",
   "pygments_lexer": "ipython3",
   "version": "3.6.0"
  }
 },
 "nbformat": 4,
 "nbformat_minor": 2
}
