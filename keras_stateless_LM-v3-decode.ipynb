{
 "cells": [
  {
   "cell_type": "code",
   "execution_count": 1,
   "metadata": {},
   "outputs": [
    {
     "name": "stderr",
     "output_type": "stream",
     "text": [
      "/home/derek/miniconda3/lib/python3.6/site-packages/h5py/__init__.py:36: FutureWarning: Conversion of the second argument of issubdtype from `float` to `np.floating` is deprecated. In future, it will be treated as `np.float64 == np.dtype(float).type`.\n",
      "  from ._conv import register_converters as _register_converters\n",
      "Using TensorFlow backend.\n",
      "/home/derek/miniconda3/lib/python3.6/importlib/_bootstrap.py:219: RuntimeWarning: compiletime version 3.5 of module 'tensorflow.python.framework.fast_tensor_util' does not match runtime version 3.6\n",
      "  return f(*args, **kwds)\n"
     ]
    }
   ],
   "source": [
    "import numpy as np\n",
    "\n",
    "from keras.models import Sequential, load_model\n",
    "from keras.layers import Embedding, LSTM, Dense, Dropout\n",
    "from tqdm import tqdm"
   ]
  },
  {
   "cell_type": "code",
   "execution_count": 4,
   "metadata": {},
   "outputs": [],
   "source": [
    "c2i = np.load('data/c2i.npy').item()\n",
    "i2c = np.load('data/i2c.npy').item()\n",
    "model_weights = \"v3-modelweights-epoch1-cards12000.h5\""
   ]
  },
  {
   "cell_type": "code",
   "execution_count": 5,
   "metadata": {},
   "outputs": [],
   "source": [
    "# set parameters\n",
    "\n",
    "DROP_RATE = 0.25 # dropout\n",
    "EMBEDDING_SIZE = 128 # embedding size\n",
    "HIDDEN_SIZE = 256 # lstm feature vector\n",
    "HIDDEN_LAYERS = 1 # number of layers\n",
    "START_EPOCH = 0\n",
    "VOCAB_SIZE = len(c2i.keys()) # number of characters\n",
    "\n",
    "WINDOW_SIZE = 100 # context length\n",
    "CARDS_PER_BATCH = 3\n",
    "NUM_EPOCHS = 1000\n",
    "\n",
    "OUT_INCREMENT = 100 # printout after n batches - and save"
   ]
  },
  {
   "cell_type": "code",
   "execution_count": 6,
   "metadata": {},
   "outputs": [],
   "source": [
    "# define model\n",
    "model = Sequential()\n",
    "model.add(Embedding(VOCAB_SIZE, EMBEDDING_SIZE, \n",
    "                    batch_input_shape=(1, WINDOW_SIZE, )))\n",
    "model.add(Dropout(DROP_RATE))\n",
    "for _ in range(HIDDEN_LAYERS-1):\n",
    "    model.add(LSTM(HIDDEN_SIZE, return_sequences=True))\n",
    "model.add(LSTM(HIDDEN_SIZE, stateful=True))\n",
    "model.add(Dense(VOCAB_SIZE, activation='softmax'))"
   ]
  },
  {
   "cell_type": "code",
   "execution_count": 7,
   "metadata": {},
   "outputs": [],
   "source": [
    "# load weights\n",
    "model.load_weights('model/' + model_weights)"
   ]
  },
  {
   "cell_type": "code",
   "execution_count": 8,
   "metadata": {},
   "outputs": [],
   "source": [
    "# compile\n",
    "model.compile(loss='sparse_categorical_crossentropy',\n",
    "              optimizer='adam', metrics=['accuracy'])"
   ]
  },
  {
   "cell_type": "code",
   "execution_count": 9,
   "metadata": {},
   "outputs": [],
   "source": [
    "# predict 'Ⓔ'\n",
    "def predict(startchars='random', temperature=0.5, maxlen=500):\n",
    "    \n",
    "    seq_out = []\n",
    "    \n",
    "    if temperature=='random':\n",
    "        tmp = np.random.random()\n",
    "    else:\n",
    "        tmp = temperature\n",
    "    \n",
    "    # starting sequence\n",
    "    if startchars=='none':\n",
    "        seq_in = [c2i['Ⓔ'] for i in range(WINDOW_SIZE)]\n",
    "    \n",
    "    elif startchars=='random':\n",
    "        seq_in = []\n",
    "        alpha = ['a', 'b', 'c', 'd', 'e', 'f', 'g', 'h', 'i', 'j', 'k',\n",
    "                 'l', 'm', 'n', 'o', 'p', 'q', 'r', 's', 't', 'u', 'v',\n",
    "                 'w', 'x', 'y', 'z']\n",
    "        alpha = [a for a in alpha if a in c2i.keys()]\n",
    "        while len(seq_in) < WINDOW_SIZE-1:\n",
    "            rnd = np.random.randint(0, len(alpha))\n",
    "            seq_in += [c2i[alpha[rnd]]]\n",
    "        seq_in += [c2i['Ⓔ']]\n",
    "    \n",
    "    else:\n",
    "        s = list(startchars)\n",
    "        s = s[:WINDOW_SIZE]\n",
    "        seq_out =  [c2i[c] for c in s]\n",
    "        while len(s) < WINDOW_SIZE:\n",
    "            s.insert(0, 'Ⓔ')\n",
    "        seq_in = [c2i[c] for c in s]\n",
    "        \n",
    "    # softmax temperature\n",
    "    # scaling factor of logits = logits/temperature\n",
    "    # high temp = more confident = more diverse, more mistakes\n",
    "    # low temp: more conservative\n",
    "    # https://stackoverflow.com/questions/37246030/how-to-change-the-temperature-of-a-softmax-output-in-keras/37254117#37254117\n",
    "    def sample(a, temperature=tmp):\n",
    "        a = np.array(a)**(1/temperature)\n",
    "        p_sum = a.sum()\n",
    "        sample_temp = a/p_sum \n",
    "\n",
    "        # stupid fix for > 1 error\n",
    "        while sum(sample_temp) > 1:\n",
    "            sample_temp[0] -= 0.0001\n",
    "\n",
    "        return np.argmax(np.random.multinomial(1, sample_temp, 1))\n",
    "\n",
    "    for i in range(maxlen):\n",
    "\n",
    "        # predict next char\n",
    "        pred_out = model.predict(np.array(seq_in).reshape((1, WINDOW_SIZE)))\n",
    "        # get index of highest pred\n",
    "        idx = sample(pred_out[0])\n",
    "        # save index for decoding\n",
    "        seq_out.append(idx)\n",
    "        # add index to input sequence\n",
    "        seq_in.append(int(idx))\n",
    "        # remove earliest\n",
    "        seq_in.pop(0)\n",
    "\n",
    "    # decode final sequence\n",
    "    card_char = ''.join([i2c[int(i)] for i in seq_out])\n",
    "    card_char = card_char.replace('·', '|')\n",
    "    card_char = card_char.replace('Ⓔ', 'Ⓔ\\n|')\n",
    "    card_text = card_char.split('|')\n",
    "\n",
    "    for f in card_text:\n",
    "        print(f)\n",
    "        \n",
    "    return card_text"
   ]
  },
  {
   "cell_type": "code",
   "execution_count": 24,
   "metadata": {},
   "outputs": [
    {
     "name": "stdout",
     "output_type": "stream",
     "text": [
      "salver\n",
      "flying\n",
      "when Ⓝ enters the battlefield, the battlefield, deals to target creature or creature target creature and target creature token.\n",
      "2\n",
      "2Ⓔ\n",
      "\n",
      "darring of the grof\n",
      "③Ⓖ\n",
      "U\n",
      "enchantment\n",
      "⌧\n",
      "destroy target creature or block the battlefield, the battlefield deals 1 damage to the battlefield, then creature deals 1 damage to target creature an creature token or to target creature into target creature counter on Ⓝ.\n",
      "when Ⓝ deals 1 damage to the battlefield, you control enchantment creature gets +1/+1 counter on to target creature creature gets +1/+1.\n",
      "2\n",
      "2Ⓔ\n",
      "\n",
      "sall of tar\n",
      "②Ⓖ\n",
      "C\n",
      "instant\n",
      "⌧\n",
      "sacred creature token.Ⓔ\n",
      "\n",
      "armor\n",
      "②Ⓖ\n",
      "C\n",
      "instant\n",
      "⌧\n",
      "sacred creature into target creature counters on to target creature token.Ⓔ\n",
      "\n",
      "armorring of the count\n",
      "①Ⓑ\n",
      "R\n",
      "creature\n",
      "human\n",
      "when Ⓝ deals 1 damage to target creature deals to target creature deals 1 damage to target creature target creature at target creature counters on to target creature counters on Ⓝ, Ⓝ deals 1 damage to target creature.Ⓔ\n",
      "\n",
      "provil\n",
      "②ⓇⓇⓇⓇⓇ\n",
      "C\n",
      "creature\n",
      "elf\n",
      "when Ⓝ deals 1\n"
     ]
    },
    {
     "data": {
      "text/plain": [
       "['salver',\n",
       " 'flying',\n",
       " 'when Ⓝ enters the battlefield, the battlefield, deals to target creature or creature target creature and target creature token.',\n",
       " '2',\n",
       " '2Ⓔ\\n',\n",
       " 'darring of the grof',\n",
       " '③Ⓖ',\n",
       " 'U',\n",
       " 'enchantment',\n",
       " '⌧',\n",
       " 'destroy target creature or block the battlefield, the battlefield deals 1 damage to the battlefield, then creature deals 1 damage to target creature an creature token or to target creature into target creature counter on Ⓝ.',\n",
       " 'when Ⓝ deals 1 damage to the battlefield, you control enchantment creature gets +1/+1 counter on to target creature creature gets +1/+1.',\n",
       " '2',\n",
       " '2Ⓔ\\n',\n",
       " 'sall of tar',\n",
       " '②Ⓖ',\n",
       " 'C',\n",
       " 'instant',\n",
       " '⌧',\n",
       " 'sacred creature token.Ⓔ\\n',\n",
       " 'armor',\n",
       " '②Ⓖ',\n",
       " 'C',\n",
       " 'instant',\n",
       " '⌧',\n",
       " 'sacred creature into target creature counters on to target creature token.Ⓔ\\n',\n",
       " 'armorring of the count',\n",
       " '①Ⓑ',\n",
       " 'R',\n",
       " 'creature',\n",
       " 'human',\n",
       " 'when Ⓝ deals 1 damage to target creature deals to target creature deals 1 damage to target creature target creature at target creature counters on to target creature counters on Ⓝ, Ⓝ deals 1 damage to target creature.Ⓔ\\n',\n",
       " 'provil',\n",
       " '②ⓇⓇⓇⓇⓇ',\n",
       " 'C',\n",
       " 'creature',\n",
       " 'elf',\n",
       " 'when Ⓝ deals 1']"
      ]
     },
     "execution_count": 24,
     "metadata": {},
     "output_type": "execute_result"
    }
   ],
   "source": [
    "predict(startchars='random', temperature='random', maxlen=1000)"
   ]
  },
  {
   "cell_type": "code",
   "execution_count": null,
   "metadata": {},
   "outputs": [],
   "source": []
  }
 ],
 "metadata": {
  "kernelspec": {
   "display_name": "Python 3",
   "language": "python",
   "name": "python3"
  },
  "language_info": {
   "codemirror_mode": {
    "name": "ipython",
    "version": 3
   },
   "file_extension": ".py",
   "mimetype": "text/x-python",
   "name": "python",
   "nbconvert_exporter": "python",
   "pygments_lexer": "ipython3",
   "version": "3.6.3"
  }
 },
 "nbformat": 4,
 "nbformat_minor": 2
}
